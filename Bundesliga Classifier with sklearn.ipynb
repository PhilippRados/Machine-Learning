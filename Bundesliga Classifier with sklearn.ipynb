{
 "cells": [
  {
   "cell_type": "code",
   "execution_count": 1,
   "metadata": {},
   "outputs": [],
   "source": [
    "import numpy as np\n",
    "import pandas as pd\n",
    "import matplotlib.pyplot as plt\n",
    "import seaborn as sns\n",
    "sns.set()"
   ]
  },
  {
   "cell_type": "code",
   "execution_count": 2,
   "metadata": {},
   "outputs": [],
   "source": [
    "np.random.seed(42)"
   ]
  },
  {
   "cell_type": "code",
   "execution_count": 3,
   "metadata": {},
   "outputs": [],
   "source": [
    "raw_data = pd.read_csv(\"Datasets/buli.csv\")"
   ]
  },
  {
   "cell_type": "code",
   "execution_count": 4,
   "metadata": {},
   "outputs": [
    {
     "data": {
      "text/html": [
       "<div>\n",
       "<style scoped>\n",
       "    .dataframe tbody tr th:only-of-type {\n",
       "        vertical-align: middle;\n",
       "    }\n",
       "\n",
       "    .dataframe tbody tr th {\n",
       "        vertical-align: top;\n",
       "    }\n",
       "\n",
       "    .dataframe thead th {\n",
       "        text-align: right;\n",
       "    }\n",
       "</style>\n",
       "<table border=\"1\" class=\"dataframe\">\n",
       "  <thead>\n",
       "    <tr style=\"text-align: right;\">\n",
       "      <th></th>\n",
       "      <th>Wk</th>\n",
       "      <th>Day</th>\n",
       "      <th>Date</th>\n",
       "      <th>Time</th>\n",
       "      <th>Home</th>\n",
       "      <th>xG</th>\n",
       "      <th>Score</th>\n",
       "      <th>xG.1</th>\n",
       "      <th>Away</th>\n",
       "      <th>Attendance</th>\n",
       "      <th>Venue</th>\n",
       "      <th>Referee</th>\n",
       "      <th>Match Report</th>\n",
       "      <th>Notes</th>\n",
       "    </tr>\n",
       "  </thead>\n",
       "  <tbody>\n",
       "    <tr>\n",
       "      <th>0</th>\n",
       "      <td>1.0</td>\n",
       "      <td>Fri</td>\n",
       "      <td>2019-08-16</td>\n",
       "      <td>20:30</td>\n",
       "      <td>Bayern Munich</td>\n",
       "      <td>2.7</td>\n",
       "      <td>2–2</td>\n",
       "      <td>0.9</td>\n",
       "      <td>Hertha BSC</td>\n",
       "      <td>75000.0</td>\n",
       "      <td>Allianz Arena</td>\n",
       "      <td>Harm Osmers</td>\n",
       "      <td>Match Report</td>\n",
       "      <td>NaN</td>\n",
       "    </tr>\n",
       "    <tr>\n",
       "      <th>1</th>\n",
       "      <td>1.0</td>\n",
       "      <td>Sat</td>\n",
       "      <td>2019-08-17</td>\n",
       "      <td>15:30</td>\n",
       "      <td>Freiburg</td>\n",
       "      <td>2.1</td>\n",
       "      <td>3–0</td>\n",
       "      <td>0.9</td>\n",
       "      <td>Mainz 05</td>\n",
       "      <td>24000.0</td>\n",
       "      <td>Schwarzwald-Stadion</td>\n",
       "      <td>Robert Hartmann</td>\n",
       "      <td>Match Report</td>\n",
       "      <td>NaN</td>\n",
       "    </tr>\n",
       "    <tr>\n",
       "      <th>2</th>\n",
       "      <td>1.0</td>\n",
       "      <td>Sat</td>\n",
       "      <td>2019-08-17</td>\n",
       "      <td>15:30</td>\n",
       "      <td>Leverkusen</td>\n",
       "      <td>2.7</td>\n",
       "      <td>3–2</td>\n",
       "      <td>1.2</td>\n",
       "      <td>Paderborn 07</td>\n",
       "      <td>26208.0</td>\n",
       "      <td>BayArena</td>\n",
       "      <td>Tobias Stieler</td>\n",
       "      <td>Match Report</td>\n",
       "      <td>NaN</td>\n",
       "    </tr>\n",
       "    <tr>\n",
       "      <th>3</th>\n",
       "      <td>1.0</td>\n",
       "      <td>Sat</td>\n",
       "      <td>2019-08-17</td>\n",
       "      <td>15:30</td>\n",
       "      <td>Wolfsburg</td>\n",
       "      <td>0.8</td>\n",
       "      <td>2–1</td>\n",
       "      <td>1.0</td>\n",
       "      <td>Köln</td>\n",
       "      <td>25099.0</td>\n",
       "      <td>Volkswagen Arena</td>\n",
       "      <td>Sven Jablonski</td>\n",
       "      <td>Match Report</td>\n",
       "      <td>NaN</td>\n",
       "    </tr>\n",
       "    <tr>\n",
       "      <th>4</th>\n",
       "      <td>1.0</td>\n",
       "      <td>Sat</td>\n",
       "      <td>2019-08-17</td>\n",
       "      <td>15:30</td>\n",
       "      <td>Werder Bremen</td>\n",
       "      <td>2.4</td>\n",
       "      <td>1–3</td>\n",
       "      <td>0.9</td>\n",
       "      <td>Düsseldorf</td>\n",
       "      <td>42100.0</td>\n",
       "      <td>Weserstadion</td>\n",
       "      <td>Felix Zwayer</td>\n",
       "      <td>Match Report</td>\n",
       "      <td>NaN</td>\n",
       "    </tr>\n",
       "    <tr>\n",
       "      <th>...</th>\n",
       "      <td>...</td>\n",
       "      <td>...</td>\n",
       "      <td>...</td>\n",
       "      <td>...</td>\n",
       "      <td>...</td>\n",
       "      <td>...</td>\n",
       "      <td>...</td>\n",
       "      <td>...</td>\n",
       "      <td>...</td>\n",
       "      <td>...</td>\n",
       "      <td>...</td>\n",
       "      <td>...</td>\n",
       "      <td>...</td>\n",
       "      <td>...</td>\n",
       "    </tr>\n",
       "    <tr>\n",
       "      <th>297</th>\n",
       "      <td>30.0</td>\n",
       "      <td>Sat</td>\n",
       "      <td>2020-06-06</td>\n",
       "      <td>18:30</td>\n",
       "      <td>Dortmund</td>\n",
       "      <td>1.8</td>\n",
       "      <td>1–0</td>\n",
       "      <td>0.4</td>\n",
       "      <td>Hertha BSC</td>\n",
       "      <td>NaN</td>\n",
       "      <td>Signal Iduna Park</td>\n",
       "      <td>Harm Osmers</td>\n",
       "      <td>Match Report</td>\n",
       "      <td>NaN</td>\n",
       "    </tr>\n",
       "    <tr>\n",
       "      <th>298</th>\n",
       "      <td>30.0</td>\n",
       "      <td>Sun</td>\n",
       "      <td>2020-06-07</td>\n",
       "      <td>13:30</td>\n",
       "      <td>Werder Bremen</td>\n",
       "      <td>0.8</td>\n",
       "      <td>0–1</td>\n",
       "      <td>1.8</td>\n",
       "      <td>Wolfsburg</td>\n",
       "      <td>NaN</td>\n",
       "      <td>Weserstadion</td>\n",
       "      <td>Bibiana Steinhaus</td>\n",
       "      <td>Match Report</td>\n",
       "      <td>NaN</td>\n",
       "    </tr>\n",
       "    <tr>\n",
       "      <th>299</th>\n",
       "      <td>30.0</td>\n",
       "      <td>Sun</td>\n",
       "      <td>2020-06-07</td>\n",
       "      <td>15:30</td>\n",
       "      <td>Union Berlin</td>\n",
       "      <td>1.7</td>\n",
       "      <td>1–1</td>\n",
       "      <td>0.2</td>\n",
       "      <td>Schalke 04</td>\n",
       "      <td>NaN</td>\n",
       "      <td>Stadion An der Alten Försterei</td>\n",
       "      <td>Tobias Stieler</td>\n",
       "      <td>Match Report</td>\n",
       "      <td>NaN</td>\n",
       "    </tr>\n",
       "    <tr>\n",
       "      <th>300</th>\n",
       "      <td>30.0</td>\n",
       "      <td>Sun</td>\n",
       "      <td>2020-06-07</td>\n",
       "      <td>18:00</td>\n",
       "      <td>Augsburg</td>\n",
       "      <td>2.3</td>\n",
       "      <td>1–1</td>\n",
       "      <td>1.0</td>\n",
       "      <td>Köln</td>\n",
       "      <td>NaN</td>\n",
       "      <td>WWK Arena</td>\n",
       "      <td>Benjamin Cortus</td>\n",
       "      <td>Match Report</td>\n",
       "      <td>NaN</td>\n",
       "    </tr>\n",
       "    <tr>\n",
       "      <th>302</th>\n",
       "      <td>31.0</td>\n",
       "      <td>Fri</td>\n",
       "      <td>2020-06-12</td>\n",
       "      <td>20:30</td>\n",
       "      <td>Hoffenheim</td>\n",
       "      <td>2.0</td>\n",
       "      <td>0–2</td>\n",
       "      <td>1.8</td>\n",
       "      <td>RB Leipzig</td>\n",
       "      <td>NaN</td>\n",
       "      <td>PreZero Arena</td>\n",
       "      <td>Tobias Welz</td>\n",
       "      <td>Match Report</td>\n",
       "      <td>NaN</td>\n",
       "    </tr>\n",
       "  </tbody>\n",
       "</table>\n",
       "<p>271 rows × 14 columns</p>\n",
       "</div>"
      ],
      "text/plain": [
       "       Wk  Day        Date   Time           Home   xG Score  xG.1  \\\n",
       "0     1.0  Fri  2019-08-16  20:30  Bayern Munich  2.7   2–2   0.9   \n",
       "1     1.0  Sat  2019-08-17  15:30       Freiburg  2.1   3–0   0.9   \n",
       "2     1.0  Sat  2019-08-17  15:30     Leverkusen  2.7   3–2   1.2   \n",
       "3     1.0  Sat  2019-08-17  15:30      Wolfsburg  0.8   2–1   1.0   \n",
       "4     1.0  Sat  2019-08-17  15:30  Werder Bremen  2.4   1–3   0.9   \n",
       "..    ...  ...         ...    ...            ...  ...   ...   ...   \n",
       "297  30.0  Sat  2020-06-06  18:30       Dortmund  1.8   1–0   0.4   \n",
       "298  30.0  Sun  2020-06-07  13:30  Werder Bremen  0.8   0–1   1.8   \n",
       "299  30.0  Sun  2020-06-07  15:30   Union Berlin  1.7   1–1   0.2   \n",
       "300  30.0  Sun  2020-06-07  18:00       Augsburg  2.3   1–1   1.0   \n",
       "302  31.0  Fri  2020-06-12  20:30     Hoffenheim  2.0   0–2   1.8   \n",
       "\n",
       "             Away  Attendance                           Venue  \\\n",
       "0      Hertha BSC     75000.0                   Allianz Arena   \n",
       "1        Mainz 05     24000.0             Schwarzwald-Stadion   \n",
       "2    Paderborn 07     26208.0                        BayArena   \n",
       "3            Köln     25099.0                Volkswagen Arena   \n",
       "4      Düsseldorf     42100.0                    Weserstadion   \n",
       "..            ...         ...                             ...   \n",
       "297    Hertha BSC         NaN               Signal Iduna Park   \n",
       "298     Wolfsburg         NaN                    Weserstadion   \n",
       "299    Schalke 04         NaN  Stadion An der Alten Försterei   \n",
       "300          Köln         NaN                       WWK Arena   \n",
       "302    RB Leipzig         NaN                   PreZero Arena   \n",
       "\n",
       "               Referee  Match Report  Notes  \n",
       "0          Harm Osmers  Match Report    NaN  \n",
       "1      Robert Hartmann  Match Report    NaN  \n",
       "2       Tobias Stieler  Match Report    NaN  \n",
       "3       Sven Jablonski  Match Report    NaN  \n",
       "4         Felix Zwayer  Match Report    NaN  \n",
       "..                 ...           ...    ...  \n",
       "297        Harm Osmers  Match Report    NaN  \n",
       "298  Bibiana Steinhaus  Match Report    NaN  \n",
       "299     Tobias Stieler  Match Report    NaN  \n",
       "300    Benjamin Cortus  Match Report    NaN  \n",
       "302        Tobias Welz  Match Report    NaN  \n",
       "\n",
       "[271 rows x 14 columns]"
      ]
     },
     "execution_count": 4,
     "metadata": {},
     "output_type": "execute_result"
    }
   ],
   "source": [
    "raw_data.dropna(axis=0,how=\"all\",inplace=True)\n",
    "raw_data"
   ]
  },
  {
   "cell_type": "code",
   "execution_count": 5,
   "metadata": {},
   "outputs": [
    {
     "data": {
      "text/html": [
       "<div>\n",
       "<style scoped>\n",
       "    .dataframe tbody tr th:only-of-type {\n",
       "        vertical-align: middle;\n",
       "    }\n",
       "\n",
       "    .dataframe tbody tr th {\n",
       "        vertical-align: top;\n",
       "    }\n",
       "\n",
       "    .dataframe thead th {\n",
       "        text-align: right;\n",
       "    }\n",
       "</style>\n",
       "<table border=\"1\" class=\"dataframe\">\n",
       "  <thead>\n",
       "    <tr style=\"text-align: right;\">\n",
       "      <th></th>\n",
       "      <th>Home</th>\n",
       "      <th>xG</th>\n",
       "      <th>Away</th>\n",
       "      <th>xG.1</th>\n",
       "      <th>Score</th>\n",
       "    </tr>\n",
       "  </thead>\n",
       "  <tbody>\n",
       "    <tr>\n",
       "      <th>0</th>\n",
       "      <td>Bayern Munich</td>\n",
       "      <td>2.7</td>\n",
       "      <td>Hertha BSC</td>\n",
       "      <td>0.9</td>\n",
       "      <td>2–2</td>\n",
       "    </tr>\n",
       "    <tr>\n",
       "      <th>1</th>\n",
       "      <td>Freiburg</td>\n",
       "      <td>2.1</td>\n",
       "      <td>Mainz 05</td>\n",
       "      <td>0.9</td>\n",
       "      <td>3–0</td>\n",
       "    </tr>\n",
       "    <tr>\n",
       "      <th>2</th>\n",
       "      <td>Leverkusen</td>\n",
       "      <td>2.7</td>\n",
       "      <td>Paderborn 07</td>\n",
       "      <td>1.2</td>\n",
       "      <td>3–2</td>\n",
       "    </tr>\n",
       "    <tr>\n",
       "      <th>3</th>\n",
       "      <td>Wolfsburg</td>\n",
       "      <td>0.8</td>\n",
       "      <td>Köln</td>\n",
       "      <td>1.0</td>\n",
       "      <td>2–1</td>\n",
       "    </tr>\n",
       "    <tr>\n",
       "      <th>4</th>\n",
       "      <td>Werder Bremen</td>\n",
       "      <td>2.4</td>\n",
       "      <td>Düsseldorf</td>\n",
       "      <td>0.9</td>\n",
       "      <td>1–3</td>\n",
       "    </tr>\n",
       "    <tr>\n",
       "      <th>...</th>\n",
       "      <td>...</td>\n",
       "      <td>...</td>\n",
       "      <td>...</td>\n",
       "      <td>...</td>\n",
       "      <td>...</td>\n",
       "    </tr>\n",
       "    <tr>\n",
       "      <th>297</th>\n",
       "      <td>Dortmund</td>\n",
       "      <td>1.8</td>\n",
       "      <td>Hertha BSC</td>\n",
       "      <td>0.4</td>\n",
       "      <td>1–0</td>\n",
       "    </tr>\n",
       "    <tr>\n",
       "      <th>298</th>\n",
       "      <td>Werder Bremen</td>\n",
       "      <td>0.8</td>\n",
       "      <td>Wolfsburg</td>\n",
       "      <td>1.8</td>\n",
       "      <td>0–1</td>\n",
       "    </tr>\n",
       "    <tr>\n",
       "      <th>299</th>\n",
       "      <td>Union Berlin</td>\n",
       "      <td>1.7</td>\n",
       "      <td>Schalke 04</td>\n",
       "      <td>0.2</td>\n",
       "      <td>1–1</td>\n",
       "    </tr>\n",
       "    <tr>\n",
       "      <th>300</th>\n",
       "      <td>Augsburg</td>\n",
       "      <td>2.3</td>\n",
       "      <td>Köln</td>\n",
       "      <td>1.0</td>\n",
       "      <td>1–1</td>\n",
       "    </tr>\n",
       "    <tr>\n",
       "      <th>302</th>\n",
       "      <td>Hoffenheim</td>\n",
       "      <td>2.0</td>\n",
       "      <td>RB Leipzig</td>\n",
       "      <td>1.8</td>\n",
       "      <td>0–2</td>\n",
       "    </tr>\n",
       "  </tbody>\n",
       "</table>\n",
       "<p>271 rows × 5 columns</p>\n",
       "</div>"
      ],
      "text/plain": [
       "              Home   xG          Away  xG.1 Score\n",
       "0    Bayern Munich  2.7    Hertha BSC   0.9   2–2\n",
       "1         Freiburg  2.1      Mainz 05   0.9   3–0\n",
       "2       Leverkusen  2.7  Paderborn 07   1.2   3–2\n",
       "3        Wolfsburg  0.8          Köln   1.0   2–1\n",
       "4    Werder Bremen  2.4    Düsseldorf   0.9   1–3\n",
       "..             ...  ...           ...   ...   ...\n",
       "297       Dortmund  1.8    Hertha BSC   0.4   1–0\n",
       "298  Werder Bremen  0.8     Wolfsburg   1.8   0–1\n",
       "299   Union Berlin  1.7    Schalke 04   0.2   1–1\n",
       "300       Augsburg  2.3          Köln   1.0   1–1\n",
       "302     Hoffenheim  2.0    RB Leipzig   1.8   0–2\n",
       "\n",
       "[271 rows x 5 columns]"
      ]
     },
     "execution_count": 5,
     "metadata": {},
     "output_type": "execute_result"
    }
   ],
   "source": [
    "data_scores = raw_data[[\"Home\",\"xG\",\"Away\",\"xG.1\",\"Score\"]]\n",
    "data_scores"
   ]
  },
  {
   "cell_type": "code",
   "execution_count": 6,
   "metadata": {},
   "outputs": [
    {
     "name": "stderr",
     "output_type": "stream",
     "text": [
      "C:\\Users\\Admin\\AppData\\Local\\Programs\\Python\\Python37-32\\lib\\site-packages\\ipykernel_launcher.py:1: SettingWithCopyWarning: \n",
      "A value is trying to be set on a copy of a slice from a DataFrame.\n",
      "Try using .loc[row_indexer,col_indexer] = value instead\n",
      "\n",
      "See the caveats in the documentation: http://pandas.pydata.org/pandas-docs/stable/user_guide/indexing.html#returning-a-view-versus-a-copy\n",
      "  \"\"\"Entry point for launching an IPython kernel.\n"
     ]
    }
   ],
   "source": [
    "data_scores[\"Score\"] = data_scores[\"Score\"].apply(lambda x: x.split(\"–\"))"
   ]
  },
  {
   "cell_type": "code",
   "execution_count": 7,
   "metadata": {},
   "outputs": [
    {
     "data": {
      "text/html": [
       "<div>\n",
       "<style scoped>\n",
       "    .dataframe tbody tr th:only-of-type {\n",
       "        vertical-align: middle;\n",
       "    }\n",
       "\n",
       "    .dataframe tbody tr th {\n",
       "        vertical-align: top;\n",
       "    }\n",
       "\n",
       "    .dataframe thead th {\n",
       "        text-align: right;\n",
       "    }\n",
       "</style>\n",
       "<table border=\"1\" class=\"dataframe\">\n",
       "  <thead>\n",
       "    <tr style=\"text-align: right;\">\n",
       "      <th></th>\n",
       "      <th>Home</th>\n",
       "      <th>xG</th>\n",
       "      <th>Away</th>\n",
       "      <th>xG.1</th>\n",
       "      <th>Score</th>\n",
       "    </tr>\n",
       "  </thead>\n",
       "  <tbody>\n",
       "    <tr>\n",
       "      <th>0</th>\n",
       "      <td>Bayern Munich</td>\n",
       "      <td>2.7</td>\n",
       "      <td>Hertha BSC</td>\n",
       "      <td>0.9</td>\n",
       "      <td>[2, 2]</td>\n",
       "    </tr>\n",
       "    <tr>\n",
       "      <th>1</th>\n",
       "      <td>Freiburg</td>\n",
       "      <td>2.1</td>\n",
       "      <td>Mainz 05</td>\n",
       "      <td>0.9</td>\n",
       "      <td>[3, 0]</td>\n",
       "    </tr>\n",
       "    <tr>\n",
       "      <th>2</th>\n",
       "      <td>Leverkusen</td>\n",
       "      <td>2.7</td>\n",
       "      <td>Paderborn 07</td>\n",
       "      <td>1.2</td>\n",
       "      <td>[3, 2]</td>\n",
       "    </tr>\n",
       "    <tr>\n",
       "      <th>3</th>\n",
       "      <td>Wolfsburg</td>\n",
       "      <td>0.8</td>\n",
       "      <td>Köln</td>\n",
       "      <td>1.0</td>\n",
       "      <td>[2, 1]</td>\n",
       "    </tr>\n",
       "    <tr>\n",
       "      <th>4</th>\n",
       "      <td>Werder Bremen</td>\n",
       "      <td>2.4</td>\n",
       "      <td>Düsseldorf</td>\n",
       "      <td>0.9</td>\n",
       "      <td>[1, 3]</td>\n",
       "    </tr>\n",
       "    <tr>\n",
       "      <th>...</th>\n",
       "      <td>...</td>\n",
       "      <td>...</td>\n",
       "      <td>...</td>\n",
       "      <td>...</td>\n",
       "      <td>...</td>\n",
       "    </tr>\n",
       "    <tr>\n",
       "      <th>297</th>\n",
       "      <td>Dortmund</td>\n",
       "      <td>1.8</td>\n",
       "      <td>Hertha BSC</td>\n",
       "      <td>0.4</td>\n",
       "      <td>[1, 0]</td>\n",
       "    </tr>\n",
       "    <tr>\n",
       "      <th>298</th>\n",
       "      <td>Werder Bremen</td>\n",
       "      <td>0.8</td>\n",
       "      <td>Wolfsburg</td>\n",
       "      <td>1.8</td>\n",
       "      <td>[0, 1]</td>\n",
       "    </tr>\n",
       "    <tr>\n",
       "      <th>299</th>\n",
       "      <td>Union Berlin</td>\n",
       "      <td>1.7</td>\n",
       "      <td>Schalke 04</td>\n",
       "      <td>0.2</td>\n",
       "      <td>[1, 1]</td>\n",
       "    </tr>\n",
       "    <tr>\n",
       "      <th>300</th>\n",
       "      <td>Augsburg</td>\n",
       "      <td>2.3</td>\n",
       "      <td>Köln</td>\n",
       "      <td>1.0</td>\n",
       "      <td>[1, 1]</td>\n",
       "    </tr>\n",
       "    <tr>\n",
       "      <th>302</th>\n",
       "      <td>Hoffenheim</td>\n",
       "      <td>2.0</td>\n",
       "      <td>RB Leipzig</td>\n",
       "      <td>1.8</td>\n",
       "      <td>[0, 2]</td>\n",
       "    </tr>\n",
       "  </tbody>\n",
       "</table>\n",
       "<p>271 rows × 5 columns</p>\n",
       "</div>"
      ],
      "text/plain": [
       "              Home   xG          Away  xG.1   Score\n",
       "0    Bayern Munich  2.7    Hertha BSC   0.9  [2, 2]\n",
       "1         Freiburg  2.1      Mainz 05   0.9  [3, 0]\n",
       "2       Leverkusen  2.7  Paderborn 07   1.2  [3, 2]\n",
       "3        Wolfsburg  0.8          Köln   1.0  [2, 1]\n",
       "4    Werder Bremen  2.4    Düsseldorf   0.9  [1, 3]\n",
       "..             ...  ...           ...   ...     ...\n",
       "297       Dortmund  1.8    Hertha BSC   0.4  [1, 0]\n",
       "298  Werder Bremen  0.8     Wolfsburg   1.8  [0, 1]\n",
       "299   Union Berlin  1.7    Schalke 04   0.2  [1, 1]\n",
       "300       Augsburg  2.3          Köln   1.0  [1, 1]\n",
       "302     Hoffenheim  2.0    RB Leipzig   1.8  [0, 2]\n",
       "\n",
       "[271 rows x 5 columns]"
      ]
     },
     "execution_count": 7,
     "metadata": {},
     "output_type": "execute_result"
    }
   ],
   "source": [
    "data_scores"
   ]
  },
  {
   "cell_type": "markdown",
   "metadata": {},
   "source": [
    "This is a function that returns 0 if a draw, 1 if the home-team wins, and 2 if away-team wins"
   ]
  },
  {
   "cell_type": "code",
   "execution_count": 8,
   "metadata": {},
   "outputs": [],
   "source": [
    "def check_class(x):\n",
    "    home_score = x[0]\n",
    "    away_score = x[1]\n",
    "    return 1 if home_score > away_score else 0 if home_score == away_score else 2"
   ]
  },
  {
   "cell_type": "code",
   "execution_count": 9,
   "metadata": {},
   "outputs": [
    {
     "name": "stderr",
     "output_type": "stream",
     "text": [
      "C:\\Users\\Admin\\AppData\\Local\\Programs\\Python\\Python37-32\\lib\\site-packages\\ipykernel_launcher.py:1: SettingWithCopyWarning: \n",
      "A value is trying to be set on a copy of a slice from a DataFrame.\n",
      "Try using .loc[row_indexer,col_indexer] = value instead\n",
      "\n",
      "See the caveats in the documentation: http://pandas.pydata.org/pandas-docs/stable/user_guide/indexing.html#returning-a-view-versus-a-copy\n",
      "  \"\"\"Entry point for launching an IPython kernel.\n"
     ]
    }
   ],
   "source": [
    "data_scores[\"Score\"] = data_scores[\"Score\"].apply(lambda x: check_class(x))"
   ]
  },
  {
   "cell_type": "code",
   "execution_count": 10,
   "metadata": {},
   "outputs": [],
   "source": [
    "t_dict = {}\n",
    "\n",
    "for idx,team in enumerate(data_scores[\"Home\"][:18]):\n",
    "    t_dict[team] = idx"
   ]
  },
  {
   "cell_type": "code",
   "execution_count": 11,
   "metadata": {},
   "outputs": [
    {
     "data": {
      "text/plain": [
       "{'Bayern Munich': 0,\n",
       " 'Freiburg': 1,\n",
       " 'Leverkusen': 2,\n",
       " 'Wolfsburg': 3,\n",
       " 'Werder Bremen': 4,\n",
       " 'Dortmund': 5,\n",
       " \"M'gladbach\": 6,\n",
       " 'Eint Frankfurt': 7,\n",
       " 'Union Berlin': 8,\n",
       " 'Köln': 9,\n",
       " 'Paderborn 07': 10,\n",
       " 'Augsburg': 11,\n",
       " 'Düsseldorf': 12,\n",
       " 'Hoffenheim': 13,\n",
       " 'Mainz 05': 14,\n",
       " 'Schalke 04': 15,\n",
       " 'RB Leipzig': 16,\n",
       " 'Hertha BSC': 17}"
      ]
     },
     "execution_count": 11,
     "metadata": {},
     "output_type": "execute_result"
    }
   ],
   "source": [
    "t_dict"
   ]
  },
  {
   "cell_type": "code",
   "execution_count": 12,
   "metadata": {},
   "outputs": [
    {
     "name": "stderr",
     "output_type": "stream",
     "text": [
      "C:\\Users\\Admin\\AppData\\Local\\Programs\\Python\\Python37-32\\lib\\site-packages\\ipykernel_launcher.py:1: SettingWithCopyWarning: \n",
      "A value is trying to be set on a copy of a slice from a DataFrame.\n",
      "Try using .loc[row_indexer,col_indexer] = value instead\n",
      "\n",
      "See the caveats in the documentation: http://pandas.pydata.org/pandas-docs/stable/user_guide/indexing.html#returning-a-view-versus-a-copy\n",
      "  \"\"\"Entry point for launching an IPython kernel.\n"
     ]
    }
   ],
   "source": [
    "data_scores[\"Home\"] = data_scores[\"Home\"].apply(lambda x: t_dict[x])"
   ]
  },
  {
   "cell_type": "code",
   "execution_count": 13,
   "metadata": {},
   "outputs": [
    {
     "name": "stderr",
     "output_type": "stream",
     "text": [
      "C:\\Users\\Admin\\AppData\\Local\\Programs\\Python\\Python37-32\\lib\\site-packages\\ipykernel_launcher.py:1: SettingWithCopyWarning: \n",
      "A value is trying to be set on a copy of a slice from a DataFrame.\n",
      "Try using .loc[row_indexer,col_indexer] = value instead\n",
      "\n",
      "See the caveats in the documentation: http://pandas.pydata.org/pandas-docs/stable/user_guide/indexing.html#returning-a-view-versus-a-copy\n",
      "  \"\"\"Entry point for launching an IPython kernel.\n"
     ]
    }
   ],
   "source": [
    "data_scores[\"Away\"] = data_scores[\"Away\"].apply(lambda x: t_dict[x])"
   ]
  },
  {
   "cell_type": "code",
   "execution_count": 14,
   "metadata": {},
   "outputs": [
    {
     "data": {
      "text/html": [
       "<div>\n",
       "<style scoped>\n",
       "    .dataframe tbody tr th:only-of-type {\n",
       "        vertical-align: middle;\n",
       "    }\n",
       "\n",
       "    .dataframe tbody tr th {\n",
       "        vertical-align: top;\n",
       "    }\n",
       "\n",
       "    .dataframe thead th {\n",
       "        text-align: right;\n",
       "    }\n",
       "</style>\n",
       "<table border=\"1\" class=\"dataframe\">\n",
       "  <thead>\n",
       "    <tr style=\"text-align: right;\">\n",
       "      <th></th>\n",
       "      <th>Home</th>\n",
       "      <th>xG</th>\n",
       "      <th>Away</th>\n",
       "      <th>xG.1</th>\n",
       "      <th>Score</th>\n",
       "    </tr>\n",
       "  </thead>\n",
       "  <tbody>\n",
       "    <tr>\n",
       "      <th>0</th>\n",
       "      <td>0</td>\n",
       "      <td>2.7</td>\n",
       "      <td>17</td>\n",
       "      <td>0.9</td>\n",
       "      <td>0</td>\n",
       "    </tr>\n",
       "    <tr>\n",
       "      <th>1</th>\n",
       "      <td>1</td>\n",
       "      <td>2.1</td>\n",
       "      <td>14</td>\n",
       "      <td>0.9</td>\n",
       "      <td>1</td>\n",
       "    </tr>\n",
       "    <tr>\n",
       "      <th>2</th>\n",
       "      <td>2</td>\n",
       "      <td>2.7</td>\n",
       "      <td>10</td>\n",
       "      <td>1.2</td>\n",
       "      <td>1</td>\n",
       "    </tr>\n",
       "    <tr>\n",
       "      <th>3</th>\n",
       "      <td>3</td>\n",
       "      <td>0.8</td>\n",
       "      <td>9</td>\n",
       "      <td>1.0</td>\n",
       "      <td>1</td>\n",
       "    </tr>\n",
       "    <tr>\n",
       "      <th>4</th>\n",
       "      <td>4</td>\n",
       "      <td>2.4</td>\n",
       "      <td>12</td>\n",
       "      <td>0.9</td>\n",
       "      <td>2</td>\n",
       "    </tr>\n",
       "    <tr>\n",
       "      <th>...</th>\n",
       "      <td>...</td>\n",
       "      <td>...</td>\n",
       "      <td>...</td>\n",
       "      <td>...</td>\n",
       "      <td>...</td>\n",
       "    </tr>\n",
       "    <tr>\n",
       "      <th>297</th>\n",
       "      <td>5</td>\n",
       "      <td>1.8</td>\n",
       "      <td>17</td>\n",
       "      <td>0.4</td>\n",
       "      <td>1</td>\n",
       "    </tr>\n",
       "    <tr>\n",
       "      <th>298</th>\n",
       "      <td>4</td>\n",
       "      <td>0.8</td>\n",
       "      <td>3</td>\n",
       "      <td>1.8</td>\n",
       "      <td>2</td>\n",
       "    </tr>\n",
       "    <tr>\n",
       "      <th>299</th>\n",
       "      <td>8</td>\n",
       "      <td>1.7</td>\n",
       "      <td>15</td>\n",
       "      <td>0.2</td>\n",
       "      <td>0</td>\n",
       "    </tr>\n",
       "    <tr>\n",
       "      <th>300</th>\n",
       "      <td>11</td>\n",
       "      <td>2.3</td>\n",
       "      <td>9</td>\n",
       "      <td>1.0</td>\n",
       "      <td>0</td>\n",
       "    </tr>\n",
       "    <tr>\n",
       "      <th>302</th>\n",
       "      <td>13</td>\n",
       "      <td>2.0</td>\n",
       "      <td>16</td>\n",
       "      <td>1.8</td>\n",
       "      <td>2</td>\n",
       "    </tr>\n",
       "  </tbody>\n",
       "</table>\n",
       "<p>271 rows × 5 columns</p>\n",
       "</div>"
      ],
      "text/plain": [
       "     Home   xG  Away  xG.1  Score\n",
       "0       0  2.7    17   0.9      0\n",
       "1       1  2.1    14   0.9      1\n",
       "2       2  2.7    10   1.2      1\n",
       "3       3  0.8     9   1.0      1\n",
       "4       4  2.4    12   0.9      2\n",
       "..    ...  ...   ...   ...    ...\n",
       "297     5  1.8    17   0.4      1\n",
       "298     4  0.8     3   1.8      2\n",
       "299     8  1.7    15   0.2      0\n",
       "300    11  2.3     9   1.0      0\n",
       "302    13  2.0    16   1.8      2\n",
       "\n",
       "[271 rows x 5 columns]"
      ]
     },
     "execution_count": 14,
     "metadata": {},
     "output_type": "execute_result"
    }
   ],
   "source": [
    "data_scores"
   ]
  },
  {
   "cell_type": "code",
   "execution_count": 15,
   "metadata": {},
   "outputs": [],
   "source": [
    "from sklearn.model_selection import train_test_split as tts"
   ]
  },
  {
   "cell_type": "code",
   "execution_count": 16,
   "metadata": {},
   "outputs": [],
   "source": [
    "X = data_scores[[\"Home\",\"Away\",\"xG\",\"xG.1\"]]\n",
    "y = data_scores[\"Score\"]"
   ]
  },
  {
   "cell_type": "code",
   "execution_count": 17,
   "metadata": {},
   "outputs": [],
   "source": [
    "X_train, X_test, y_train, y_test = tts(X, y, test_size=0.33, random_state=42)"
   ]
  },
  {
   "cell_type": "code",
   "execution_count": 18,
   "metadata": {},
   "outputs": [],
   "source": [
    "from sklearn.ensemble import RandomForestClassifier"
   ]
  },
  {
   "cell_type": "code",
   "execution_count": 19,
   "metadata": {},
   "outputs": [],
   "source": [
    "rand_for = RandomForestClassifier()"
   ]
  },
  {
   "cell_type": "markdown",
   "metadata": {},
   "source": [
    "Lets use some param search to get the best hyperparameters. Because earlier the model was overfitting badly maybe we can regularize it a little"
   ]
  },
  {
   "cell_type": "code",
   "execution_count": 20,
   "metadata": {},
   "outputs": [],
   "source": [
    "from sklearn.model_selection import RandomizedSearchCV"
   ]
  },
  {
   "cell_type": "code",
   "execution_count": 21,
   "metadata": {},
   "outputs": [],
   "source": [
    "param = [\n",
    "    {\"n_estimators\":[100,105,110,120,130], \"max_depth\":[5,10,12,15,20],\"max_leaf_nodes\":[2,3,6,10,50],\n",
    "     \"min_samples_leaf\":[1,5,10,20], \"min_samples_split\":[8,10,12]}\n",
    "]\n",
    "grid_search = RandomizedSearchCV(rand_for,cv=5,param_distributions=param,\n",
    "                                 scoring=\"neg_mean_squared_error\", return_train_score=True)"
   ]
  },
  {
   "cell_type": "code",
   "execution_count": 22,
   "metadata": {},
   "outputs": [],
   "source": [
    "best_attr = grid_search.fit(X_train,y_train)"
   ]
  },
  {
   "cell_type": "code",
   "execution_count": 23,
   "metadata": {},
   "outputs": [
    {
     "data": {
      "text/plain": [
       "{'n_estimators': 100,\n",
       " 'min_samples_split': 10,\n",
       " 'min_samples_leaf': 20,\n",
       " 'max_leaf_nodes': 10,\n",
       " 'max_depth': 15}"
      ]
     },
     "execution_count": 23,
     "metadata": {},
     "output_type": "execute_result"
    }
   ],
   "source": [
    "best_attr.best_params_"
   ]
  },
  {
   "cell_type": "code",
   "execution_count": 24,
   "metadata": {},
   "outputs": [
    {
     "data": {
      "text/plain": [
       "RandomizedSearchCV(cv=5, error_score=nan,\n",
       "                   estimator=RandomForestClassifier(bootstrap=True,\n",
       "                                                    ccp_alpha=0.0,\n",
       "                                                    class_weight=None,\n",
       "                                                    criterion='gini',\n",
       "                                                    max_depth=None,\n",
       "                                                    max_features='auto',\n",
       "                                                    max_leaf_nodes=None,\n",
       "                                                    max_samples=None,\n",
       "                                                    min_impurity_decrease=0.0,\n",
       "                                                    min_impurity_split=None,\n",
       "                                                    min_samples_leaf=1,\n",
       "                                                    min_samples_split=2,\n",
       "                                                    min_weight_fraction_leaf=0.0,\n",
       "                                                    n_estimators=100,\n",
       "                                                    n_jobs...\n",
       "                                                    warm_start=False),\n",
       "                   iid='deprecated', n_iter=10, n_jobs=None,\n",
       "                   param_distributions=[{'max_depth': [5, 10, 12, 15, 20],\n",
       "                                         'max_leaf_nodes': [2, 3, 6, 10, 50],\n",
       "                                         'min_samples_leaf': [1, 5, 10, 20],\n",
       "                                         'min_samples_split': [8, 10, 12],\n",
       "                                         'n_estimators': [100, 105, 110, 120,\n",
       "                                                          130]}],\n",
       "                   pre_dispatch='2*n_jobs', random_state=None, refit=True,\n",
       "                   return_train_score=True, scoring='neg_mean_squared_error',\n",
       "                   verbose=0)"
      ]
     },
     "execution_count": 24,
     "metadata": {},
     "output_type": "execute_result"
    }
   ],
   "source": [
    "best_attr.fit(X_train,y_train)"
   ]
  },
  {
   "cell_type": "markdown",
   "metadata": {},
   "source": [
    "It looks like the algorithm never predicts a draw which is odd"
   ]
  },
  {
   "cell_type": "code",
   "execution_count": 25,
   "metadata": {},
   "outputs": [
    {
     "data": {
      "text/plain": [
       "array([2, 2, 2, 1, 2, 2, 2, 1, 1, 2, 2, 1, 1, 1, 2, 2, 2, 1, 1, 2, 1, 1,\n",
       "       2, 1, 1, 1, 2, 2, 1, 1, 2, 2, 1, 1, 2, 1, 2, 2, 2, 1, 2, 1, 1, 1,\n",
       "       2, 2, 2, 2, 2, 1, 1, 2, 1, 1, 2, 1, 1, 2, 1, 1, 1, 0, 2, 1, 1, 1,\n",
       "       1, 2, 1, 1, 2, 2, 1, 1, 1, 2, 1, 1, 2, 2, 2, 1, 1, 2, 2, 1, 1, 1,\n",
       "       1, 1, 1, 1, 1, 2, 1, 1, 2, 2, 2, 1, 2, 2, 2, 1, 2, 1, 0, 1, 2, 1,\n",
       "       1, 1, 2, 2, 1, 1, 1, 2, 2, 1, 0, 2, 2, 2, 1, 1, 1, 2, 1, 2, 2, 1,\n",
       "       1, 2, 2, 1, 1, 1, 1, 2, 0, 2, 1, 1, 2, 2, 1, 2, 2, 2, 2, 2, 2, 0,\n",
       "       0, 1, 0, 2, 1, 2, 1, 1, 1, 2, 1, 1, 1, 1, 1, 1, 2, 1, 1, 2, 1, 1,\n",
       "       0, 1, 1, 1, 2], dtype=int64)"
      ]
     },
     "execution_count": 25,
     "metadata": {},
     "output_type": "execute_result"
    }
   ],
   "source": [
    "train_pred = best_attr.predict(X_train)\n",
    "train_pred"
   ]
  },
  {
   "cell_type": "code",
   "execution_count": 26,
   "metadata": {},
   "outputs": [
    {
     "data": {
      "text/plain": [
       "array([2, 2, 1, 1, 0, 1, 1, 1, 1, 0, 2, 0, 1, 1, 2, 0, 2, 1, 0, 2, 1, 1,\n",
       "       2, 0, 0, 1, 0, 2, 1, 1, 0, 2, 1, 1, 2, 1, 2, 2, 2, 1, 2, 0, 1, 1,\n",
       "       2, 2, 0, 1, 0, 1, 0, 2, 1, 0, 2, 0, 0, 2, 1, 1, 1, 0, 0, 1, 0, 0,\n",
       "       0, 0, 1, 2, 1, 1, 1, 1, 1, 0, 1, 0, 2, 0, 2, 0, 1, 0, 0, 0, 1, 2,\n",
       "       0, 1, 1, 1, 1, 0, 1, 1, 2, 2, 2, 2, 2, 2, 0, 1, 2, 1, 1, 1, 2, 1,\n",
       "       1, 1, 2, 2, 1, 1, 2, 2, 2, 1, 0, 2, 2, 2, 0, 2, 1, 2, 2, 2, 1, 0,\n",
       "       1, 2, 2, 2, 1, 2, 1, 1, 0, 2, 1, 1, 2, 2, 1, 2, 2, 2, 2, 2, 2, 0,\n",
       "       2, 2, 0, 2, 1, 0, 0, 0, 1, 2, 1, 0, 2, 1, 1, 1, 1, 0, 1, 2, 1, 2,\n",
       "       0, 1, 1, 1, 2], dtype=int64)"
      ]
     },
     "execution_count": 26,
     "metadata": {},
     "output_type": "execute_result"
    }
   ],
   "source": [
    "np.array(y_train)"
   ]
  },
  {
   "cell_type": "code",
   "execution_count": 27,
   "metadata": {},
   "outputs": [],
   "source": [
    "from sklearn.metrics import accuracy_score"
   ]
  },
  {
   "cell_type": "code",
   "execution_count": 28,
   "metadata": {},
   "outputs": [
    {
     "data": {
      "text/plain": [
       "0.6685082872928176"
      ]
     },
     "execution_count": 28,
     "metadata": {},
     "output_type": "execute_result"
    }
   ],
   "source": [
    "accuracy_score(np.array(y_train),train_pred)"
   ]
  },
  {
   "cell_type": "code",
   "execution_count": 29,
   "metadata": {},
   "outputs": [],
   "source": [
    "test_pred = best_attr.predict(X_test)"
   ]
  },
  {
   "cell_type": "markdown",
   "metadata": {},
   "source": [
    "After having tweaked many different hyperparameters it looks like the algorithm cant get a prediction higher than 57.7 I assume that thats because it just predict the matchups the same when they play twice against each other"
   ]
  },
  {
   "cell_type": "code",
   "execution_count": 30,
   "metadata": {},
   "outputs": [
    {
     "data": {
      "text/plain": [
       "0.5555555555555556"
      ]
     },
     "execution_count": 30,
     "metadata": {},
     "output_type": "execute_result"
    }
   ],
   "source": [
    "accuracy_score(np.array(y_test),test_pred)"
   ]
  },
  {
   "cell_type": "markdown",
   "metadata": {},
   "source": [
    "##### Lets try another algorithm"
   ]
  },
  {
   "cell_type": "code",
   "execution_count": 31,
   "metadata": {},
   "outputs": [],
   "source": [
    "from sklearn.svm import LinearSVC"
   ]
  },
  {
   "cell_type": "code",
   "execution_count": 32,
   "metadata": {},
   "outputs": [],
   "source": [
    "svm = LinearSVC(loss=\"hinge\")"
   ]
  },
  {
   "cell_type": "code",
   "execution_count": 33,
   "metadata": {},
   "outputs": [
    {
     "name": "stderr",
     "output_type": "stream",
     "text": [
      "C:\\Users\\Admin\\AppData\\Local\\Programs\\Python\\Python37-32\\lib\\site-packages\\sklearn\\svm\\_base.py:947: ConvergenceWarning: Liblinear failed to converge, increase the number of iterations.\n",
      "  \"the number of iterations.\", ConvergenceWarning)\n"
     ]
    },
    {
     "data": {
      "text/plain": [
       "LinearSVC(C=1.0, class_weight=None, dual=True, fit_intercept=True,\n",
       "          intercept_scaling=1, loss='hinge', max_iter=1000, multi_class='ovr',\n",
       "          penalty='l2', random_state=None, tol=0.0001, verbose=0)"
      ]
     },
     "execution_count": 33,
     "metadata": {},
     "output_type": "execute_result"
    }
   ],
   "source": [
    "svm.fit(X_train,y_train)"
   ]
  },
  {
   "cell_type": "code",
   "execution_count": 35,
   "metadata": {},
   "outputs": [],
   "source": [
    "svm_train_pred = svm.predict(X_train)"
   ]
  },
  {
   "cell_type": "code",
   "execution_count": 36,
   "metadata": {},
   "outputs": [
    {
     "data": {
      "text/plain": [
       "array([2, 2, 2, 1, 2, 2, 2, 1, 1, 2, 2, 1, 2, 2, 2, 2, 2, 2, 1, 2, 1, 1,\n",
       "       2, 1, 1, 1, 2, 2, 1, 1, 2, 2, 1, 1, 2, 1, 2, 2, 2, 1, 2, 1, 1, 2,\n",
       "       2, 2, 2, 1, 2, 1, 1, 2, 1, 1, 2, 1, 1, 2, 2, 1, 1, 2, 2, 1, 1, 1,\n",
       "       1, 2, 1, 1, 2, 2, 1, 1, 1, 2, 1, 1, 2, 2, 2, 1, 1, 2, 2, 1, 1, 1,\n",
       "       1, 1, 1, 1, 1, 2, 1, 2, 2, 2, 2, 1, 2, 2, 2, 1, 2, 1, 2, 1, 2, 1,\n",
       "       1, 1, 2, 2, 1, 1, 1, 1, 1, 1, 0, 2, 2, 2, 1, 1, 1, 2, 1, 2, 2, 1,\n",
       "       1, 2, 2, 2, 2, 1, 1, 2, 1, 2, 1, 1, 1, 2, 1, 2, 2, 2, 2, 2, 1, 1,\n",
       "       2, 1, 2, 1, 1, 2, 1, 2, 1, 2, 1, 1, 1, 1, 1, 1, 2, 1, 1, 2, 1, 1,\n",
       "       1, 1, 1, 1, 2], dtype=int64)"
      ]
     },
     "execution_count": 36,
     "metadata": {},
     "output_type": "execute_result"
    }
   ],
   "source": [
    "svm_train_pred"
   ]
  },
  {
   "cell_type": "code",
   "execution_count": 37,
   "metadata": {},
   "outputs": [
    {
     "data": {
      "text/plain": [
       "0.5911602209944752"
      ]
     },
     "execution_count": 37,
     "metadata": {},
     "output_type": "execute_result"
    }
   ],
   "source": [
    "accuracy_score(y_train,svm_train_pred)"
   ]
  },
  {
   "cell_type": "code",
   "execution_count": 38,
   "metadata": {},
   "outputs": [],
   "source": [
    "svm_test_pred = svm.predict(X_test)"
   ]
  },
  {
   "cell_type": "code",
   "execution_count": 39,
   "metadata": {},
   "outputs": [
    {
     "data": {
      "text/plain": [
       "0.6111111111111112"
      ]
     },
     "execution_count": 39,
     "metadata": {},
     "output_type": "execute_result"
    }
   ],
   "source": [
    "accuracy_score(y_test,svm_test_pred)"
   ]
  },
  {
   "cell_type": "markdown",
   "metadata": {},
   "source": [
    "##### Lets test this svm model on the current fixtures from today https://fbref.com/en/comps/20/schedule/Bundesliga-Fixtures"
   ]
  },
  {
   "cell_type": "code",
   "execution_count": 43,
   "metadata": {},
   "outputs": [],
   "source": [
    "_31_spieltag = pd.read_csv(\"Datasets/_31_spieltag.csv\")"
   ]
  },
  {
   "cell_type": "code",
   "execution_count": 44,
   "metadata": {},
   "outputs": [
    {
     "data": {
      "text/html": [
       "<div>\n",
       "<style scoped>\n",
       "    .dataframe tbody tr th:only-of-type {\n",
       "        vertical-align: middle;\n",
       "    }\n",
       "\n",
       "    .dataframe tbody tr th {\n",
       "        vertical-align: top;\n",
       "    }\n",
       "\n",
       "    .dataframe thead th {\n",
       "        text-align: right;\n",
       "    }\n",
       "</style>\n",
       "<table border=\"1\" class=\"dataframe\">\n",
       "  <thead>\n",
       "    <tr style=\"text-align: right;\">\n",
       "      <th></th>\n",
       "      <th>Wk</th>\n",
       "      <th>Day</th>\n",
       "      <th>Date</th>\n",
       "      <th>Time</th>\n",
       "      <th>Home</th>\n",
       "      <th>xG</th>\n",
       "      <th>Score</th>\n",
       "      <th>xG.1</th>\n",
       "      <th>Away</th>\n",
       "      <th>Attendance</th>\n",
       "      <th>Venue</th>\n",
       "      <th>Referee</th>\n",
       "      <th>Match Report</th>\n",
       "      <th>Notes</th>\n",
       "    </tr>\n",
       "  </thead>\n",
       "  <tbody>\n",
       "    <tr>\n",
       "      <th>0</th>\n",
       "      <td>31</td>\n",
       "      <td>Fri</td>\n",
       "      <td>2020-06-12</td>\n",
       "      <td>20:30</td>\n",
       "      <td>Hoffenheim</td>\n",
       "      <td>2.0</td>\n",
       "      <td>0–2</td>\n",
       "      <td>1.8</td>\n",
       "      <td>RB Leipzig</td>\n",
       "      <td>NaN</td>\n",
       "      <td>PreZero Arena</td>\n",
       "      <td>Tobias Welz</td>\n",
       "      <td>Match Report</td>\n",
       "      <td>NaN</td>\n",
       "    </tr>\n",
       "    <tr>\n",
       "      <th>1</th>\n",
       "      <td>31</td>\n",
       "      <td>Sat</td>\n",
       "      <td>2020-06-13</td>\n",
       "      <td>15:30</td>\n",
       "      <td>Düsseldorf</td>\n",
       "      <td>0.5</td>\n",
       "      <td>0–1</td>\n",
       "      <td>0.6</td>\n",
       "      <td>Dortmund</td>\n",
       "      <td>NaN</td>\n",
       "      <td>Merkur Spielarena</td>\n",
       "      <td>Sascha Stegemann</td>\n",
       "      <td>Match Report</td>\n",
       "      <td>NaN</td>\n",
       "    </tr>\n",
       "    <tr>\n",
       "      <th>2</th>\n",
       "      <td>31</td>\n",
       "      <td>Sat</td>\n",
       "      <td>2020-06-13</td>\n",
       "      <td>15:30</td>\n",
       "      <td>Paderborn 07</td>\n",
       "      <td>1.7</td>\n",
       "      <td>1–5</td>\n",
       "      <td>2.7</td>\n",
       "      <td>Werder Bremen</td>\n",
       "      <td>NaN</td>\n",
       "      <td>Benteler-Arena</td>\n",
       "      <td>Christian Dingert</td>\n",
       "      <td>Match Report</td>\n",
       "      <td>NaN</td>\n",
       "    </tr>\n",
       "    <tr>\n",
       "      <th>3</th>\n",
       "      <td>31</td>\n",
       "      <td>Sat</td>\n",
       "      <td>2020-06-13</td>\n",
       "      <td>15:30</td>\n",
       "      <td>Hertha BSC</td>\n",
       "      <td>1.0</td>\n",
       "      <td>1–4</td>\n",
       "      <td>2.4</td>\n",
       "      <td>Eint Frankfurt</td>\n",
       "      <td>NaN</td>\n",
       "      <td>Olympiastadion Berlin</td>\n",
       "      <td>Robert Hartmann</td>\n",
       "      <td>Match Report</td>\n",
       "      <td>NaN</td>\n",
       "    </tr>\n",
       "    <tr>\n",
       "      <th>4</th>\n",
       "      <td>31</td>\n",
       "      <td>Sat</td>\n",
       "      <td>2020-06-13</td>\n",
       "      <td>15:30</td>\n",
       "      <td>Wolfsburg</td>\n",
       "      <td>2.8</td>\n",
       "      <td>2–2</td>\n",
       "      <td>2.3</td>\n",
       "      <td>Freiburg</td>\n",
       "      <td>NaN</td>\n",
       "      <td>Volkswagen Arena</td>\n",
       "      <td>Bastian Dankert</td>\n",
       "      <td>Match Report</td>\n",
       "      <td>NaN</td>\n",
       "    </tr>\n",
       "    <tr>\n",
       "      <th>5</th>\n",
       "      <td>31</td>\n",
       "      <td>Sat</td>\n",
       "      <td>2020-06-13</td>\n",
       "      <td>15:30</td>\n",
       "      <td>Köln</td>\n",
       "      <td>1.3</td>\n",
       "      <td>1–2</td>\n",
       "      <td>1.2</td>\n",
       "      <td>Union Berlin</td>\n",
       "      <td>NaN</td>\n",
       "      <td>RheinEnergieSTADION</td>\n",
       "      <td>Martin Petersen</td>\n",
       "      <td>Match Report</td>\n",
       "      <td>NaN</td>\n",
       "    </tr>\n",
       "    <tr>\n",
       "      <th>6</th>\n",
       "      <td>31</td>\n",
       "      <td>Sat</td>\n",
       "      <td>2020-06-13</td>\n",
       "      <td>18:30</td>\n",
       "      <td>Bayern Munich</td>\n",
       "      <td>1.5</td>\n",
       "      <td>2–1</td>\n",
       "      <td>0.8</td>\n",
       "      <td>M'gladbach</td>\n",
       "      <td>NaN</td>\n",
       "      <td>Allianz Arena</td>\n",
       "      <td>Felix Zwayer</td>\n",
       "      <td>Match Report</td>\n",
       "      <td>NaN</td>\n",
       "    </tr>\n",
       "  </tbody>\n",
       "</table>\n",
       "</div>"
      ],
      "text/plain": [
       "   Wk  Day        Date   Time           Home   xG Score  xG.1            Away  \\\n",
       "0  31  Fri  2020-06-12  20:30     Hoffenheim  2.0   0–2   1.8      RB Leipzig   \n",
       "1  31  Sat  2020-06-13  15:30     Düsseldorf  0.5   0–1   0.6        Dortmund   \n",
       "2  31  Sat  2020-06-13  15:30   Paderborn 07  1.7   1–5   2.7   Werder Bremen   \n",
       "3  31  Sat  2020-06-13  15:30     Hertha BSC  1.0   1–4   2.4  Eint Frankfurt   \n",
       "4  31  Sat  2020-06-13  15:30      Wolfsburg  2.8   2–2   2.3        Freiburg   \n",
       "5  31  Sat  2020-06-13  15:30           Köln  1.3   1–2   1.2    Union Berlin   \n",
       "6  31  Sat  2020-06-13  18:30  Bayern Munich  1.5   2–1   0.8      M'gladbach   \n",
       "\n",
       "   Attendance                  Venue            Referee  Match Report  Notes  \n",
       "0         NaN          PreZero Arena        Tobias Welz  Match Report    NaN  \n",
       "1         NaN      Merkur Spielarena   Sascha Stegemann  Match Report    NaN  \n",
       "2         NaN         Benteler-Arena  Christian Dingert  Match Report    NaN  \n",
       "3         NaN  Olympiastadion Berlin    Robert Hartmann  Match Report    NaN  \n",
       "4         NaN       Volkswagen Arena    Bastian Dankert  Match Report    NaN  \n",
       "5         NaN    RheinEnergieSTADION    Martin Petersen  Match Report    NaN  \n",
       "6         NaN          Allianz Arena       Felix Zwayer  Match Report    NaN  "
      ]
     },
     "execution_count": 44,
     "metadata": {},
     "output_type": "execute_result"
    }
   ],
   "source": [
    "_31_spieltag"
   ]
  },
  {
   "cell_type": "code",
   "execution_count": 45,
   "metadata": {},
   "outputs": [
    {
     "name": "stderr",
     "output_type": "stream",
     "text": [
      "C:\\Users\\Admin\\AppData\\Local\\Programs\\Python\\Python37-32\\lib\\site-packages\\ipykernel_launcher.py:3: SettingWithCopyWarning: \n",
      "A value is trying to be set on a copy of a slice from a DataFrame.\n",
      "Try using .loc[row_indexer,col_indexer] = value instead\n",
      "\n",
      "See the caveats in the documentation: http://pandas.pydata.org/pandas-docs/stable/user_guide/indexing.html#returning-a-view-versus-a-copy\n",
      "  This is separate from the ipykernel package so we can avoid doing imports until\n",
      "C:\\Users\\Admin\\AppData\\Local\\Programs\\Python\\Python37-32\\lib\\site-packages\\ipykernel_launcher.py:5: SettingWithCopyWarning: \n",
      "A value is trying to be set on a copy of a slice from a DataFrame.\n",
      "Try using .loc[row_indexer,col_indexer] = value instead\n",
      "\n",
      "See the caveats in the documentation: http://pandas.pydata.org/pandas-docs/stable/user_guide/indexing.html#returning-a-view-versus-a-copy\n",
      "  \"\"\"\n",
      "C:\\Users\\Admin\\AppData\\Local\\Programs\\Python\\Python37-32\\lib\\site-packages\\ipykernel_launcher.py:7: SettingWithCopyWarning: \n",
      "A value is trying to be set on a copy of a slice from a DataFrame.\n",
      "Try using .loc[row_indexer,col_indexer] = value instead\n",
      "\n",
      "See the caveats in the documentation: http://pandas.pydata.org/pandas-docs/stable/user_guide/indexing.html#returning-a-view-versus-a-copy\n",
      "  import sys\n",
      "C:\\Users\\Admin\\AppData\\Local\\Programs\\Python\\Python37-32\\lib\\site-packages\\ipykernel_launcher.py:8: SettingWithCopyWarning: \n",
      "A value is trying to be set on a copy of a slice from a DataFrame.\n",
      "Try using .loc[row_indexer,col_indexer] = value instead\n",
      "\n",
      "See the caveats in the documentation: http://pandas.pydata.org/pandas-docs/stable/user_guide/indexing.html#returning-a-view-versus-a-copy\n",
      "  \n"
     ]
    }
   ],
   "source": [
    "_31_spieltag = _31_spieltag[[\"Home\",\"xG\",\"Away\",\"xG.1\",\"Score\"]]\n",
    "\n",
    "_31_spieltag[\"Score\"] = _31_spieltag[\"Score\"].apply(lambda x: x.split(\"–\"))\n",
    "\n",
    "_31_spieltag[\"Score\"] = _31_spieltag[\"Score\"].apply(lambda x: check_class(x))\n",
    "\n",
    "_31_spieltag[\"Home\"] = _31_spieltag[\"Home\"].apply(lambda x: t_dict[x])\n",
    "_31_spieltag[\"Away\"] = _31_spieltag[\"Away\"].apply(lambda x: t_dict[x])"
   ]
  },
  {
   "cell_type": "code",
   "execution_count": 46,
   "metadata": {},
   "outputs": [
    {
     "data": {
      "text/html": [
       "<div>\n",
       "<style scoped>\n",
       "    .dataframe tbody tr th:only-of-type {\n",
       "        vertical-align: middle;\n",
       "    }\n",
       "\n",
       "    .dataframe tbody tr th {\n",
       "        vertical-align: top;\n",
       "    }\n",
       "\n",
       "    .dataframe thead th {\n",
       "        text-align: right;\n",
       "    }\n",
       "</style>\n",
       "<table border=\"1\" class=\"dataframe\">\n",
       "  <thead>\n",
       "    <tr style=\"text-align: right;\">\n",
       "      <th></th>\n",
       "      <th>Home</th>\n",
       "      <th>xG</th>\n",
       "      <th>Away</th>\n",
       "      <th>xG.1</th>\n",
       "      <th>Score</th>\n",
       "    </tr>\n",
       "  </thead>\n",
       "  <tbody>\n",
       "    <tr>\n",
       "      <th>0</th>\n",
       "      <td>13</td>\n",
       "      <td>2.0</td>\n",
       "      <td>16</td>\n",
       "      <td>1.8</td>\n",
       "      <td>2</td>\n",
       "    </tr>\n",
       "    <tr>\n",
       "      <th>1</th>\n",
       "      <td>12</td>\n",
       "      <td>0.5</td>\n",
       "      <td>5</td>\n",
       "      <td>0.6</td>\n",
       "      <td>2</td>\n",
       "    </tr>\n",
       "    <tr>\n",
       "      <th>2</th>\n",
       "      <td>10</td>\n",
       "      <td>1.7</td>\n",
       "      <td>4</td>\n",
       "      <td>2.7</td>\n",
       "      <td>2</td>\n",
       "    </tr>\n",
       "    <tr>\n",
       "      <th>3</th>\n",
       "      <td>17</td>\n",
       "      <td>1.0</td>\n",
       "      <td>7</td>\n",
       "      <td>2.4</td>\n",
       "      <td>2</td>\n",
       "    </tr>\n",
       "    <tr>\n",
       "      <th>4</th>\n",
       "      <td>3</td>\n",
       "      <td>2.8</td>\n",
       "      <td>1</td>\n",
       "      <td>2.3</td>\n",
       "      <td>0</td>\n",
       "    </tr>\n",
       "    <tr>\n",
       "      <th>5</th>\n",
       "      <td>9</td>\n",
       "      <td>1.3</td>\n",
       "      <td>8</td>\n",
       "      <td>1.2</td>\n",
       "      <td>2</td>\n",
       "    </tr>\n",
       "    <tr>\n",
       "      <th>6</th>\n",
       "      <td>0</td>\n",
       "      <td>1.5</td>\n",
       "      <td>6</td>\n",
       "      <td>0.8</td>\n",
       "      <td>1</td>\n",
       "    </tr>\n",
       "  </tbody>\n",
       "</table>\n",
       "</div>"
      ],
      "text/plain": [
       "   Home   xG  Away  xG.1  Score\n",
       "0    13  2.0    16   1.8      2\n",
       "1    12  0.5     5   0.6      2\n",
       "2    10  1.7     4   2.7      2\n",
       "3    17  1.0     7   2.4      2\n",
       "4     3  2.8     1   2.3      0\n",
       "5     9  1.3     8   1.2      2\n",
       "6     0  1.5     6   0.8      1"
      ]
     },
     "execution_count": 46,
     "metadata": {},
     "output_type": "execute_result"
    }
   ],
   "source": [
    "_31_spieltag"
   ]
  },
  {
   "cell_type": "code",
   "execution_count": 47,
   "metadata": {},
   "outputs": [],
   "source": [
    "X_31 = _31_spieltag[[\"Home\",\"xG\",\"Away\",\"xG.1\"]]\n",
    "y_31 = _31_spieltag[\"Score\"]"
   ]
  },
  {
   "cell_type": "code",
   "execution_count": 48,
   "metadata": {},
   "outputs": [
    {
     "data": {
      "text/html": [
       "<div>\n",
       "<style scoped>\n",
       "    .dataframe tbody tr th:only-of-type {\n",
       "        vertical-align: middle;\n",
       "    }\n",
       "\n",
       "    .dataframe tbody tr th {\n",
       "        vertical-align: top;\n",
       "    }\n",
       "\n",
       "    .dataframe thead th {\n",
       "        text-align: right;\n",
       "    }\n",
       "</style>\n",
       "<table border=\"1\" class=\"dataframe\">\n",
       "  <thead>\n",
       "    <tr style=\"text-align: right;\">\n",
       "      <th></th>\n",
       "      <th>Home</th>\n",
       "      <th>xG</th>\n",
       "      <th>Away</th>\n",
       "      <th>xG.1</th>\n",
       "    </tr>\n",
       "  </thead>\n",
       "  <tbody>\n",
       "    <tr>\n",
       "      <th>0</th>\n",
       "      <td>13</td>\n",
       "      <td>2.0</td>\n",
       "      <td>16</td>\n",
       "      <td>1.8</td>\n",
       "    </tr>\n",
       "    <tr>\n",
       "      <th>1</th>\n",
       "      <td>12</td>\n",
       "      <td>0.5</td>\n",
       "      <td>5</td>\n",
       "      <td>0.6</td>\n",
       "    </tr>\n",
       "    <tr>\n",
       "      <th>2</th>\n",
       "      <td>10</td>\n",
       "      <td>1.7</td>\n",
       "      <td>4</td>\n",
       "      <td>2.7</td>\n",
       "    </tr>\n",
       "    <tr>\n",
       "      <th>3</th>\n",
       "      <td>17</td>\n",
       "      <td>1.0</td>\n",
       "      <td>7</td>\n",
       "      <td>2.4</td>\n",
       "    </tr>\n",
       "    <tr>\n",
       "      <th>4</th>\n",
       "      <td>3</td>\n",
       "      <td>2.8</td>\n",
       "      <td>1</td>\n",
       "      <td>2.3</td>\n",
       "    </tr>\n",
       "    <tr>\n",
       "      <th>5</th>\n",
       "      <td>9</td>\n",
       "      <td>1.3</td>\n",
       "      <td>8</td>\n",
       "      <td>1.2</td>\n",
       "    </tr>\n",
       "    <tr>\n",
       "      <th>6</th>\n",
       "      <td>0</td>\n",
       "      <td>1.5</td>\n",
       "      <td>6</td>\n",
       "      <td>0.8</td>\n",
       "    </tr>\n",
       "  </tbody>\n",
       "</table>\n",
       "</div>"
      ],
      "text/plain": [
       "   Home   xG  Away  xG.1\n",
       "0    13  2.0    16   1.8\n",
       "1    12  0.5     5   0.6\n",
       "2    10  1.7     4   2.7\n",
       "3    17  1.0     7   2.4\n",
       "4     3  2.8     1   2.3\n",
       "5     9  1.3     8   1.2\n",
       "6     0  1.5     6   0.8"
      ]
     },
     "execution_count": 48,
     "metadata": {},
     "output_type": "execute_result"
    }
   ],
   "source": [
    "X_31"
   ]
  },
  {
   "cell_type": "code",
   "execution_count": 49,
   "metadata": {},
   "outputs": [
    {
     "data": {
      "text/plain": [
       "array([1, 1, 1, 1, 2, 1, 1], dtype=int64)"
      ]
     },
     "execution_count": 49,
     "metadata": {},
     "output_type": "execute_result"
    }
   ],
   "source": [
    "_31_pred = svm.predict(X_31)\n",
    "_31_pred"
   ]
  },
  {
   "cell_type": "code",
   "execution_count": 52,
   "metadata": {},
   "outputs": [
    {
     "data": {
      "text/plain": [
       "0.14285714285714285"
      ]
     },
     "execution_count": 52,
     "metadata": {},
     "output_type": "execute_result"
    }
   ],
   "source": [
    "accuracy_score(np.array(y_31),_31_pred)"
   ]
  },
  {
   "cell_type": "markdown",
   "metadata": {},
   "source": [
    "This accuracy is herendous so I wondered why the models didnt work properly. I decided to plot the data. And we can see that its unseperable in 2d."
   ]
  },
  {
   "cell_type": "code",
   "execution_count": 103,
   "metadata": {},
   "outputs": [
    {
     "data": {
      "text/plain": [
       "<matplotlib.legend.Legend at 0x11dc91f0>"
      ]
     },
     "execution_count": 103,
     "metadata": {},
     "output_type": "execute_result"
    },
    {
     "data": {
      "image/png": "[encoded data removed]",
      "text/plain": [
       "<Figure size 792x360 with 1 Axes>"
      ]
     },
     "metadata": {},
     "output_type": "display_data"
    }
   ],
   "source": [
    "plt.figure(figsize=(11, 5))\n",
    "\n",
    "plt.scatter(x=data_scores.iloc[:,0][data_scores[\"Score\"]==0],y=data_scores.iloc[:,2][data_scores[\"Score\"]==0],color=\"b\",\n",
    "           label=\"draw\")\n",
    "plt.scatter(x=data_scores.iloc[:,0][data_scores[\"Score\"]==1],y=data_scores.iloc[:,2][data_scores[\"Score\"]==1],color=\"g\",\n",
    "           label=\"Home-team won\") \n",
    "plt.scatter(x=data_scores.iloc[:,0][data_scores[\"Score\"]==2],y=data_scores.iloc[:,2][data_scores[\"Score\"]==2],color=\"r\",\n",
    "           label=\"Home-team lost\")\n",
    "plt.axis([-1,23,-1,18])\n",
    "plt.xticks(np.arange(0,18))\n",
    "plt.xlabel(\"Hometeam\",fontweight=\"bold\")\n",
    "plt.yticks(np.arange(0,18))\n",
    "plt.ylabel(\"Awayteam\",fontweight=\"bold\")\n",
    "plt.title(\"Bundesliga Score distributions\",fontsize=17)\n",
    "plt.legend()"
   ]
  },
  {
   "cell_type": "markdown",
   "metadata": {},
   "source": [
    "I still have to figure out how to manipulate my data better in order to enhance the model performance. Or maybe the classical ML algorthims are all prone to underfitting because they are too simple. But lets first think that its not that"
   ]
  },
  {
   "cell_type": "code",
   "execution_count": null,
   "metadata": {},
   "outputs": [],
   "source": []
  }
 ],
 "metadata": {
  "kernelspec": {
   "display_name": "Python 3.7.3 32-bit",
   "language": "python",
   "name": "python37332bit4ff2cf3d40564f55a8d21052ee5a8ceb"
  }
 },
 "nbformat": 4,
 "nbformat_minor": 4
}
