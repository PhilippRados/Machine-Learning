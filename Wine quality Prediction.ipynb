{
 "cells": [
  {
   "cell_type": "code",
   "execution_count": 377,
   "metadata": {},
   "outputs": [],
   "source": [
    "import pandas as pd\n",
    "import numpy as np\n",
    "import matplotlib.pyplot as plt\n",
    "import seaborn as sns\n",
    "sns.set()"
   ]
  },
  {
   "cell_type": "code",
   "execution_count": 378,
   "metadata": {},
   "outputs": [
    {
     "data": {
      "text/html": [
       "<div>\n",
       "<style scoped>\n",
       "    .dataframe tbody tr th:only-of-type {\n",
       "        vertical-align: middle;\n",
       "    }\n",
       "\n",
       "    .dataframe tbody tr th {\n",
       "        vertical-align: top;\n",
       "    }\n",
       "\n",
       "    .dataframe thead th {\n",
       "        text-align: right;\n",
       "    }\n",
       "</style>\n",
       "<table border=\"1\" class=\"dataframe\">\n",
       "  <thead>\n",
       "    <tr style=\"text-align: right;\">\n",
       "      <th></th>\n",
       "      <th>fixed acidity</th>\n",
       "      <th>volatile acidity</th>\n",
       "      <th>citric acid</th>\n",
       "      <th>residual sugar</th>\n",
       "      <th>chlorides</th>\n",
       "      <th>free sulfur dioxide</th>\n",
       "      <th>total sulfur dioxide</th>\n",
       "      <th>density</th>\n",
       "      <th>pH</th>\n",
       "      <th>sulphates</th>\n",
       "      <th>alcohol</th>\n",
       "      <th>quality</th>\n",
       "    </tr>\n",
       "  </thead>\n",
       "  <tbody>\n",
       "    <tr>\n",
       "      <th>0</th>\n",
       "      <td>7.0</td>\n",
       "      <td>0.27</td>\n",
       "      <td>0.36</td>\n",
       "      <td>20.7</td>\n",
       "      <td>0.045</td>\n",
       "      <td>45.0</td>\n",
       "      <td>170.0</td>\n",
       "      <td>1.0010</td>\n",
       "      <td>3.00</td>\n",
       "      <td>0.45</td>\n",
       "      <td>8.8</td>\n",
       "      <td>6</td>\n",
       "    </tr>\n",
       "    <tr>\n",
       "      <th>1</th>\n",
       "      <td>6.3</td>\n",
       "      <td>0.30</td>\n",
       "      <td>0.34</td>\n",
       "      <td>1.6</td>\n",
       "      <td>0.049</td>\n",
       "      <td>14.0</td>\n",
       "      <td>132.0</td>\n",
       "      <td>0.9940</td>\n",
       "      <td>3.30</td>\n",
       "      <td>0.49</td>\n",
       "      <td>9.5</td>\n",
       "      <td>6</td>\n",
       "    </tr>\n",
       "    <tr>\n",
       "      <th>2</th>\n",
       "      <td>8.1</td>\n",
       "      <td>0.28</td>\n",
       "      <td>0.40</td>\n",
       "      <td>6.9</td>\n",
       "      <td>0.050</td>\n",
       "      <td>30.0</td>\n",
       "      <td>97.0</td>\n",
       "      <td>0.9951</td>\n",
       "      <td>3.26</td>\n",
       "      <td>0.44</td>\n",
       "      <td>10.1</td>\n",
       "      <td>6</td>\n",
       "    </tr>\n",
       "    <tr>\n",
       "      <th>3</th>\n",
       "      <td>7.2</td>\n",
       "      <td>0.23</td>\n",
       "      <td>0.32</td>\n",
       "      <td>8.5</td>\n",
       "      <td>0.058</td>\n",
       "      <td>47.0</td>\n",
       "      <td>186.0</td>\n",
       "      <td>0.9956</td>\n",
       "      <td>3.19</td>\n",
       "      <td>0.40</td>\n",
       "      <td>9.9</td>\n",
       "      <td>6</td>\n",
       "    </tr>\n",
       "    <tr>\n",
       "      <th>4</th>\n",
       "      <td>7.2</td>\n",
       "      <td>0.23</td>\n",
       "      <td>0.32</td>\n",
       "      <td>8.5</td>\n",
       "      <td>0.058</td>\n",
       "      <td>47.0</td>\n",
       "      <td>186.0</td>\n",
       "      <td>0.9956</td>\n",
       "      <td>3.19</td>\n",
       "      <td>0.40</td>\n",
       "      <td>9.9</td>\n",
       "      <td>6</td>\n",
       "    </tr>\n",
       "  </tbody>\n",
       "</table>\n",
       "</div>"
      ],
      "text/plain": [
       "   fixed acidity  volatile acidity  citric acid  residual sugar  chlorides  \\\n",
       "0            7.0              0.27         0.36            20.7      0.045   \n",
       "1            6.3              0.30         0.34             1.6      0.049   \n",
       "2            8.1              0.28         0.40             6.9      0.050   \n",
       "3            7.2              0.23         0.32             8.5      0.058   \n",
       "4            7.2              0.23         0.32             8.5      0.058   \n",
       "\n",
       "   free sulfur dioxide  total sulfur dioxide  density    pH  sulphates  \\\n",
       "0                 45.0                 170.0   1.0010  3.00       0.45   \n",
       "1                 14.0                 132.0   0.9940  3.30       0.49   \n",
       "2                 30.0                  97.0   0.9951  3.26       0.44   \n",
       "3                 47.0                 186.0   0.9956  3.19       0.40   \n",
       "4                 47.0                 186.0   0.9956  3.19       0.40   \n",
       "\n",
       "   alcohol  quality  \n",
       "0      8.8        6  \n",
       "1      9.5        6  \n",
       "2     10.1        6  \n",
       "3      9.9        6  \n",
       "4      9.9        6  "
      ]
     },
     "execution_count": 378,
     "metadata": {},
     "output_type": "execute_result"
    }
   ],
   "source": [
    "wines = pd.read_csv(\"../examples/ML/winequality-white.csv\",delimiter=\";\")\n",
    "wines.head()"
   ]
  },
  {
   "cell_type": "code",
   "execution_count": 379,
   "metadata": {},
   "outputs": [
    {
     "data": {
      "text/plain": [
       "array([[<matplotlib.axes._subplots.AxesSubplot object at 0x2040C710>,\n",
       "        <matplotlib.axes._subplots.AxesSubplot object at 0x22E341B0>,\n",
       "        <matplotlib.axes._subplots.AxesSubplot object at 0x22E50B50>],\n",
       "       [<matplotlib.axes._subplots.AxesSubplot object at 0x22829BF0>,\n",
       "        <matplotlib.axes._subplots.AxesSubplot object at 0x22847C90>,\n",
       "        <matplotlib.axes._subplots.AxesSubplot object at 0x22E23930>],\n",
       "       [<matplotlib.axes._subplots.AxesSubplot object at 0x228778F0>,\n",
       "        <matplotlib.axes._subplots.AxesSubplot object at 0x2288F5F0>,\n",
       "        <matplotlib.axes._subplots.AxesSubplot object at 0x2288FB90>],\n",
       "       [<matplotlib.axes._subplots.AxesSubplot object at 0x228A8F70>,\n",
       "        <matplotlib.axes._subplots.AxesSubplot object at 0x228E6F50>,\n",
       "        <matplotlib.axes._subplots.AxesSubplot object at 0x22910830>]],\n",
       "      dtype=object)"
      ]
     },
     "execution_count": 379,
     "metadata": {},
     "output_type": "execute_result"
    },
    {
     "data": {
      "image/png": "[encoded data removed]",
      "text/plain": [
       "<Figure size 1440x1080 with 12 Axes>"
      ]
     },
     "metadata": {},
     "output_type": "display_data"
    }
   ],
   "source": [
    "wines.hist(bins=50,figsize=(20,15))"
   ]
  },
  {
   "cell_type": "markdown",
   "metadata": {},
   "source": [
    "It's pretty convennient that we don't have any categorical data. So we don't have to do any further transformations there."
   ]
  },
  {
   "cell_type": "code",
   "execution_count": 380,
   "metadata": {},
   "outputs": [
    {
     "name": "stdout",
     "output_type": "stream",
     "text": [
      "<class 'pandas.core.frame.DataFrame'>\n",
      "RangeIndex: 4898 entries, 0 to 4897\n",
      "Data columns (total 12 columns):\n",
      "fixed acidity           4898 non-null float64\n",
      "volatile acidity        4898 non-null float64\n",
      "citric acid             4898 non-null float64\n",
      "residual sugar          4898 non-null float64\n",
      "chlorides               4898 non-null float64\n",
      "free sulfur dioxide     4898 non-null float64\n",
      "total sulfur dioxide    4898 non-null float64\n",
      "density                 4898 non-null float64\n",
      "pH                      4898 non-null float64\n",
      "sulphates               4898 non-null float64\n",
      "alcohol                 4898 non-null float64\n",
      "quality                 4898 non-null int64\n",
      "dtypes: float64(11), int64(1)\n",
      "memory usage: 459.2 KB\n"
     ]
    }
   ],
   "source": [
    "wines.info()"
   ]
  },
  {
   "cell_type": "markdown",
   "metadata": {},
   "source": [
    "I plot the correlation in all the columns to see which have the most"
   ]
  },
  {
   "cell_type": "code",
   "execution_count": 381,
   "metadata": {},
   "outputs": [
    {
     "data": {
      "text/html": [
       "<style  type=\"text/css\" >\n",
       "    #T_0fc59674_8f01_11ea_9d4e_4cedfbbd6d0arow0_col0 {\n",
       "            background-color:  #008000;\n",
       "            color:  #f1f1f1;\n",
       "        }    #T_0fc59674_8f01_11ea_9d4e_4cedfbbd6d0arow0_col1 {\n",
       "            background-color:  #c5edc5;\n",
       "            color:  #000000;\n",
       "        }    #T_0fc59674_8f01_11ea_9d4e_4cedfbbd6d0arow0_col2 {\n",
       "            background-color:  #8cce8c;\n",
       "            color:  #000000;\n",
       "        }    #T_0fc59674_8f01_11ea_9d4e_4cedfbbd6d0arow0_col3 {\n",
       "            background-color:  #90d090;\n",
       "            color:  #000000;\n",
       "        }    #T_0fc59674_8f01_11ea_9d4e_4cedfbbd6d0arow0_col4 {\n",
       "            background-color:  #a5dba5;\n",
       "            color:  #000000;\n",
       "        }    #T_0fc59674_8f01_11ea_9d4e_4cedfbbd6d0arow0_col5 {\n",
       "            background-color:  #c1ebc1;\n",
       "            color:  #000000;\n",
       "        }    #T_0fc59674_8f01_11ea_9d4e_4cedfbbd6d0arow0_col6 {\n",
       "            background-color:  #90d090;\n",
       "            color:  #000000;\n",
       "        }    #T_0fc59674_8f01_11ea_9d4e_4cedfbbd6d0arow0_col7 {\n",
       "            background-color:  #5eb45e;\n",
       "            color:  #000000;\n",
       "        }    #T_0fc59674_8f01_11ea_9d4e_4cedfbbd6d0arow0_col8 {\n",
       "            background-color:  #e5ffe5;\n",
       "            color:  #000000;\n",
       "        }    #T_0fc59674_8f01_11ea_9d4e_4cedfbbd6d0arow0_col9 {\n",
       "            background-color:  #e2fde2;\n",
       "            color:  #000000;\n",
       "        }    #T_0fc59674_8f01_11ea_9d4e_4cedfbbd6d0arow0_col10 {\n",
       "            background-color:  #91d091;\n",
       "            color:  #000000;\n",
       "        }    #T_0fc59674_8f01_11ea_9d4e_4cedfbbd6d0arow0_col11 {\n",
       "            background-color:  #c4edc4;\n",
       "            color:  #000000;\n",
       "        }    #T_0fc59674_8f01_11ea_9d4e_4cedfbbd6d0arow1_col0 {\n",
       "            background-color:  #a5dba5;\n",
       "            color:  #000000;\n",
       "        }    #T_0fc59674_8f01_11ea_9d4e_4cedfbbd6d0arow1_col1 {\n",
       "            background-color:  #008000;\n",
       "            color:  #f1f1f1;\n",
       "        }    #T_0fc59674_8f01_11ea_9d4e_4cedfbbd6d0arow1_col2 {\n",
       "            background-color:  #e3fee3;\n",
       "            color:  #000000;\n",
       "        }    #T_0fc59674_8f01_11ea_9d4e_4cedfbbd6d0arow1_col3 {\n",
       "            background-color:  #94d294;\n",
       "            color:  #000000;\n",
       "        }    #T_0fc59674_8f01_11ea_9d4e_4cedfbbd6d0arow1_col4 {\n",
       "            background-color:  #9dd79d;\n",
       "            color:  #000000;\n",
       "        }    #T_0fc59674_8f01_11ea_9d4e_4cedfbbd6d0arow1_col5 {\n",
       "            background-color:  #caf0ca;\n",
       "            color:  #000000;\n",
       "        }    #T_0fc59674_8f01_11ea_9d4e_4cedfbbd6d0arow1_col6 {\n",
       "            background-color:  #90d090;\n",
       "            color:  #000000;\n",
       "        }    #T_0fc59674_8f01_11ea_9d4e_4cedfbbd6d0arow1_col7 {\n",
       "            background-color:  #7dc57d;\n",
       "            color:  #000000;\n",
       "        }    #T_0fc59674_8f01_11ea_9d4e_4cedfbbd6d0arow1_col8 {\n",
       "            background-color:  #a6dca6;\n",
       "            color:  #000000;\n",
       "        }    #T_0fc59674_8f01_11ea_9d4e_4cedfbbd6d0arow1_col9 {\n",
       "            background-color:  #e5ffe5;\n",
       "            color:  #000000;\n",
       "        }    #T_0fc59674_8f01_11ea_9d4e_4cedfbbd6d0arow1_col10 {\n",
       "            background-color:  #79c379;\n",
       "            color:  #000000;\n",
       "        }    #T_0fc59674_8f01_11ea_9d4e_4cedfbbd6d0arow1_col11 {\n",
       "            background-color:  #d2f4d2;\n",
       "            color:  #000000;\n",
       "        }    #T_0fc59674_8f01_11ea_9d4e_4cedfbbd6d0arow2_col0 {\n",
       "            background-color:  #72bf72;\n",
       "            color:  #000000;\n",
       "        }    #T_0fc59674_8f01_11ea_9d4e_4cedfbbd6d0arow2_col1 {\n",
       "            background-color:  #ddfbdd;\n",
       "            color:  #000000;\n",
       "        }    #T_0fc59674_8f01_11ea_9d4e_4cedfbbd6d0arow2_col2 {\n",
       "            background-color:  #008000;\n",
       "            color:  #f1f1f1;\n",
       "        }    #T_0fc59674_8f01_11ea_9d4e_4cedfbbd6d0arow2_col3 {\n",
       "            background-color:  #8fcf8f;\n",
       "            color:  #000000;\n",
       "        }    #T_0fc59674_8f01_11ea_9d4e_4cedfbbd6d0arow2_col4 {\n",
       "            background-color:  #95d395;\n",
       "            color:  #000000;\n",
       "        }    #T_0fc59674_8f01_11ea_9d4e_4cedfbbd6d0arow2_col5 {\n",
       "            background-color:  #a6dca6;\n",
       "            color:  #000000;\n",
       "        }    #T_0fc59674_8f01_11ea_9d4e_4cedfbbd6d0arow2_col6 {\n",
       "            background-color:  #8bcd8b;\n",
       "            color:  #000000;\n",
       "        }    #T_0fc59674_8f01_11ea_9d4e_4cedfbbd6d0arow2_col7 {\n",
       "            background-color:  #6ebd6e;\n",
       "            color:  #000000;\n",
       "        }    #T_0fc59674_8f01_11ea_9d4e_4cedfbbd6d0arow2_col8 {\n",
       "            background-color:  #bbe8bb;\n",
       "            color:  #000000;\n",
       "        }    #T_0fc59674_8f01_11ea_9d4e_4cedfbbd6d0arow2_col9 {\n",
       "            background-color:  #d0f3d0;\n",
       "            color:  #000000;\n",
       "        }    #T_0fc59674_8f01_11ea_9d4e_4cedfbbd6d0arow2_col10 {\n",
       "            background-color:  #8bcd8b;\n",
       "            color:  #000000;\n",
       "        }    #T_0fc59674_8f01_11ea_9d4e_4cedfbbd6d0arow2_col11 {\n",
       "            background-color:  #b1e2b1;\n",
       "            color:  #000000;\n",
       "        }    #T_0fc59674_8f01_11ea_9d4e_4cedfbbd6d0arow3_col0 {\n",
       "            background-color:  #93d193;\n",
       "            color:  #000000;\n",
       "        }    #T_0fc59674_8f01_11ea_9d4e_4cedfbbd6d0arow3_col1 {\n",
       "            background-color:  #b4e4b4;\n",
       "            color:  #000000;\n",
       "        }    #T_0fc59674_8f01_11ea_9d4e_4cedfbbd6d0arow3_col2 {\n",
       "            background-color:  #b3e3b3;\n",
       "            color:  #000000;\n",
       "        }    #T_0fc59674_8f01_11ea_9d4e_4cedfbbd6d0arow3_col3 {\n",
       "            background-color:  #008000;\n",
       "            color:  #f1f1f1;\n",
       "        }    #T_0fc59674_8f01_11ea_9d4e_4cedfbbd6d0arow3_col4 {\n",
       "            background-color:  #9ad59a;\n",
       "            color:  #000000;\n",
       "        }    #T_0fc59674_8f01_11ea_9d4e_4cedfbbd6d0arow3_col5 {\n",
       "            background-color:  #81c781;\n",
       "            color:  #000000;\n",
       "        }    #T_0fc59674_8f01_11ea_9d4e_4cedfbbd6d0arow3_col6 {\n",
       "            background-color:  #5eb45e;\n",
       "            color:  #000000;\n",
       "        }    #T_0fc59674_8f01_11ea_9d4e_4cedfbbd6d0arow3_col7 {\n",
       "            background-color:  #158b15;\n",
       "            color:  #000000;\n",
       "        }    #T_0fc59674_8f01_11ea_9d4e_4cedfbbd6d0arow3_col8 {\n",
       "            background-color:  #c1ebc1;\n",
       "            color:  #000000;\n",
       "        }    #T_0fc59674_8f01_11ea_9d4e_4cedfbbd6d0arow3_col9 {\n",
       "            background-color:  #e4fee4;\n",
       "            color:  #000000;\n",
       "        }    #T_0fc59674_8f01_11ea_9d4e_4cedfbbd6d0arow3_col10 {\n",
       "            background-color:  #bbe8bb;\n",
       "            color:  #000000;\n",
       "        }    #T_0fc59674_8f01_11ea_9d4e_4cedfbbd6d0arow3_col11 {\n",
       "            background-color:  #c1ebc1;\n",
       "            color:  #000000;\n",
       "        }    #T_0fc59674_8f01_11ea_9d4e_4cedfbbd6d0arow4_col0 {\n",
       "            background-color:  #9ed79e;\n",
       "            color:  #000000;\n",
       "        }    #T_0fc59674_8f01_11ea_9d4e_4cedfbbd6d0arow4_col1 {\n",
       "            background-color:  #b3e3b3;\n",
       "            color:  #000000;\n",
       "        }    #T_0fc59674_8f01_11ea_9d4e_4cedfbbd6d0arow4_col2 {\n",
       "            background-color:  #afe1af;\n",
       "            color:  #000000;\n",
       "        }    #T_0fc59674_8f01_11ea_9d4e_4cedfbbd6d0arow4_col3 {\n",
       "            background-color:  #90d090;\n",
       "            color:  #000000;\n",
       "        }    #T_0fc59674_8f01_11ea_9d4e_4cedfbbd6d0arow4_col4 {\n",
       "            background-color:  #008000;\n",
       "            color:  #f1f1f1;\n",
       "        }    #T_0fc59674_8f01_11ea_9d4e_4cedfbbd6d0arow4_col5 {\n",
       "            background-color:  #a6dca6;\n",
       "            color:  #000000;\n",
       "        }    #T_0fc59674_8f01_11ea_9d4e_4cedfbbd6d0arow4_col6 {\n",
       "            background-color:  #7fc67f;\n",
       "            color:  #000000;\n",
       "        }    #T_0fc59674_8f01_11ea_9d4e_4cedfbbd6d0arow4_col7 {\n",
       "            background-color:  #5fb55f;\n",
       "            color:  #000000;\n",
       "        }    #T_0fc59674_8f01_11ea_9d4e_4cedfbbd6d0arow4_col8 {\n",
       "            background-color:  #b0e1b0;\n",
       "            color:  #000000;\n",
       "        }    #T_0fc59674_8f01_11ea_9d4e_4cedfbbd6d0arow4_col9 {\n",
       "            background-color:  #dbf9db;\n",
       "            color:  #000000;\n",
       "        }    #T_0fc59674_8f01_11ea_9d4e_4cedfbbd6d0arow4_col10 {\n",
       "            background-color:  #b0e1b0;\n",
       "            color:  #000000;\n",
       "        }    #T_0fc59674_8f01_11ea_9d4e_4cedfbbd6d0arow4_col11 {\n",
       "            background-color:  #d4f6d4;\n",
       "            color:  #000000;\n",
       "        }    #T_0fc59674_8f01_11ea_9d4e_4cedfbbd6d0arow5_col0 {\n",
       "            background-color:  #a9dea9;\n",
       "            color:  #000000;\n",
       "        }    #T_0fc59674_8f01_11ea_9d4e_4cedfbbd6d0arow5_col1 {\n",
       "            background-color:  #d3f5d3;\n",
       "            color:  #000000;\n",
       "        }    #T_0fc59674_8f01_11ea_9d4e_4cedfbbd6d0arow5_col2 {\n",
       "            background-color:  #b3e3b3;\n",
       "            color:  #000000;\n",
       "        }    #T_0fc59674_8f01_11ea_9d4e_4cedfbbd6d0arow5_col3 {\n",
       "            background-color:  #6fbd6f;\n",
       "            color:  #000000;\n",
       "        }    #T_0fc59674_8f01_11ea_9d4e_4cedfbbd6d0arow5_col4 {\n",
       "            background-color:  #98d498;\n",
       "            color:  #000000;\n",
       "        }    #T_0fc59674_8f01_11ea_9d4e_4cedfbbd6d0arow5_col5 {\n",
       "            background-color:  #008000;\n",
       "            color:  #f1f1f1;\n",
       "        }    #T_0fc59674_8f01_11ea_9d4e_4cedfbbd6d0arow5_col6 {\n",
       "            background-color:  #3ca13c;\n",
       "            color:  #000000;\n",
       "        }    #T_0fc59674_8f01_11ea_9d4e_4cedfbbd6d0arow5_col7 {\n",
       "            background-color:  #5bb25b;\n",
       "            color:  #000000;\n",
       "        }    #T_0fc59674_8f01_11ea_9d4e_4cedfbbd6d0arow5_col8 {\n",
       "            background-color:  #a1d9a1;\n",
       "            color:  #000000;\n",
       "        }    #T_0fc59674_8f01_11ea_9d4e_4cedfbbd6d0arow5_col9 {\n",
       "            background-color:  #d1f4d1;\n",
       "            color:  #000000;\n",
       "        }    #T_0fc59674_8f01_11ea_9d4e_4cedfbbd6d0arow5_col10 {\n",
       "            background-color:  #a1d9a1;\n",
       "            color:  #000000;\n",
       "        }    #T_0fc59674_8f01_11ea_9d4e_4cedfbbd6d0arow5_col11 {\n",
       "            background-color:  #afe1af;\n",
       "            color:  #000000;\n",
       "        }    #T_0fc59674_8f01_11ea_9d4e_4cedfbbd6d0arow6_col0 {\n",
       "            background-color:  #93d193;\n",
       "            color:  #000000;\n",
       "        }    #T_0fc59674_8f01_11ea_9d4e_4cedfbbd6d0arow6_col1 {\n",
       "            background-color:  #b0e1b0;\n",
       "            color:  #000000;\n",
       "        }    #T_0fc59674_8f01_11ea_9d4e_4cedfbbd6d0arow6_col2 {\n",
       "            background-color:  #aee0ae;\n",
       "            color:  #000000;\n",
       "        }    #T_0fc59674_8f01_11ea_9d4e_4cedfbbd6d0arow6_col3 {\n",
       "            background-color:  #5eb45e;\n",
       "            color:  #000000;\n",
       "        }    #T_0fc59674_8f01_11ea_9d4e_4cedfbbd6d0arow6_col4 {\n",
       "            background-color:  #87cb87;\n",
       "            color:  #000000;\n",
       "        }    #T_0fc59674_8f01_11ea_9d4e_4cedfbbd6d0arow6_col5 {\n",
       "            background-color:  #46a746;\n",
       "            color:  #000000;\n",
       "        }    #T_0fc59674_8f01_11ea_9d4e_4cedfbbd6d0arow6_col6 {\n",
       "            background-color:  #008000;\n",
       "            color:  #f1f1f1;\n",
       "        }    #T_0fc59674_8f01_11ea_9d4e_4cedfbbd6d0arow6_col7 {\n",
       "            background-color:  #3ca13c;\n",
       "            color:  #000000;\n",
       "        }    #T_0fc59674_8f01_11ea_9d4e_4cedfbbd6d0arow6_col8 {\n",
       "            background-color:  #a1d9a1;\n",
       "            color:  #000000;\n",
       "        }    #T_0fc59674_8f01_11ea_9d4e_4cedfbbd6d0arow6_col9 {\n",
       "            background-color:  #c0eac0;\n",
       "            color:  #000000;\n",
       "        }    #T_0fc59674_8f01_11ea_9d4e_4cedfbbd6d0arow6_col10 {\n",
       "            background-color:  #bbe8bb;\n",
       "            color:  #000000;\n",
       "        }    #T_0fc59674_8f01_11ea_9d4e_4cedfbbd6d0arow6_col11 {\n",
       "            background-color:  #cff3cf;\n",
       "            color:  #000000;\n",
       "        }    #T_0fc59674_8f01_11ea_9d4e_4cedfbbd6d0arow7_col0 {\n",
       "            background-color:  #76c176;\n",
       "            color:  #000000;\n",
       "        }    #T_0fc59674_8f01_11ea_9d4e_4cedfbbd6d0arow7_col1 {\n",
       "            background-color:  #bbe8bb;\n",
       "            color:  #000000;\n",
       "        }    #T_0fc59674_8f01_11ea_9d4e_4cedfbbd6d0arow7_col2 {\n",
       "            background-color:  #a8dda8;\n",
       "            color:  #000000;\n",
       "        }    #T_0fc59674_8f01_11ea_9d4e_4cedfbbd6d0arow7_col3 {\n",
       "            background-color:  #198e19;\n",
       "            color:  #000000;\n",
       "        }    #T_0fc59674_8f01_11ea_9d4e_4cedfbbd6d0arow7_col4 {\n",
       "            background-color:  #7dc57d;\n",
       "            color:  #000000;\n",
       "        }    #T_0fc59674_8f01_11ea_9d4e_4cedfbbd6d0arow7_col5 {\n",
       "            background-color:  #82c882;\n",
       "            color:  #000000;\n",
       "        }    #T_0fc59674_8f01_11ea_9d4e_4cedfbbd6d0arow7_col6 {\n",
       "            background-color:  #4ba94b;\n",
       "            color:  #000000;\n",
       "        }    #T_0fc59674_8f01_11ea_9d4e_4cedfbbd6d0arow7_col7 {\n",
       "            background-color:  #008000;\n",
       "            color:  #f1f1f1;\n",
       "        }    #T_0fc59674_8f01_11ea_9d4e_4cedfbbd6d0arow7_col8 {\n",
       "            background-color:  #b0e2b0;\n",
       "            color:  #000000;\n",
       "        }    #T_0fc59674_8f01_11ea_9d4e_4cedfbbd6d0arow7_col9 {\n",
       "            background-color:  #cdf2cd;\n",
       "            color:  #000000;\n",
       "        }    #T_0fc59674_8f01_11ea_9d4e_4cedfbbd6d0arow7_col10 {\n",
       "            background-color:  #e5ffe5;\n",
       "            color:  #000000;\n",
       "        }    #T_0fc59674_8f01_11ea_9d4e_4cedfbbd6d0arow7_col11 {\n",
       "            background-color:  #e5ffe5;\n",
       "            color:  #000000;\n",
       "        }    #T_0fc59674_8f01_11ea_9d4e_4cedfbbd6d0arow8_col0 {\n",
       "            background-color:  #e5ffe5;\n",
       "            color:  #000000;\n",
       "        }    #T_0fc59674_8f01_11ea_9d4e_4cedfbbd6d0arow8_col1 {\n",
       "            background-color:  #c7eec7;\n",
       "            color:  #000000;\n",
       "        }    #T_0fc59674_8f01_11ea_9d4e_4cedfbbd6d0arow8_col2 {\n",
       "            background-color:  #e5ffe5;\n",
       "            color:  #000000;\n",
       "        }    #T_0fc59674_8f01_11ea_9d4e_4cedfbbd6d0arow8_col3 {\n",
       "            background-color:  #bde9bd;\n",
       "            color:  #000000;\n",
       "        }    #T_0fc59674_8f01_11ea_9d4e_4cedfbbd6d0arow8_col4 {\n",
       "            background-color:  #b8e6b8;\n",
       "            color:  #000000;\n",
       "        }    #T_0fc59674_8f01_11ea_9d4e_4cedfbbd6d0arow8_col5 {\n",
       "            background-color:  #b8e6b8;\n",
       "            color:  #000000;\n",
       "        }    #T_0fc59674_8f01_11ea_9d4e_4cedfbbd6d0arow8_col6 {\n",
       "            background-color:  #9ed89e;\n",
       "            color:  #000000;\n",
       "        }    #T_0fc59674_8f01_11ea_9d4e_4cedfbbd6d0arow8_col7 {\n",
       "            background-color:  #8dce8d;\n",
       "            color:  #000000;\n",
       "        }    #T_0fc59674_8f01_11ea_9d4e_4cedfbbd6d0arow8_col8 {\n",
       "            background-color:  #008000;\n",
       "            color:  #f1f1f1;\n",
       "        }    #T_0fc59674_8f01_11ea_9d4e_4cedfbbd6d0arow8_col9 {\n",
       "            background-color:  #bbe8bb;\n",
       "            color:  #000000;\n",
       "        }    #T_0fc59674_8f01_11ea_9d4e_4cedfbbd6d0arow8_col10 {\n",
       "            background-color:  #71bf71;\n",
       "            color:  #000000;\n",
       "        }    #T_0fc59674_8f01_11ea_9d4e_4cedfbbd6d0arow8_col11 {\n",
       "            background-color:  #9ed89e;\n",
       "            color:  #000000;\n",
       "        }    #T_0fc59674_8f01_11ea_9d4e_4cedfbbd6d0arow9_col0 {\n",
       "            background-color:  #a4dba4;\n",
       "            color:  #000000;\n",
       "        }    #T_0fc59674_8f01_11ea_9d4e_4cedfbbd6d0arow9_col1 {\n",
       "            background-color:  #c7eec7;\n",
       "            color:  #000000;\n",
       "        }    #T_0fc59674_8f01_11ea_9d4e_4cedfbbd6d0arow9_col2 {\n",
       "            background-color:  #b9e7b9;\n",
       "            color:  #000000;\n",
       "        }    #T_0fc59674_8f01_11ea_9d4e_4cedfbbd6d0arow9_col3 {\n",
       "            background-color:  #a3daa3;\n",
       "            color:  #000000;\n",
       "        }    #T_0fc59674_8f01_11ea_9d4e_4cedfbbd6d0arow9_col4 {\n",
       "            background-color:  #a6dca6;\n",
       "            color:  #000000;\n",
       "        }    #T_0fc59674_8f01_11ea_9d4e_4cedfbbd6d0arow9_col5 {\n",
       "            background-color:  #ade0ad;\n",
       "            color:  #000000;\n",
       "        }    #T_0fc59674_8f01_11ea_9d4e_4cedfbbd6d0arow9_col6 {\n",
       "            background-color:  #89cc89;\n",
       "            color:  #000000;\n",
       "        }    #T_0fc59674_8f01_11ea_9d4e_4cedfbbd6d0arow9_col7 {\n",
       "            background-color:  #78c278;\n",
       "            color:  #000000;\n",
       "        }    #T_0fc59674_8f01_11ea_9d4e_4cedfbbd6d0arow9_col8 {\n",
       "            background-color:  #88cb88;\n",
       "            color:  #000000;\n",
       "        }    #T_0fc59674_8f01_11ea_9d4e_4cedfbbd6d0arow9_col9 {\n",
       "            background-color:  #008000;\n",
       "            color:  #f1f1f1;\n",
       "        }    #T_0fc59674_8f01_11ea_9d4e_4cedfbbd6d0arow9_col10 {\n",
       "            background-color:  #83c983;\n",
       "            color:  #000000;\n",
       "        }    #T_0fc59674_8f01_11ea_9d4e_4cedfbbd6d0arow9_col11 {\n",
       "            background-color:  #a6dca6;\n",
       "            color:  #000000;\n",
       "        }    #T_0fc59674_8f01_11ea_9d4e_4cedfbbd6d0arow10_col0 {\n",
       "            background-color:  #b5e4b5;\n",
       "            color:  #000000;\n",
       "        }    #T_0fc59674_8f01_11ea_9d4e_4cedfbbd6d0arow10_col1 {\n",
       "            background-color:  #b3e3b3;\n",
       "            color:  #000000;\n",
       "        }    #T_0fc59674_8f01_11ea_9d4e_4cedfbbd6d0arow10_col2 {\n",
       "            background-color:  #d4f6d4;\n",
       "            color:  #000000;\n",
       "        }    #T_0fc59674_8f01_11ea_9d4e_4cedfbbd6d0arow10_col3 {\n",
       "            background-color:  #e5ffe5;\n",
       "            color:  #000000;\n",
       "        }    #T_0fc59674_8f01_11ea_9d4e_4cedfbbd6d0arow10_col4 {\n",
       "            background-color:  #e5ffe5;\n",
       "            color:  #000000;\n",
       "        }    #T_0fc59674_8f01_11ea_9d4e_4cedfbbd6d0arow10_col5 {\n",
       "            background-color:  #e5ffe5;\n",
       "            color:  #000000;\n",
       "        }    #T_0fc59674_8f01_11ea_9d4e_4cedfbbd6d0arow10_col6 {\n",
       "            background-color:  #e5ffe5;\n",
       "            color:  #000000;\n",
       "        }    #T_0fc59674_8f01_11ea_9d4e_4cedfbbd6d0arow10_col7 {\n",
       "            background-color:  #e5ffe5;\n",
       "            color:  #000000;\n",
       "        }    #T_0fc59674_8f01_11ea_9d4e_4cedfbbd6d0arow10_col8 {\n",
       "            background-color:  #8dce8d;\n",
       "            color:  #000000;\n",
       "        }    #T_0fc59674_8f01_11ea_9d4e_4cedfbbd6d0arow10_col9 {\n",
       "            background-color:  #e2fde2;\n",
       "            color:  #000000;\n",
       "        }    #T_0fc59674_8f01_11ea_9d4e_4cedfbbd6d0arow10_col10 {\n",
       "            background-color:  #008000;\n",
       "            color:  #f1f1f1;\n",
       "        }    #T_0fc59674_8f01_11ea_9d4e_4cedfbbd6d0arow10_col11 {\n",
       "            background-color:  #63b763;\n",
       "            color:  #000000;\n",
       "        }    #T_0fc59674_8f01_11ea_9d4e_4cedfbbd6d0arow11_col0 {\n",
       "            background-color:  #b3e3b3;\n",
       "            color:  #000000;\n",
       "        }    #T_0fc59674_8f01_11ea_9d4e_4cedfbbd6d0arow11_col1 {\n",
       "            background-color:  #e5ffe5;\n",
       "            color:  #000000;\n",
       "        }    #T_0fc59674_8f01_11ea_9d4e_4cedfbbd6d0arow11_col2 {\n",
       "            background-color:  #c8efc8;\n",
       "            color:  #000000;\n",
       "        }    #T_0fc59674_8f01_11ea_9d4e_4cedfbbd6d0arow11_col3 {\n",
       "            background-color:  #aee0ae;\n",
       "            color:  #000000;\n",
       "        }    #T_0fc59674_8f01_11ea_9d4e_4cedfbbd6d0arow11_col4 {\n",
       "            background-color:  #ccf1cc;\n",
       "            color:  #000000;\n",
       "        }    #T_0fc59674_8f01_11ea_9d4e_4cedfbbd6d0arow11_col5 {\n",
       "            background-color:  #b7e5b7;\n",
       "            color:  #000000;\n",
       "        }    #T_0fc59674_8f01_11ea_9d4e_4cedfbbd6d0arow11_col6 {\n",
       "            background-color:  #bae7ba;\n",
       "            color:  #000000;\n",
       "        }    #T_0fc59674_8f01_11ea_9d4e_4cedfbbd6d0arow11_col7 {\n",
       "            background-color:  #a8dda8;\n",
       "            color:  #000000;\n",
       "        }    #T_0fc59674_8f01_11ea_9d4e_4cedfbbd6d0arow11_col8 {\n",
       "            background-color:  #91d091;\n",
       "            color:  #000000;\n",
       "        }    #T_0fc59674_8f01_11ea_9d4e_4cedfbbd6d0arow11_col9 {\n",
       "            background-color:  #d2f4d2;\n",
       "            color:  #000000;\n",
       "        }    #T_0fc59674_8f01_11ea_9d4e_4cedfbbd6d0arow11_col10 {\n",
       "            background-color:  #49a849;\n",
       "            color:  #000000;\n",
       "        }    #T_0fc59674_8f01_11ea_9d4e_4cedfbbd6d0arow11_col11 {\n",
       "            background-color:  #008000;\n",
       "            color:  #f1f1f1;\n",
       "        }</style><table id=\"T_0fc59674_8f01_11ea_9d4e_4cedfbbd6d0a\" ><thead>    <tr>        <th class=\"blank level0\" ></th>        <th class=\"col_heading level0 col0\" >fixed acidity</th>        <th class=\"col_heading level0 col1\" >volatile acidity</th>        <th class=\"col_heading level0 col2\" >citric acid</th>        <th class=\"col_heading level0 col3\" >residual sugar</th>        <th class=\"col_heading level0 col4\" >chlorides</th>        <th class=\"col_heading level0 col5\" >free sulfur dioxide</th>        <th class=\"col_heading level0 col6\" >total sulfur dioxide</th>        <th class=\"col_heading level0 col7\" >density</th>        <th class=\"col_heading level0 col8\" >pH</th>        <th class=\"col_heading level0 col9\" >sulphates</th>        <th class=\"col_heading level0 col10\" >alcohol</th>        <th class=\"col_heading level0 col11\" >quality</th>    </tr></thead><tbody>\n",
       "                <tr>\n",
       "                        <th id=\"T_0fc59674_8f01_11ea_9d4e_4cedfbbd6d0alevel0_row0\" class=\"row_heading level0 row0\" >fixed acidity</th>\n",
       "                        <td id=\"T_0fc59674_8f01_11ea_9d4e_4cedfbbd6d0arow0_col0\" class=\"data row0 col0\" >1</td>\n",
       "                        <td id=\"T_0fc59674_8f01_11ea_9d4e_4cedfbbd6d0arow0_col1\" class=\"data row0 col1\" >-0.0226973</td>\n",
       "                        <td id=\"T_0fc59674_8f01_11ea_9d4e_4cedfbbd6d0arow0_col2\" class=\"data row0 col2\" >0.289181</td>\n",
       "                        <td id=\"T_0fc59674_8f01_11ea_9d4e_4cedfbbd6d0arow0_col3\" class=\"data row0 col3\" >0.0890207</td>\n",
       "                        <td id=\"T_0fc59674_8f01_11ea_9d4e_4cedfbbd6d0arow0_col4\" class=\"data row0 col4\" >0.0230856</td>\n",
       "                        <td id=\"T_0fc59674_8f01_11ea_9d4e_4cedfbbd6d0arow0_col5\" class=\"data row0 col5\" >-0.0493959</td>\n",
       "                        <td id=\"T_0fc59674_8f01_11ea_9d4e_4cedfbbd6d0arow0_col6\" class=\"data row0 col6\" >0.0910698</td>\n",
       "                        <td id=\"T_0fc59674_8f01_11ea_9d4e_4cedfbbd6d0arow0_col7\" class=\"data row0 col7\" >0.265331</td>\n",
       "                        <td id=\"T_0fc59674_8f01_11ea_9d4e_4cedfbbd6d0arow0_col8\" class=\"data row0 col8\" >-0.425858</td>\n",
       "                        <td id=\"T_0fc59674_8f01_11ea_9d4e_4cedfbbd6d0arow0_col9\" class=\"data row0 col9\" >-0.017143</td>\n",
       "                        <td id=\"T_0fc59674_8f01_11ea_9d4e_4cedfbbd6d0arow0_col10\" class=\"data row0 col10\" >-0.120881</td>\n",
       "                        <td id=\"T_0fc59674_8f01_11ea_9d4e_4cedfbbd6d0arow0_col11\" class=\"data row0 col11\" >-0.113663</td>\n",
       "            </tr>\n",
       "            <tr>\n",
       "                        <th id=\"T_0fc59674_8f01_11ea_9d4e_4cedfbbd6d0alevel0_row1\" class=\"row_heading level0 row1\" >volatile acidity</th>\n",
       "                        <td id=\"T_0fc59674_8f01_11ea_9d4e_4cedfbbd6d0arow1_col0\" class=\"data row1 col0\" >-0.0226973</td>\n",
       "                        <td id=\"T_0fc59674_8f01_11ea_9d4e_4cedfbbd6d0arow1_col1\" class=\"data row1 col1\" >1</td>\n",
       "                        <td id=\"T_0fc59674_8f01_11ea_9d4e_4cedfbbd6d0arow1_col2\" class=\"data row1 col2\" >-0.149472</td>\n",
       "                        <td id=\"T_0fc59674_8f01_11ea_9d4e_4cedfbbd6d0arow1_col3\" class=\"data row1 col3\" >0.0642861</td>\n",
       "                        <td id=\"T_0fc59674_8f01_11ea_9d4e_4cedfbbd6d0arow1_col4\" class=\"data row1 col4\" >0.0705116</td>\n",
       "                        <td id=\"T_0fc59674_8f01_11ea_9d4e_4cedfbbd6d0arow1_col5\" class=\"data row1 col5\" >-0.0970119</td>\n",
       "                        <td id=\"T_0fc59674_8f01_11ea_9d4e_4cedfbbd6d0arow1_col6\" class=\"data row1 col6\" >0.0892605</td>\n",
       "                        <td id=\"T_0fc59674_8f01_11ea_9d4e_4cedfbbd6d0arow1_col7\" class=\"data row1 col7\" >0.0271138</td>\n",
       "                        <td id=\"T_0fc59674_8f01_11ea_9d4e_4cedfbbd6d0arow1_col8\" class=\"data row1 col8\" >-0.0319154</td>\n",
       "                        <td id=\"T_0fc59674_8f01_11ea_9d4e_4cedfbbd6d0arow1_col9\" class=\"data row1 col9\" >-0.0357281</td>\n",
       "                        <td id=\"T_0fc59674_8f01_11ea_9d4e_4cedfbbd6d0arow1_col10\" class=\"data row1 col10\" >0.0677179</td>\n",
       "                        <td id=\"T_0fc59674_8f01_11ea_9d4e_4cedfbbd6d0arow1_col11\" class=\"data row1 col11\" >-0.194723</td>\n",
       "            </tr>\n",
       "            <tr>\n",
       "                        <th id=\"T_0fc59674_8f01_11ea_9d4e_4cedfbbd6d0alevel0_row2\" class=\"row_heading level0 row2\" >citric acid</th>\n",
       "                        <td id=\"T_0fc59674_8f01_11ea_9d4e_4cedfbbd6d0arow2_col0\" class=\"data row2 col0\" >0.289181</td>\n",
       "                        <td id=\"T_0fc59674_8f01_11ea_9d4e_4cedfbbd6d0arow2_col1\" class=\"data row2 col1\" >-0.149472</td>\n",
       "                        <td id=\"T_0fc59674_8f01_11ea_9d4e_4cedfbbd6d0arow2_col2\" class=\"data row2 col2\" >1</td>\n",
       "                        <td id=\"T_0fc59674_8f01_11ea_9d4e_4cedfbbd6d0arow2_col3\" class=\"data row2 col3\" >0.0942116</td>\n",
       "                        <td id=\"T_0fc59674_8f01_11ea_9d4e_4cedfbbd6d0arow2_col4\" class=\"data row2 col4\" >0.114364</td>\n",
       "                        <td id=\"T_0fc59674_8f01_11ea_9d4e_4cedfbbd6d0arow2_col5\" class=\"data row2 col5\" >0.0940772</td>\n",
       "                        <td id=\"T_0fc59674_8f01_11ea_9d4e_4cedfbbd6d0arow2_col6\" class=\"data row2 col6\" >0.121131</td>\n",
       "                        <td id=\"T_0fc59674_8f01_11ea_9d4e_4cedfbbd6d0arow2_col7\" class=\"data row2 col7\" >0.149503</td>\n",
       "                        <td id=\"T_0fc59674_8f01_11ea_9d4e_4cedfbbd6d0arow2_col8\" class=\"data row2 col8\" >-0.163748</td>\n",
       "                        <td id=\"T_0fc59674_8f01_11ea_9d4e_4cedfbbd6d0arow2_col9\" class=\"data row2 col9\" >0.0623309</td>\n",
       "                        <td id=\"T_0fc59674_8f01_11ea_9d4e_4cedfbbd6d0arow2_col10\" class=\"data row2 col10\" >-0.0757287</td>\n",
       "                        <td id=\"T_0fc59674_8f01_11ea_9d4e_4cedfbbd6d0arow2_col11\" class=\"data row2 col11\" >-0.00920909</td>\n",
       "            </tr>\n",
       "            <tr>\n",
       "                        <th id=\"T_0fc59674_8f01_11ea_9d4e_4cedfbbd6d0alevel0_row3\" class=\"row_heading level0 row3\" >residual sugar</th>\n",
       "                        <td id=\"T_0fc59674_8f01_11ea_9d4e_4cedfbbd6d0arow3_col0\" class=\"data row3 col0\" >0.0890207</td>\n",
       "                        <td id=\"T_0fc59674_8f01_11ea_9d4e_4cedfbbd6d0arow3_col1\" class=\"data row3 col1\" >0.0642861</td>\n",
       "                        <td id=\"T_0fc59674_8f01_11ea_9d4e_4cedfbbd6d0arow3_col2\" class=\"data row3 col2\" >0.0942116</td>\n",
       "                        <td id=\"T_0fc59674_8f01_11ea_9d4e_4cedfbbd6d0arow3_col3\" class=\"data row3 col3\" >1</td>\n",
       "                        <td id=\"T_0fc59674_8f01_11ea_9d4e_4cedfbbd6d0arow3_col4\" class=\"data row3 col4\" >0.0886845</td>\n",
       "                        <td id=\"T_0fc59674_8f01_11ea_9d4e_4cedfbbd6d0arow3_col5\" class=\"data row3 col5\" >0.299098</td>\n",
       "                        <td id=\"T_0fc59674_8f01_11ea_9d4e_4cedfbbd6d0arow3_col6\" class=\"data row3 col6\" >0.401439</td>\n",
       "                        <td id=\"T_0fc59674_8f01_11ea_9d4e_4cedfbbd6d0arow3_col7\" class=\"data row3 col7\" >0.838966</td>\n",
       "                        <td id=\"T_0fc59674_8f01_11ea_9d4e_4cedfbbd6d0arow3_col8\" class=\"data row3 col8\" >-0.194133</td>\n",
       "                        <td id=\"T_0fc59674_8f01_11ea_9d4e_4cedfbbd6d0arow3_col9\" class=\"data row3 col9\" >-0.0266644</td>\n",
       "                        <td id=\"T_0fc59674_8f01_11ea_9d4e_4cedfbbd6d0arow3_col10\" class=\"data row3 col10\" >-0.450631</td>\n",
       "                        <td id=\"T_0fc59674_8f01_11ea_9d4e_4cedfbbd6d0arow3_col11\" class=\"data row3 col11\" >-0.0975768</td>\n",
       "            </tr>\n",
       "            <tr>\n",
       "                        <th id=\"T_0fc59674_8f01_11ea_9d4e_4cedfbbd6d0alevel0_row4\" class=\"row_heading level0 row4\" >chlorides</th>\n",
       "                        <td id=\"T_0fc59674_8f01_11ea_9d4e_4cedfbbd6d0arow4_col0\" class=\"data row4 col0\" >0.0230856</td>\n",
       "                        <td id=\"T_0fc59674_8f01_11ea_9d4e_4cedfbbd6d0arow4_col1\" class=\"data row4 col1\" >0.0705116</td>\n",
       "                        <td id=\"T_0fc59674_8f01_11ea_9d4e_4cedfbbd6d0arow4_col2\" class=\"data row4 col2\" >0.114364</td>\n",
       "                        <td id=\"T_0fc59674_8f01_11ea_9d4e_4cedfbbd6d0arow4_col3\" class=\"data row4 col3\" >0.0886845</td>\n",
       "                        <td id=\"T_0fc59674_8f01_11ea_9d4e_4cedfbbd6d0arow4_col4\" class=\"data row4 col4\" >1</td>\n",
       "                        <td id=\"T_0fc59674_8f01_11ea_9d4e_4cedfbbd6d0arow4_col5\" class=\"data row4 col5\" >0.101392</td>\n",
       "                        <td id=\"T_0fc59674_8f01_11ea_9d4e_4cedfbbd6d0arow4_col6\" class=\"data row4 col6\" >0.19891</td>\n",
       "                        <td id=\"T_0fc59674_8f01_11ea_9d4e_4cedfbbd6d0arow4_col7\" class=\"data row4 col7\" >0.257211</td>\n",
       "                        <td id=\"T_0fc59674_8f01_11ea_9d4e_4cedfbbd6d0arow4_col8\" class=\"data row4 col8\" >-0.0904395</td>\n",
       "                        <td id=\"T_0fc59674_8f01_11ea_9d4e_4cedfbbd6d0arow4_col9\" class=\"data row4 col9\" >0.0167629</td>\n",
       "                        <td id=\"T_0fc59674_8f01_11ea_9d4e_4cedfbbd6d0arow4_col10\" class=\"data row4 col10\" >-0.360189</td>\n",
       "                        <td id=\"T_0fc59674_8f01_11ea_9d4e_4cedfbbd6d0arow4_col11\" class=\"data row4 col11\" >-0.209934</td>\n",
       "            </tr>\n",
       "            <tr>\n",
       "                        <th id=\"T_0fc59674_8f01_11ea_9d4e_4cedfbbd6d0alevel0_row5\" class=\"row_heading level0 row5\" >free sulfur dioxide</th>\n",
       "                        <td id=\"T_0fc59674_8f01_11ea_9d4e_4cedfbbd6d0arow5_col0\" class=\"data row5 col0\" >-0.0493959</td>\n",
       "                        <td id=\"T_0fc59674_8f01_11ea_9d4e_4cedfbbd6d0arow5_col1\" class=\"data row5 col1\" >-0.0970119</td>\n",
       "                        <td id=\"T_0fc59674_8f01_11ea_9d4e_4cedfbbd6d0arow5_col2\" class=\"data row5 col2\" >0.0940772</td>\n",
       "                        <td id=\"T_0fc59674_8f01_11ea_9d4e_4cedfbbd6d0arow5_col3\" class=\"data row5 col3\" >0.299098</td>\n",
       "                        <td id=\"T_0fc59674_8f01_11ea_9d4e_4cedfbbd6d0arow5_col4\" class=\"data row5 col4\" >0.101392</td>\n",
       "                        <td id=\"T_0fc59674_8f01_11ea_9d4e_4cedfbbd6d0arow5_col5\" class=\"data row5 col5\" >1</td>\n",
       "                        <td id=\"T_0fc59674_8f01_11ea_9d4e_4cedfbbd6d0arow5_col6\" class=\"data row5 col6\" >0.615501</td>\n",
       "                        <td id=\"T_0fc59674_8f01_11ea_9d4e_4cedfbbd6d0arow5_col7\" class=\"data row5 col7\" >0.29421</td>\n",
       "                        <td id=\"T_0fc59674_8f01_11ea_9d4e_4cedfbbd6d0arow5_col8\" class=\"data row5 col8\" >-0.000617796</td>\n",
       "                        <td id=\"T_0fc59674_8f01_11ea_9d4e_4cedfbbd6d0arow5_col9\" class=\"data row5 col9\" >0.0592172</td>\n",
       "                        <td id=\"T_0fc59674_8f01_11ea_9d4e_4cedfbbd6d0arow5_col10\" class=\"data row5 col10\" >-0.250104</td>\n",
       "                        <td id=\"T_0fc59674_8f01_11ea_9d4e_4cedfbbd6d0arow5_col11\" class=\"data row5 col11\" >0.00815807</td>\n",
       "            </tr>\n",
       "            <tr>\n",
       "                        <th id=\"T_0fc59674_8f01_11ea_9d4e_4cedfbbd6d0alevel0_row6\" class=\"row_heading level0 row6\" >total sulfur dioxide</th>\n",
       "                        <td id=\"T_0fc59674_8f01_11ea_9d4e_4cedfbbd6d0arow6_col0\" class=\"data row6 col0\" >0.0910698</td>\n",
       "                        <td id=\"T_0fc59674_8f01_11ea_9d4e_4cedfbbd6d0arow6_col1\" class=\"data row6 col1\" >0.0892605</td>\n",
       "                        <td id=\"T_0fc59674_8f01_11ea_9d4e_4cedfbbd6d0arow6_col2\" class=\"data row6 col2\" >0.121131</td>\n",
       "                        <td id=\"T_0fc59674_8f01_11ea_9d4e_4cedfbbd6d0arow6_col3\" class=\"data row6 col3\" >0.401439</td>\n",
       "                        <td id=\"T_0fc59674_8f01_11ea_9d4e_4cedfbbd6d0arow6_col4\" class=\"data row6 col4\" >0.19891</td>\n",
       "                        <td id=\"T_0fc59674_8f01_11ea_9d4e_4cedfbbd6d0arow6_col5\" class=\"data row6 col5\" >0.615501</td>\n",
       "                        <td id=\"T_0fc59674_8f01_11ea_9d4e_4cedfbbd6d0arow6_col6\" class=\"data row6 col6\" >1</td>\n",
       "                        <td id=\"T_0fc59674_8f01_11ea_9d4e_4cedfbbd6d0arow6_col7\" class=\"data row6 col7\" >0.529881</td>\n",
       "                        <td id=\"T_0fc59674_8f01_11ea_9d4e_4cedfbbd6d0arow6_col8\" class=\"data row6 col8\" >0.00232097</td>\n",
       "                        <td id=\"T_0fc59674_8f01_11ea_9d4e_4cedfbbd6d0arow6_col9\" class=\"data row6 col9\" >0.134562</td>\n",
       "                        <td id=\"T_0fc59674_8f01_11ea_9d4e_4cedfbbd6d0arow6_col10\" class=\"data row6 col10\" >-0.448892</td>\n",
       "                        <td id=\"T_0fc59674_8f01_11ea_9d4e_4cedfbbd6d0arow6_col11\" class=\"data row6 col11\" >-0.174737</td>\n",
       "            </tr>\n",
       "            <tr>\n",
       "                        <th id=\"T_0fc59674_8f01_11ea_9d4e_4cedfbbd6d0alevel0_row7\" class=\"row_heading level0 row7\" >density</th>\n",
       "                        <td id=\"T_0fc59674_8f01_11ea_9d4e_4cedfbbd6d0arow7_col0\" class=\"data row7 col0\" >0.265331</td>\n",
       "                        <td id=\"T_0fc59674_8f01_11ea_9d4e_4cedfbbd6d0arow7_col1\" class=\"data row7 col1\" >0.0271138</td>\n",
       "                        <td id=\"T_0fc59674_8f01_11ea_9d4e_4cedfbbd6d0arow7_col2\" class=\"data row7 col2\" >0.149503</td>\n",
       "                        <td id=\"T_0fc59674_8f01_11ea_9d4e_4cedfbbd6d0arow7_col3\" class=\"data row7 col3\" >0.838966</td>\n",
       "                        <td id=\"T_0fc59674_8f01_11ea_9d4e_4cedfbbd6d0arow7_col4\" class=\"data row7 col4\" >0.257211</td>\n",
       "                        <td id=\"T_0fc59674_8f01_11ea_9d4e_4cedfbbd6d0arow7_col5\" class=\"data row7 col5\" >0.29421</td>\n",
       "                        <td id=\"T_0fc59674_8f01_11ea_9d4e_4cedfbbd6d0arow7_col6\" class=\"data row7 col6\" >0.529881</td>\n",
       "                        <td id=\"T_0fc59674_8f01_11ea_9d4e_4cedfbbd6d0arow7_col7\" class=\"data row7 col7\" >1</td>\n",
       "                        <td id=\"T_0fc59674_8f01_11ea_9d4e_4cedfbbd6d0arow7_col8\" class=\"data row7 col8\" >-0.0935915</td>\n",
       "                        <td id=\"T_0fc59674_8f01_11ea_9d4e_4cedfbbd6d0arow7_col9\" class=\"data row7 col9\" >0.0744931</td>\n",
       "                        <td id=\"T_0fc59674_8f01_11ea_9d4e_4cedfbbd6d0arow7_col10\" class=\"data row7 col10\" >-0.780138</td>\n",
       "                        <td id=\"T_0fc59674_8f01_11ea_9d4e_4cedfbbd6d0arow7_col11\" class=\"data row7 col11\" >-0.307123</td>\n",
       "            </tr>\n",
       "            <tr>\n",
       "                        <th id=\"T_0fc59674_8f01_11ea_9d4e_4cedfbbd6d0alevel0_row8\" class=\"row_heading level0 row8\" >pH</th>\n",
       "                        <td id=\"T_0fc59674_8f01_11ea_9d4e_4cedfbbd6d0arow8_col0\" class=\"data row8 col0\" >-0.425858</td>\n",
       "                        <td id=\"T_0fc59674_8f01_11ea_9d4e_4cedfbbd6d0arow8_col1\" class=\"data row8 col1\" >-0.0319154</td>\n",
       "                        <td id=\"T_0fc59674_8f01_11ea_9d4e_4cedfbbd6d0arow8_col2\" class=\"data row8 col2\" >-0.163748</td>\n",
       "                        <td id=\"T_0fc59674_8f01_11ea_9d4e_4cedfbbd6d0arow8_col3\" class=\"data row8 col3\" >-0.194133</td>\n",
       "                        <td id=\"T_0fc59674_8f01_11ea_9d4e_4cedfbbd6d0arow8_col4\" class=\"data row8 col4\" >-0.0904395</td>\n",
       "                        <td id=\"T_0fc59674_8f01_11ea_9d4e_4cedfbbd6d0arow8_col5\" class=\"data row8 col5\" >-0.000617796</td>\n",
       "                        <td id=\"T_0fc59674_8f01_11ea_9d4e_4cedfbbd6d0arow8_col6\" class=\"data row8 col6\" >0.00232097</td>\n",
       "                        <td id=\"T_0fc59674_8f01_11ea_9d4e_4cedfbbd6d0arow8_col7\" class=\"data row8 col7\" >-0.0935915</td>\n",
       "                        <td id=\"T_0fc59674_8f01_11ea_9d4e_4cedfbbd6d0arow8_col8\" class=\"data row8 col8\" >1</td>\n",
       "                        <td id=\"T_0fc59674_8f01_11ea_9d4e_4cedfbbd6d0arow8_col9\" class=\"data row8 col9\" >0.155951</td>\n",
       "                        <td id=\"T_0fc59674_8f01_11ea_9d4e_4cedfbbd6d0arow8_col10\" class=\"data row8 col10\" >0.121432</td>\n",
       "                        <td id=\"T_0fc59674_8f01_11ea_9d4e_4cedfbbd6d0arow8_col11\" class=\"data row8 col11\" >0.0994272</td>\n",
       "            </tr>\n",
       "            <tr>\n",
       "                        <th id=\"T_0fc59674_8f01_11ea_9d4e_4cedfbbd6d0alevel0_row9\" class=\"row_heading level0 row9\" >sulphates</th>\n",
       "                        <td id=\"T_0fc59674_8f01_11ea_9d4e_4cedfbbd6d0arow9_col0\" class=\"data row9 col0\" >-0.017143</td>\n",
       "                        <td id=\"T_0fc59674_8f01_11ea_9d4e_4cedfbbd6d0arow9_col1\" class=\"data row9 col1\" >-0.0357281</td>\n",
       "                        <td id=\"T_0fc59674_8f01_11ea_9d4e_4cedfbbd6d0arow9_col2\" class=\"data row9 col2\" >0.0623309</td>\n",
       "                        <td id=\"T_0fc59674_8f01_11ea_9d4e_4cedfbbd6d0arow9_col3\" class=\"data row9 col3\" >-0.0266644</td>\n",
       "                        <td id=\"T_0fc59674_8f01_11ea_9d4e_4cedfbbd6d0arow9_col4\" class=\"data row9 col4\" >0.0167629</td>\n",
       "                        <td id=\"T_0fc59674_8f01_11ea_9d4e_4cedfbbd6d0arow9_col5\" class=\"data row9 col5\" >0.0592172</td>\n",
       "                        <td id=\"T_0fc59674_8f01_11ea_9d4e_4cedfbbd6d0arow9_col6\" class=\"data row9 col6\" >0.134562</td>\n",
       "                        <td id=\"T_0fc59674_8f01_11ea_9d4e_4cedfbbd6d0arow9_col7\" class=\"data row9 col7\" >0.0744931</td>\n",
       "                        <td id=\"T_0fc59674_8f01_11ea_9d4e_4cedfbbd6d0arow9_col8\" class=\"data row9 col8\" >0.155951</td>\n",
       "                        <td id=\"T_0fc59674_8f01_11ea_9d4e_4cedfbbd6d0arow9_col9\" class=\"data row9 col9\" >1</td>\n",
       "                        <td id=\"T_0fc59674_8f01_11ea_9d4e_4cedfbbd6d0arow9_col10\" class=\"data row9 col10\" >-0.0174328</td>\n",
       "                        <td id=\"T_0fc59674_8f01_11ea_9d4e_4cedfbbd6d0arow9_col11\" class=\"data row9 col11\" >0.0536779</td>\n",
       "            </tr>\n",
       "            <tr>\n",
       "                        <th id=\"T_0fc59674_8f01_11ea_9d4e_4cedfbbd6d0alevel0_row10\" class=\"row_heading level0 row10\" >alcohol</th>\n",
       "                        <td id=\"T_0fc59674_8f01_11ea_9d4e_4cedfbbd6d0arow10_col0\" class=\"data row10 col0\" >-0.120881</td>\n",
       "                        <td id=\"T_0fc59674_8f01_11ea_9d4e_4cedfbbd6d0arow10_col1\" class=\"data row10 col1\" >0.0677179</td>\n",
       "                        <td id=\"T_0fc59674_8f01_11ea_9d4e_4cedfbbd6d0arow10_col2\" class=\"data row10 col2\" >-0.0757287</td>\n",
       "                        <td id=\"T_0fc59674_8f01_11ea_9d4e_4cedfbbd6d0arow10_col3\" class=\"data row10 col3\" >-0.450631</td>\n",
       "                        <td id=\"T_0fc59674_8f01_11ea_9d4e_4cedfbbd6d0arow10_col4\" class=\"data row10 col4\" >-0.360189</td>\n",
       "                        <td id=\"T_0fc59674_8f01_11ea_9d4e_4cedfbbd6d0arow10_col5\" class=\"data row10 col5\" >-0.250104</td>\n",
       "                        <td id=\"T_0fc59674_8f01_11ea_9d4e_4cedfbbd6d0arow10_col6\" class=\"data row10 col6\" >-0.448892</td>\n",
       "                        <td id=\"T_0fc59674_8f01_11ea_9d4e_4cedfbbd6d0arow10_col7\" class=\"data row10 col7\" >-0.780138</td>\n",
       "                        <td id=\"T_0fc59674_8f01_11ea_9d4e_4cedfbbd6d0arow10_col8\" class=\"data row10 col8\" >0.121432</td>\n",
       "                        <td id=\"T_0fc59674_8f01_11ea_9d4e_4cedfbbd6d0arow10_col9\" class=\"data row10 col9\" >-0.0174328</td>\n",
       "                        <td id=\"T_0fc59674_8f01_11ea_9d4e_4cedfbbd6d0arow10_col10\" class=\"data row10 col10\" >1</td>\n",
       "                        <td id=\"T_0fc59674_8f01_11ea_9d4e_4cedfbbd6d0arow10_col11\" class=\"data row10 col11\" >0.435575</td>\n",
       "            </tr>\n",
       "            <tr>\n",
       "                        <th id=\"T_0fc59674_8f01_11ea_9d4e_4cedfbbd6d0alevel0_row11\" class=\"row_heading level0 row11\" >quality</th>\n",
       "                        <td id=\"T_0fc59674_8f01_11ea_9d4e_4cedfbbd6d0arow11_col0\" class=\"data row11 col0\" >-0.113663</td>\n",
       "                        <td id=\"T_0fc59674_8f01_11ea_9d4e_4cedfbbd6d0arow11_col1\" class=\"data row11 col1\" >-0.194723</td>\n",
       "                        <td id=\"T_0fc59674_8f01_11ea_9d4e_4cedfbbd6d0arow11_col2\" class=\"data row11 col2\" >-0.00920909</td>\n",
       "                        <td id=\"T_0fc59674_8f01_11ea_9d4e_4cedfbbd6d0arow11_col3\" class=\"data row11 col3\" >-0.0975768</td>\n",
       "                        <td id=\"T_0fc59674_8f01_11ea_9d4e_4cedfbbd6d0arow11_col4\" class=\"data row11 col4\" >-0.209934</td>\n",
       "                        <td id=\"T_0fc59674_8f01_11ea_9d4e_4cedfbbd6d0arow11_col5\" class=\"data row11 col5\" >0.00815807</td>\n",
       "                        <td id=\"T_0fc59674_8f01_11ea_9d4e_4cedfbbd6d0arow11_col6\" class=\"data row11 col6\" >-0.174737</td>\n",
       "                        <td id=\"T_0fc59674_8f01_11ea_9d4e_4cedfbbd6d0arow11_col7\" class=\"data row11 col7\" >-0.307123</td>\n",
       "                        <td id=\"T_0fc59674_8f01_11ea_9d4e_4cedfbbd6d0arow11_col8\" class=\"data row11 col8\" >0.0994272</td>\n",
       "                        <td id=\"T_0fc59674_8f01_11ea_9d4e_4cedfbbd6d0arow11_col9\" class=\"data row11 col9\" >0.0536779</td>\n",
       "                        <td id=\"T_0fc59674_8f01_11ea_9d4e_4cedfbbd6d0arow11_col10\" class=\"data row11 col10\" >0.435575</td>\n",
       "                        <td id=\"T_0fc59674_8f01_11ea_9d4e_4cedfbbd6d0arow11_col11\" class=\"data row11 col11\" >1</td>\n",
       "            </tr>\n",
       "    </tbody></table>"
      ],
      "text/plain": [
       "<pandas.io.formats.style.Styler at 0x22dcfd30>"
      ]
     },
     "execution_count": 381,
     "metadata": {},
     "output_type": "execute_result"
    }
   ],
   "source": [
    "cm = sns.light_palette(\"green\",as_cmap=True)\n",
    "\n",
    "wines.corr().style.background_gradient(cmap=cm)"
   ]
  },
  {
   "cell_type": "markdown",
   "metadata": {},
   "source": [
    "As we can see *residual sugar* and *density* are strongly postive correlated. We might want to merge them or delete one. But as the dataset isn't that big I think we can keep both"
   ]
  },
  {
   "cell_type": "markdown",
   "metadata": {},
   "source": [
    "We now split our data into test and training set using sklearn:"
   ]
  },
  {
   "cell_type": "code",
   "execution_count": 382,
   "metadata": {},
   "outputs": [],
   "source": [
    "from sklearn.model_selection import train_test_split"
   ]
  },
  {
   "cell_type": "code",
   "execution_count": 383,
   "metadata": {},
   "outputs": [],
   "source": [
    "train_set, test_set = train_test_split(wines,test_size=0.2,random_state=42)"
   ]
  },
  {
   "cell_type": "code",
   "execution_count": 384,
   "metadata": {},
   "outputs": [],
   "source": [
    "train_no_quality = train_set.drop(\"quality\",axis=1)\n",
    "wine_labels = train_set[\"quality\"].copy()"
   ]
  },
  {
   "cell_type": "markdown",
   "metadata": {},
   "source": [
    "We see that the test-set is actually 20% of the whole dataset so that's correct"
   ]
  },
  {
   "cell_type": "code",
   "execution_count": 385,
   "metadata": {},
   "outputs": [
    {
     "data": {
      "text/plain": [
       "0.2000816659861168"
      ]
     },
     "execution_count": 385,
     "metadata": {},
     "output_type": "execute_result"
    }
   ],
   "source": [
    "len(test_set)/len(wines)"
   ]
  },
  {
   "cell_type": "code",
   "execution_count": 386,
   "metadata": {},
   "outputs": [],
   "source": [
    "wines[\"sugar_density\"] = wines[\"density\"] / wines[\"residual sugar\"]"
   ]
  },
  {
   "cell_type": "code",
   "execution_count": 387,
   "metadata": {},
   "outputs": [],
   "source": [
    "wines.drop(columns=\"sugar_density\",inplace=True)"
   ]
  },
  {
   "cell_type": "markdown",
   "metadata": {},
   "source": [
    "As we don't have any missing data and no categorical data we just need to scale each column the same"
   ]
  },
  {
   "cell_type": "code",
   "execution_count": 388,
   "metadata": {},
   "outputs": [],
   "source": [
    "from sklearn.preprocessing import StandardScaler\n",
    "\n",
    "standard_wines = StandardScaler().fit_transform(train_no_quality)"
   ]
  },
  {
   "cell_type": "code",
   "execution_count": 389,
   "metadata": {},
   "outputs": [],
   "source": [
    "from sklearn.linear_model import LinearRegression"
   ]
  },
  {
   "cell_type": "code",
   "execution_count": 390,
   "metadata": {},
   "outputs": [],
   "source": [
    "lin_reg = LinearRegression()"
   ]
  },
  {
   "cell_type": "code",
   "execution_count": 391,
   "metadata": {},
   "outputs": [
    {
     "name": "stdout",
     "output_type": "stream",
     "text": [
      "(3918, 11)\n",
      "(3918, 11)\n"
     ]
    },
    {
     "data": {
      "text/plain": [
       "(3918,)"
      ]
     },
     "execution_count": 391,
     "metadata": {},
     "output_type": "execute_result"
    }
   ],
   "source": [
    "print(train_no_quality.shape)\n",
    "print(standard_wines.shape)\n",
    "wine_labels.shape"
   ]
  },
  {
   "cell_type": "code",
   "execution_count": 392,
   "metadata": {},
   "outputs": [
    {
     "data": {
      "text/plain": [
       "LinearRegression(copy_X=True, fit_intercept=True, n_jobs=None, normalize=False)"
      ]
     },
     "execution_count": 392,
     "metadata": {},
     "output_type": "execute_result"
    }
   ],
   "source": [
    "lin_reg.fit(standard_wines,wine_labels)"
   ]
  },
  {
   "cell_type": "code",
   "execution_count": 393,
   "metadata": {},
   "outputs": [],
   "source": [
    "some_data = train_no_quality.iloc[:5]\n",
    "some_labels = wine_labels.iloc[:5]\n",
    "\n",
    "some_data_prepared = StandardScaler().fit_transform(some_data)"
   ]
  },
  {
   "cell_type": "code",
   "execution_count": 394,
   "metadata": {},
   "outputs": [
    {
     "name": "stdout",
     "output_type": "stream",
     "text": [
      "Predictions: [6.63173922 5.42458883 5.83031677 5.87133775 5.59883213]\n",
      "Labels: [6, 5, 6, 7, 5]\n"
     ]
    }
   ],
   "source": [
    "print(\"Predictions:\", lin_reg.predict(some_data_prepared))\n",
    "print(\"Labels:\", list(some_labels))"
   ]
  },
  {
   "cell_type": "markdown",
   "metadata": {},
   "source": [
    "This already looks pretty promising the predictions and the labels are already pretty close. Let's compute the total error with a root mean_squared_error function"
   ]
  },
  {
   "cell_type": "code",
   "execution_count": 395,
   "metadata": {},
   "outputs": [],
   "source": [
    "from sklearn.metrics import mean_squared_error"
   ]
  },
  {
   "cell_type": "code",
   "execution_count": 396,
   "metadata": {},
   "outputs": [],
   "source": [
    "wine_predictions = lin_reg.predict(standard_wines)"
   ]
  },
  {
   "cell_type": "markdown",
   "metadata": {},
   "source": [
    "We see the cost of the whole prediction is only 0.75 which is pretty good but we want it even closer to zero"
   ]
  },
  {
   "cell_type": "code",
   "execution_count": 397,
   "metadata": {},
   "outputs": [
    {
     "data": {
      "text/plain": [
       "0.7502172818316429"
      ]
     },
     "execution_count": 397,
     "metadata": {},
     "output_type": "execute_result"
    }
   ],
   "source": [
    "cost = np.sqrt(mean_squared_error(wine_labels,wine_predictions))\n",
    "cost"
   ]
  },
  {
   "cell_type": "markdown",
   "metadata": {},
   "source": [
    "###### Decision Tree"
   ]
  },
  {
   "cell_type": "code",
   "execution_count": 398,
   "metadata": {},
   "outputs": [
    {
     "data": {
      "text/plain": [
       "DecisionTreeRegressor(ccp_alpha=0.0, criterion='mse', max_depth=None,\n",
       "                      max_features=None, max_leaf_nodes=None,\n",
       "                      min_impurity_decrease=0.0, min_impurity_split=None,\n",
       "                      min_samples_leaf=1, min_samples_split=2,\n",
       "                      min_weight_fraction_leaf=0.0, presort='deprecated',\n",
       "                      random_state=None, splitter='best')"
      ]
     },
     "execution_count": 398,
     "metadata": {},
     "output_type": "execute_result"
    }
   ],
   "source": [
    "from sklearn.tree import DecisionTreeRegressor\n",
    "\n",
    "tree_reg = DecisionTreeRegressor()\n",
    "tree_reg.fit(standard_wines,wine_labels)"
   ]
  },
  {
   "cell_type": "code",
   "execution_count": 399,
   "metadata": {},
   "outputs": [],
   "source": [
    "tree_predictions = tree_reg.predict(standard_wines)"
   ]
  },
  {
   "cell_type": "markdown",
   "metadata": {},
   "source": [
    "This is unbelievable the decisionTree can predict our data perfectly let's check if its  not overfitting"
   ]
  },
  {
   "cell_type": "code",
   "execution_count": 400,
   "metadata": {},
   "outputs": [
    {
     "data": {
      "text/plain": [
       "0.0"
      ]
     },
     "execution_count": 400,
     "metadata": {},
     "output_type": "execute_result"
    }
   ],
   "source": [
    "tree_cost = np.sqrt(mean_squared_error(wine_labels,tree_predictions))\n",
    "tree_cost"
   ]
  },
  {
   "cell_type": "markdown",
   "metadata": {},
   "source": [
    "Let's use Cross Validation to check our tree on different training sets"
   ]
  },
  {
   "cell_type": "code",
   "execution_count": 401,
   "metadata": {},
   "outputs": [],
   "source": [
    "from sklearn.model_selection import cross_val_score"
   ]
  },
  {
   "cell_type": "code",
   "execution_count": 402,
   "metadata": {},
   "outputs": [],
   "source": [
    "scores = cross_val_score(tree_reg,standard_wines,wine_labels,\n",
    "                        scoring=\"neg_mean_squared_error\",cv=10)"
   ]
  },
  {
   "cell_type": "markdown",
   "metadata": {},
   "source": [
    "This looks like bad news it seems like our decision tree is actually worse than our standard linear regression"
   ]
  },
  {
   "cell_type": "code",
   "execution_count": 403,
   "metadata": {},
   "outputs": [
    {
     "data": {
      "text/plain": [
       "0.8665652013120928"
      ]
     },
     "execution_count": 403,
     "metadata": {},
     "output_type": "execute_result"
    }
   ],
   "source": [
    "tree_cross_error = np.sqrt(-scores)\n",
    "tree_cross_error.mean()"
   ]
  },
  {
   "cell_type": "markdown",
   "metadata": {},
   "source": [
    "###### Random Forests"
   ]
  },
  {
   "cell_type": "code",
   "execution_count": 404,
   "metadata": {},
   "outputs": [],
   "source": [
    "from sklearn.ensemble import RandomForestRegressor"
   ]
  },
  {
   "cell_type": "code",
   "execution_count": 405,
   "metadata": {},
   "outputs": [
    {
     "data": {
      "text/plain": [
       "RandomForestRegressor(bootstrap=True, ccp_alpha=0.0, criterion='mse',\n",
       "                      max_depth=None, max_features='auto', max_leaf_nodes=None,\n",
       "                      max_samples=None, min_impurity_decrease=0.0,\n",
       "                      min_impurity_split=None, min_samples_leaf=1,\n",
       "                      min_samples_split=2, min_weight_fraction_leaf=0.0,\n",
       "                      n_estimators=100, n_jobs=None, oob_score=False,\n",
       "                      random_state=None, verbose=0, warm_start=False)"
      ]
     },
     "execution_count": 405,
     "metadata": {},
     "output_type": "execute_result"
    }
   ],
   "source": [
    "for_reg = RandomForestRegressor()\n",
    "for_reg.fit(standard_wines,wine_labels)"
   ]
  },
  {
   "cell_type": "code",
   "execution_count": 406,
   "metadata": {},
   "outputs": [],
   "source": [
    "forrest_prediction = for_reg.predict(standard_wines)"
   ]
  },
  {
   "cell_type": "code",
   "execution_count": 407,
   "metadata": {},
   "outputs": [],
   "source": [
    "forest_score = cross_val_score(for_reg,standard_wines,wine_labels,\n",
    "                              scoring=\"neg_mean_squared_error\",cv=10)"
   ]
  },
  {
   "cell_type": "code",
   "execution_count": 408,
   "metadata": {},
   "outputs": [
    {
     "data": {
      "text/plain": [
       "0.6230593456715485"
      ]
     },
     "execution_count": 408,
     "metadata": {},
     "output_type": "execute_result"
    }
   ],
   "source": [
    "forest_cross_error = np.sqrt(-forest_score).mean()\n",
    "forest_cross_error"
   ]
  },
  {
   "cell_type": "markdown",
   "metadata": {},
   "source": [
    "###### SVM"
   ]
  },
  {
   "cell_type": "code",
   "execution_count": 409,
   "metadata": {},
   "outputs": [],
   "source": [
    "from sklearn.svm import SVR"
   ]
  },
  {
   "cell_type": "code",
   "execution_count": 410,
   "metadata": {},
   "outputs": [],
   "source": [
    "svr_fit = SVR(kernel=\"rbf\",C=10).fit(standard_wines,wine_labels)"
   ]
  },
  {
   "cell_type": "code",
   "execution_count": 411,
   "metadata": {},
   "outputs": [],
   "source": [
    "support_pred = svr_fit.predict(standard_wines)"
   ]
  },
  {
   "cell_type": "code",
   "execution_count": 412,
   "metadata": {},
   "outputs": [
    {
     "data": {
      "text/plain": [
       "0.6955190893953251"
      ]
     },
     "execution_count": 412,
     "metadata": {},
     "output_type": "execute_result"
    }
   ],
   "source": [
    "svm_score = np.sqrt(-cross_val_score(svr_fit,standard_wines,wine_labels,\n",
    "                              scoring=\"neg_mean_squared_error\",cv=10))\n",
    "svm_score.mean()"
   ]
  },
  {
   "cell_type": "markdown",
   "metadata": {},
   "source": [
    "I have tweaked several hyperparamaters on the svm model but the best I could get is 0.69. So let's fine tune our RandomForestsRegressor with a randomized search to get the best hyperparameters"
   ]
  },
  {
   "cell_type": "code",
   "execution_count": 413,
   "metadata": {},
   "outputs": [],
   "source": [
    "from sklearn.model_selection import RandomizedSearchCV"
   ]
  },
  {
   "cell_type": "code",
   "execution_count": 414,
   "metadata": {},
   "outputs": [],
   "source": [
    "new_random_forrests = RandomForestRegressor()"
   ]
  },
  {
   "cell_type": "code",
   "execution_count": 429,
   "metadata": {},
   "outputs": [],
   "source": [
    "param = [\n",
    "    {\"n_estimators\":[45,90,95],\"max_features\":[2,1,3]}\n",
    "]\n",
    "\n",
    "grid_search = RandomizedSearchCV(new_random_forrests,cv=5,param_distributions=param,\n",
    "                                 scoring=\"neg_mean_squared_error\", return_train_score=True)"
   ]
  },
  {
   "cell_type": "code",
   "execution_count": 430,
   "metadata": {},
   "outputs": [
    {
     "name": "stderr",
     "output_type": "stream",
     "text": [
      "C:\\Users\\Admin\\AppData\\Local\\Programs\\Python\\Python37-32\\lib\\site-packages\\sklearn\\model_selection\\_search.py:281: UserWarning: The total space of parameters 9 is smaller than n_iter=10. Running 9 iterations. For exhaustive searches, use GridSearchCV.\n",
      "  % (grid_size, self.n_iter, grid_size), UserWarning)\n"
     ]
    }
   ],
   "source": [
    "with_attr = grid_search.fit(standard_wines,wine_labels)"
   ]
  },
  {
   "cell_type": "code",
   "execution_count": 431,
   "metadata": {},
   "outputs": [
    {
     "data": {
      "text/plain": [
       "{'n_estimators': 90, 'max_features': 2}"
      ]
     },
     "execution_count": 431,
     "metadata": {},
     "output_type": "execute_result"
    }
   ],
   "source": [
    "with_attr.best_params_"
   ]
  },
  {
   "cell_type": "code",
   "execution_count": 432,
   "metadata": {},
   "outputs": [
    {
     "data": {
      "text/plain": [
       "array([0.62098865, 0.62115951, 0.62272519, 0.62449033, 0.62784081,\n",
       "       0.62815455, 0.62988328, 0.63006491, 0.63317859])"
      ]
     },
     "execution_count": 432,
     "metadata": {},
     "output_type": "execute_result"
    }
   ],
   "source": [
    "np.sqrt(sorted(-with_attr.cv_results_[\"mean_test_score\"]))"
   ]
  },
  {
   "cell_type": "markdown",
   "metadata": {},
   "source": [
    "Now that ive played with the hyperparameters its time to check how important each attribute is and if we could maybe drop one or two"
   ]
  },
  {
   "cell_type": "code",
   "execution_count": 419,
   "metadata": {},
   "outputs": [],
   "source": [
    "feature_importance = grid_search.best_estimator_.feature_importances_"
   ]
  },
  {
   "cell_type": "code",
   "execution_count": 420,
   "metadata": {},
   "outputs": [
    {
     "data": {
      "text/plain": [
       "[(0.1710504932070254, 'alcohol'),\n",
       " (0.10760192557321417, 'volatile acidity'),\n",
       " (0.10643584066082473, 'density'),\n",
       " (0.10461840884811746, 'free sulfur dioxide'),\n",
       " (0.08303801058285486, 'total sulfur dioxide'),\n",
       " (0.07970699137362872, 'chlorides'),\n",
       " (0.07744392189714927, 'residual sugar'),\n",
       " (0.0720905233755775, 'pH'),\n",
       " (0.06913141273774553, 'citric acid'),\n",
       " (0.06635161915203426, 'fixed acidity'),\n",
       " (0.06253085259182802, 'sulphates')]"
      ]
     },
     "execution_count": 420,
     "metadata": {},
     "output_type": "execute_result"
    }
   ],
   "source": [
    "sorted(zip(feature_importance,train_no_quality.columns),reverse=True)"
   ]
  },
  {
   "cell_type": "markdown",
   "metadata": {},
   "source": [
    "Sulphates and fixed acidity seem redundant lets see if our accuracy increases if we drop them"
   ]
  },
  {
   "cell_type": "code",
   "execution_count": 421,
   "metadata": {},
   "outputs": [],
   "source": [
    "standard_new = StandardScaler().fit_transform(train_no_quality.drop(columns=[\"sulphates\",\"fixed acidity\"]))"
   ]
  },
  {
   "cell_type": "code",
   "execution_count": 422,
   "metadata": {},
   "outputs": [
    {
     "data": {
      "text/plain": [
       "1.0"
      ]
     },
     "execution_count": 422,
     "metadata": {},
     "output_type": "execute_result"
    }
   ],
   "source": [
    "standard_new.std()"
   ]
  },
  {
   "cell_type": "code",
   "execution_count": 423,
   "metadata": {},
   "outputs": [],
   "source": [
    "#grid_wo_attr = grid_search.fit(standard_new,wine_labels)"
   ]
  },
  {
   "cell_type": "code",
   "execution_count": 424,
   "metadata": {},
   "outputs": [],
   "source": [
    "#np.sqrt(sorted(-grid_wo_attr.cv_results_[\"mean_test_score\"]))"
   ]
  },
  {
   "cell_type": "markdown",
   "metadata": {},
   "source": [
    "Unfortanetly this didn't improve the model so we use the model with both attributes. I commented them out bc I was getting confused\n",
    "###### Lets test our model on the test set"
   ]
  },
  {
   "cell_type": "code",
   "execution_count": 433,
   "metadata": {},
   "outputs": [
    {
     "data": {
      "text/plain": [
       "array([0.62098865, 0.62115951, 0.62272519, 0.62449033, 0.62784081,\n",
       "       0.62815455, 0.62988328, 0.63006491, 0.63317859])"
      ]
     },
     "execution_count": 433,
     "metadata": {},
     "output_type": "execute_result"
    }
   ],
   "source": [
    "np.sqrt(sorted(-with_attr.cv_results_[\"mean_test_score\"]))"
   ]
  },
  {
   "cell_type": "code",
   "execution_count": 435,
   "metadata": {},
   "outputs": [],
   "source": [
    "final_model = with_attr.best_estimator_"
   ]
  },
  {
   "cell_type": "code",
   "execution_count": 436,
   "metadata": {},
   "outputs": [],
   "source": [
    "test_predictions = test_set.drop(\"quality\",axis=1)\n",
    "test_labels = test_set[\"quality\"].copy()"
   ]
  },
  {
   "cell_type": "markdown",
   "metadata": {},
   "source": [
    "Standardize..."
   ]
  },
  {
   "cell_type": "code",
   "execution_count": 437,
   "metadata": {},
   "outputs": [],
   "source": [
    "test_prepared = StandardScaler().fit_transform(test_predictions)"
   ]
  },
  {
   "cell_type": "code",
   "execution_count": 438,
   "metadata": {},
   "outputs": [
    {
     "data": {
      "text/plain": [
       "1.0"
      ]
     },
     "execution_count": 438,
     "metadata": {},
     "output_type": "execute_result"
    }
   ],
   "source": [
    "test_prepared.std()"
   ]
  },
  {
   "cell_type": "code",
   "execution_count": 439,
   "metadata": {},
   "outputs": [],
   "source": [
    "final_prediction = final_model.predict(test_prepared)"
   ]
  },
  {
   "cell_type": "markdown",
   "metadata": {},
   "source": [
    "Calculate Error"
   ]
  },
  {
   "cell_type": "code",
   "execution_count": 453,
   "metadata": {},
   "outputs": [
    {
     "data": {
      "text/plain": [
       "0.601631589440706"
      ]
     },
     "execution_count": 453,
     "metadata": {},
     "output_type": "execute_result"
    }
   ],
   "source": [
    "final_error = np.sqrt(mean_squared_error(test_labels,final_prediction))\n",
    "final_error"
   ]
  },
  {
   "cell_type": "markdown",
   "metadata": {},
   "source": [
    "Our model actually performed better on the new data than on the training set. We can now predict the wine quality based on it's ingredients using **final_model.predict()**"
   ]
  },
  {
   "cell_type": "code",
   "execution_count": null,
   "metadata": {},
   "outputs": [],
   "source": []
  }
 ],
 "metadata": {
  "kernelspec": {
   "display_name": "Python 3.7.3 32-bit",
   "language": "python",
   "name": "python37332bit4ff2cf3d40564f55a8d21052ee5a8ceb"
  },
  "language_info": {
   "codemirror_mode": {
    "name": "ipython",
    "version": 3
   },
   "file_extension": ".py",
   "mimetype": "text/x-python",
   "name": "python",
   "nbconvert_exporter": "python",
   "pygments_lexer": "ipython3",
   "version": "3.7.3"
  }
 },
 "nbformat": 4,
 "nbformat_minor": 4
}
