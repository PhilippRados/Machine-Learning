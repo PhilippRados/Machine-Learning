{
 "cells": [
  {
   "cell_type": "code",
   "execution_count": 1,
   "metadata": {},
   "outputs": [],
   "source": [
    "import numpy as np\n",
    "import pandas as pd\n",
    "import matplotlib.pyplot as plt\n",
    "import seaborn as sns\n",
    "sns.set()"
   ]
  },
  {
   "cell_type": "code",
   "execution_count": 2,
   "metadata": {},
   "outputs": [],
   "source": [
    "np.random.seed(42)"
   ]
  },
  {
   "cell_type": "code",
   "execution_count": 3,
   "metadata": {},
   "outputs": [],
   "source": [
    "raw_data = pd.read_csv(\"Datasets/Buli-Predictor/buli.csv\")"
   ]
  },
  {
   "cell_type": "code",
   "execution_count": 4,
   "metadata": {},
   "outputs": [
    {
     "data": {
      "text/html": [
       "<div>\n",
       "<style scoped>\n",
       "    .dataframe tbody tr th:only-of-type {\n",
       "        vertical-align: middle;\n",
       "    }\n",
       "\n",
       "    .dataframe tbody tr th {\n",
       "        vertical-align: top;\n",
       "    }\n",
       "\n",
       "    .dataframe thead th {\n",
       "        text-align: right;\n",
       "    }\n",
       "</style>\n",
       "<table border=\"1\" class=\"dataframe\">\n",
       "  <thead>\n",
       "    <tr style=\"text-align: right;\">\n",
       "      <th></th>\n",
       "      <th>Wk</th>\n",
       "      <th>Day</th>\n",
       "      <th>Date</th>\n",
       "      <th>Time</th>\n",
       "      <th>Home</th>\n",
       "      <th>xG</th>\n",
       "      <th>Score</th>\n",
       "      <th>xG.1</th>\n",
       "      <th>Away</th>\n",
       "      <th>Attendance</th>\n",
       "      <th>Venue</th>\n",
       "      <th>Referee</th>\n",
       "      <th>Match Report</th>\n",
       "      <th>Notes</th>\n",
       "    </tr>\n",
       "  </thead>\n",
       "  <tbody>\n",
       "    <tr>\n",
       "      <th>0</th>\n",
       "      <td>1.0</td>\n",
       "      <td>Fri</td>\n",
       "      <td>2019-08-16</td>\n",
       "      <td>20:30</td>\n",
       "      <td>Bayern Munich</td>\n",
       "      <td>2.7</td>\n",
       "      <td>2–2</td>\n",
       "      <td>0.9</td>\n",
       "      <td>Hertha BSC</td>\n",
       "      <td>75000.0</td>\n",
       "      <td>Allianz Arena</td>\n",
       "      <td>Harm Osmers</td>\n",
       "      <td>Match Report</td>\n",
       "      <td>NaN</td>\n",
       "    </tr>\n",
       "    <tr>\n",
       "      <th>1</th>\n",
       "      <td>1.0</td>\n",
       "      <td>Sat</td>\n",
       "      <td>2019-08-17</td>\n",
       "      <td>15:30</td>\n",
       "      <td>Leverkusen</td>\n",
       "      <td>2.7</td>\n",
       "      <td>3–2</td>\n",
       "      <td>1.2</td>\n",
       "      <td>Paderborn 07</td>\n",
       "      <td>26208.0</td>\n",
       "      <td>BayArena</td>\n",
       "      <td>Tobias Stieler</td>\n",
       "      <td>Match Report</td>\n",
       "      <td>NaN</td>\n",
       "    </tr>\n",
       "    <tr>\n",
       "      <th>2</th>\n",
       "      <td>1.0</td>\n",
       "      <td>Sat</td>\n",
       "      <td>2019-08-17</td>\n",
       "      <td>15:30</td>\n",
       "      <td>Freiburg</td>\n",
       "      <td>2.1</td>\n",
       "      <td>3–0</td>\n",
       "      <td>0.9</td>\n",
       "      <td>Mainz 05</td>\n",
       "      <td>24000.0</td>\n",
       "      <td>Schwarzwald-Stadion</td>\n",
       "      <td>Robert Hartmann</td>\n",
       "      <td>Match Report</td>\n",
       "      <td>NaN</td>\n",
       "    </tr>\n",
       "    <tr>\n",
       "      <th>3</th>\n",
       "      <td>1.0</td>\n",
       "      <td>Sat</td>\n",
       "      <td>2019-08-17</td>\n",
       "      <td>15:30</td>\n",
       "      <td>Wolfsburg</td>\n",
       "      <td>0.8</td>\n",
       "      <td>2–1</td>\n",
       "      <td>1.0</td>\n",
       "      <td>Köln</td>\n",
       "      <td>25099.0</td>\n",
       "      <td>Volkswagen Arena</td>\n",
       "      <td>Sven Jablonski</td>\n",
       "      <td>Match Report</td>\n",
       "      <td>NaN</td>\n",
       "    </tr>\n",
       "    <tr>\n",
       "      <th>4</th>\n",
       "      <td>1.0</td>\n",
       "      <td>Sat</td>\n",
       "      <td>2019-08-17</td>\n",
       "      <td>15:30</td>\n",
       "      <td>Werder Bremen</td>\n",
       "      <td>2.4</td>\n",
       "      <td>1–3</td>\n",
       "      <td>0.9</td>\n",
       "      <td>Düsseldorf</td>\n",
       "      <td>42100.0</td>\n",
       "      <td>Weserstadion</td>\n",
       "      <td>Felix Zwayer</td>\n",
       "      <td>Match Report</td>\n",
       "      <td>NaN</td>\n",
       "    </tr>\n",
       "    <tr>\n",
       "      <th>...</th>\n",
       "      <td>...</td>\n",
       "      <td>...</td>\n",
       "      <td>...</td>\n",
       "      <td>...</td>\n",
       "      <td>...</td>\n",
       "      <td>...</td>\n",
       "      <td>...</td>\n",
       "      <td>...</td>\n",
       "      <td>...</td>\n",
       "      <td>...</td>\n",
       "      <td>...</td>\n",
       "      <td>...</td>\n",
       "      <td>...</td>\n",
       "      <td>...</td>\n",
       "    </tr>\n",
       "    <tr>\n",
       "      <th>336</th>\n",
       "      <td>34.0</td>\n",
       "      <td>Sat</td>\n",
       "      <td>2020-06-27</td>\n",
       "      <td>15:30</td>\n",
       "      <td>Freiburg</td>\n",
       "      <td>1.4</td>\n",
       "      <td>4–0</td>\n",
       "      <td>0.9</td>\n",
       "      <td>Schalke 04</td>\n",
       "      <td>NaN</td>\n",
       "      <td>Schwarzwald-Stadion</td>\n",
       "      <td>Martin Petersen</td>\n",
       "      <td>Match Report</td>\n",
       "      <td>NaN</td>\n",
       "    </tr>\n",
       "    <tr>\n",
       "      <th>337</th>\n",
       "      <td>34.0</td>\n",
       "      <td>Sat</td>\n",
       "      <td>2020-06-27</td>\n",
       "      <td>15:30</td>\n",
       "      <td>M'gladbach</td>\n",
       "      <td>3.4</td>\n",
       "      <td>2–1</td>\n",
       "      <td>0.8</td>\n",
       "      <td>Hertha BSC</td>\n",
       "      <td>NaN</td>\n",
       "      <td>Stadion im Borussia-Park</td>\n",
       "      <td>Deniz Aytekin</td>\n",
       "      <td>Match Report</td>\n",
       "      <td>NaN</td>\n",
       "    </tr>\n",
       "    <tr>\n",
       "      <th>338</th>\n",
       "      <td>34.0</td>\n",
       "      <td>Sat</td>\n",
       "      <td>2020-06-27</td>\n",
       "      <td>15:30</td>\n",
       "      <td>Union Berlin</td>\n",
       "      <td>1.8</td>\n",
       "      <td>3–0</td>\n",
       "      <td>1.1</td>\n",
       "      <td>Düsseldorf</td>\n",
       "      <td>NaN</td>\n",
       "      <td>Stadion An der Alten Försterei</td>\n",
       "      <td>Harm Osmers</td>\n",
       "      <td>Match Report</td>\n",
       "      <td>NaN</td>\n",
       "    </tr>\n",
       "    <tr>\n",
       "      <th>339</th>\n",
       "      <td>34.0</td>\n",
       "      <td>Sat</td>\n",
       "      <td>2020-06-27</td>\n",
       "      <td>15:30</td>\n",
       "      <td>Augsburg</td>\n",
       "      <td>0.3</td>\n",
       "      <td>1–2</td>\n",
       "      <td>2.2</td>\n",
       "      <td>RB Leipzig</td>\n",
       "      <td>NaN</td>\n",
       "      <td>WWK Arena</td>\n",
       "      <td>Felix Brych</td>\n",
       "      <td>Match Report</td>\n",
       "      <td>NaN</td>\n",
       "    </tr>\n",
       "    <tr>\n",
       "      <th>340</th>\n",
       "      <td>34.0</td>\n",
       "      <td>Sat</td>\n",
       "      <td>2020-06-27</td>\n",
       "      <td>15:30</td>\n",
       "      <td>Dortmund</td>\n",
       "      <td>0.2</td>\n",
       "      <td>0–4</td>\n",
       "      <td>3.3</td>\n",
       "      <td>Hoffenheim</td>\n",
       "      <td>NaN</td>\n",
       "      <td>Signal Iduna Park</td>\n",
       "      <td>Guido Winkmann</td>\n",
       "      <td>Match Report</td>\n",
       "      <td>NaN</td>\n",
       "    </tr>\n",
       "  </tbody>\n",
       "</table>\n",
       "<p>341 rows × 14 columns</p>\n",
       "</div>"
      ],
      "text/plain": [
       "       Wk  Day        Date   Time           Home   xG Score  xG.1  \\\n",
       "0     1.0  Fri  2019-08-16  20:30  Bayern Munich  2.7   2–2   0.9   \n",
       "1     1.0  Sat  2019-08-17  15:30     Leverkusen  2.7   3–2   1.2   \n",
       "2     1.0  Sat  2019-08-17  15:30       Freiburg  2.1   3–0   0.9   \n",
       "3     1.0  Sat  2019-08-17  15:30      Wolfsburg  0.8   2–1   1.0   \n",
       "4     1.0  Sat  2019-08-17  15:30  Werder Bremen  2.4   1–3   0.9   \n",
       "..    ...  ...         ...    ...            ...  ...   ...   ...   \n",
       "336  34.0  Sat  2020-06-27  15:30       Freiburg  1.4   4–0   0.9   \n",
       "337  34.0  Sat  2020-06-27  15:30     M'gladbach  3.4   2–1   0.8   \n",
       "338  34.0  Sat  2020-06-27  15:30   Union Berlin  1.8   3–0   1.1   \n",
       "339  34.0  Sat  2020-06-27  15:30       Augsburg  0.3   1–2   2.2   \n",
       "340  34.0  Sat  2020-06-27  15:30       Dortmund  0.2   0–4   3.3   \n",
       "\n",
       "             Away  Attendance                           Venue  \\\n",
       "0      Hertha BSC     75000.0                   Allianz Arena   \n",
       "1    Paderborn 07     26208.0                        BayArena   \n",
       "2        Mainz 05     24000.0             Schwarzwald-Stadion   \n",
       "3            Köln     25099.0                Volkswagen Arena   \n",
       "4      Düsseldorf     42100.0                    Weserstadion   \n",
       "..            ...         ...                             ...   \n",
       "336    Schalke 04         NaN             Schwarzwald-Stadion   \n",
       "337    Hertha BSC         NaN        Stadion im Borussia-Park   \n",
       "338    Düsseldorf         NaN  Stadion An der Alten Försterei   \n",
       "339    RB Leipzig         NaN                       WWK Arena   \n",
       "340    Hoffenheim         NaN               Signal Iduna Park   \n",
       "\n",
       "             Referee  Match Report  Notes  \n",
       "0        Harm Osmers  Match Report    NaN  \n",
       "1     Tobias Stieler  Match Report    NaN  \n",
       "2    Robert Hartmann  Match Report    NaN  \n",
       "3     Sven Jablonski  Match Report    NaN  \n",
       "4       Felix Zwayer  Match Report    NaN  \n",
       "..               ...           ...    ...  \n",
       "336  Martin Petersen  Match Report    NaN  \n",
       "337    Deniz Aytekin  Match Report    NaN  \n",
       "338      Harm Osmers  Match Report    NaN  \n",
       "339      Felix Brych  Match Report    NaN  \n",
       "340   Guido Winkmann  Match Report    NaN  \n",
       "\n",
       "[341 rows x 14 columns]"
      ]
     },
     "execution_count": 4,
     "metadata": {},
     "output_type": "execute_result"
    }
   ],
   "source": [
    "raw_data"
   ]
  },
  {
   "cell_type": "code",
   "execution_count": 5,
   "metadata": {},
   "outputs": [],
   "source": [
    "data_before_2020 = pd.read_csv(\"Datasets/Buli-Predictor/all_buli_seasons.csv\")"
   ]
  },
  {
   "cell_type": "code",
   "execution_count": 6,
   "metadata": {},
   "outputs": [
    {
     "data": {
      "text/html": [
       "<div>\n",
       "<style scoped>\n",
       "    .dataframe tbody tr th:only-of-type {\n",
       "        vertical-align: middle;\n",
       "    }\n",
       "\n",
       "    .dataframe tbody tr th {\n",
       "        vertical-align: top;\n",
       "    }\n",
       "\n",
       "    .dataframe thead th {\n",
       "        text-align: right;\n",
       "    }\n",
       "</style>\n",
       "<table border=\"1\" class=\"dataframe\">\n",
       "  <thead>\n",
       "    <tr style=\"text-align: right;\">\n",
       "      <th></th>\n",
       "      <th>Round</th>\n",
       "      <th>Wk</th>\n",
       "      <th>Day</th>\n",
       "      <th>Date</th>\n",
       "      <th>Time</th>\n",
       "      <th>Home</th>\n",
       "      <th>xG</th>\n",
       "      <th>Score</th>\n",
       "      <th>xG.1</th>\n",
       "      <th>Away</th>\n",
       "      <th>Attendance</th>\n",
       "      <th>Venue</th>\n",
       "      <th>Referee</th>\n",
       "      <th>Match Report</th>\n",
       "      <th>Notes</th>\n",
       "    </tr>\n",
       "  </thead>\n",
       "  <tbody>\n",
       "    <tr>\n",
       "      <th>0</th>\n",
       "      <td>Regular Season</td>\n",
       "      <td>1.0</td>\n",
       "      <td>Fri</td>\n",
       "      <td>2018-08-24</td>\n",
       "      <td>20:30</td>\n",
       "      <td>Bayern Munich</td>\n",
       "      <td>2.8</td>\n",
       "      <td>3–1</td>\n",
       "      <td>0.7</td>\n",
       "      <td>Hoffenheim</td>\n",
       "      <td>75000.0</td>\n",
       "      <td>Allianz Arena</td>\n",
       "      <td>Bastian Dankert</td>\n",
       "      <td>Match Report</td>\n",
       "      <td>NaN</td>\n",
       "    </tr>\n",
       "    <tr>\n",
       "      <th>1</th>\n",
       "      <td>Regular Season</td>\n",
       "      <td>1.0</td>\n",
       "      <td>Sat</td>\n",
       "      <td>2018-08-25</td>\n",
       "      <td>15:30</td>\n",
       "      <td>Düsseldorf</td>\n",
       "      <td>1.1</td>\n",
       "      <td>1–2</td>\n",
       "      <td>1.3</td>\n",
       "      <td>Augsburg</td>\n",
       "      <td>40996.0</td>\n",
       "      <td>Merkur Spielarena</td>\n",
       "      <td>Markus Schmidt</td>\n",
       "      <td>Match Report</td>\n",
       "      <td>NaN</td>\n",
       "    </tr>\n",
       "    <tr>\n",
       "      <th>2</th>\n",
       "      <td>Regular Season</td>\n",
       "      <td>1.0</td>\n",
       "      <td>Sat</td>\n",
       "      <td>2018-08-25</td>\n",
       "      <td>15:30</td>\n",
       "      <td>Werder Bremen</td>\n",
       "      <td>1.7</td>\n",
       "      <td>1–1</td>\n",
       "      <td>1.1</td>\n",
       "      <td>Hannover 96</td>\n",
       "      <td>42100.0</td>\n",
       "      <td>Weserstadion</td>\n",
       "      <td>Felix Brych</td>\n",
       "      <td>Match Report</td>\n",
       "      <td>NaN</td>\n",
       "    </tr>\n",
       "    <tr>\n",
       "      <th>3</th>\n",
       "      <td>Regular Season</td>\n",
       "      <td>1.0</td>\n",
       "      <td>Sat</td>\n",
       "      <td>2018-08-25</td>\n",
       "      <td>15:30</td>\n",
       "      <td>Wolfsburg</td>\n",
       "      <td>1.1</td>\n",
       "      <td>2–1</td>\n",
       "      <td>1.4</td>\n",
       "      <td>Schalke 04</td>\n",
       "      <td>26621.0</td>\n",
       "      <td>Volkswagen Arena</td>\n",
       "      <td>Patrick Ittrich</td>\n",
       "      <td>Match Report</td>\n",
       "      <td>NaN</td>\n",
       "    </tr>\n",
       "    <tr>\n",
       "      <th>4</th>\n",
       "      <td>Regular Season</td>\n",
       "      <td>1.0</td>\n",
       "      <td>Sat</td>\n",
       "      <td>2018-08-25</td>\n",
       "      <td>15:30</td>\n",
       "      <td>Hertha BSC</td>\n",
       "      <td>1.3</td>\n",
       "      <td>1–0</td>\n",
       "      <td>1.3</td>\n",
       "      <td>Nürnberg</td>\n",
       "      <td>52729.0</td>\n",
       "      <td>Olympiastadion Berlin</td>\n",
       "      <td>Tobias Welz</td>\n",
       "      <td>Match Report</td>\n",
       "      <td>NaN</td>\n",
       "    </tr>\n",
       "    <tr>\n",
       "      <th>...</th>\n",
       "      <td>...</td>\n",
       "      <td>...</td>\n",
       "      <td>...</td>\n",
       "      <td>...</td>\n",
       "      <td>...</td>\n",
       "      <td>...</td>\n",
       "      <td>...</td>\n",
       "      <td>...</td>\n",
       "      <td>...</td>\n",
       "      <td>...</td>\n",
       "      <td>...</td>\n",
       "      <td>...</td>\n",
       "      <td>...</td>\n",
       "      <td>...</td>\n",
       "      <td>...</td>\n",
       "    </tr>\n",
       "    <tr>\n",
       "      <th>673</th>\n",
       "      <td>Regular Season</td>\n",
       "      <td>34.0</td>\n",
       "      <td>Sat</td>\n",
       "      <td>2018-05-12</td>\n",
       "      <td>15:30</td>\n",
       "      <td>Wolfsburg</td>\n",
       "      <td>3.1</td>\n",
       "      <td>4–1</td>\n",
       "      <td>0.8</td>\n",
       "      <td>Köln</td>\n",
       "      <td>26112.0</td>\n",
       "      <td>Volkswagen Arena</td>\n",
       "      <td>Markus Schmidt</td>\n",
       "      <td>Match Report</td>\n",
       "      <td>NaN</td>\n",
       "    </tr>\n",
       "    <tr>\n",
       "      <th>674</th>\n",
       "      <td>Regular Season</td>\n",
       "      <td>34.0</td>\n",
       "      <td>Sat</td>\n",
       "      <td>2018-05-12</td>\n",
       "      <td>15:30</td>\n",
       "      <td>Hertha BSC</td>\n",
       "      <td>1.1</td>\n",
       "      <td>2–6</td>\n",
       "      <td>1.6</td>\n",
       "      <td>RB Leipzig</td>\n",
       "      <td>60502.0</td>\n",
       "      <td>Olympiastadion Berlin</td>\n",
       "      <td>Sven Jablonski</td>\n",
       "      <td>Match Report</td>\n",
       "      <td>NaN</td>\n",
       "    </tr>\n",
       "    <tr>\n",
       "      <th>675</th>\n",
       "      <td>Regular Season</td>\n",
       "      <td>34.0</td>\n",
       "      <td>Sat</td>\n",
       "      <td>2018-05-12</td>\n",
       "      <td>15:30</td>\n",
       "      <td>Bayern Munich</td>\n",
       "      <td>2.7</td>\n",
       "      <td>1–4</td>\n",
       "      <td>2.4</td>\n",
       "      <td>Stuttgart</td>\n",
       "      <td>75000.0</td>\n",
       "      <td>Allianz Arena</td>\n",
       "      <td>Sascha Stegemann</td>\n",
       "      <td>Match Report</td>\n",
       "      <td>NaN</td>\n",
       "    </tr>\n",
       "    <tr>\n",
       "      <th>676</th>\n",
       "      <td>Regular Season</td>\n",
       "      <td>34.0</td>\n",
       "      <td>Sat</td>\n",
       "      <td>2018-05-12</td>\n",
       "      <td>15:30</td>\n",
       "      <td>Mainz 05</td>\n",
       "      <td>0.9</td>\n",
       "      <td>1–2</td>\n",
       "      <td>1.1</td>\n",
       "      <td>Werder Bremen</td>\n",
       "      <td>34000.0</td>\n",
       "      <td>Opel Arena</td>\n",
       "      <td>Martin Petersen</td>\n",
       "      <td>Match Report</td>\n",
       "      <td>NaN</td>\n",
       "    </tr>\n",
       "    <tr>\n",
       "      <th>677</th>\n",
       "      <td>Regular Season</td>\n",
       "      <td>34.0</td>\n",
       "      <td>Sat</td>\n",
       "      <td>2018-05-12</td>\n",
       "      <td>15:30</td>\n",
       "      <td>Leverkusen</td>\n",
       "      <td>4.5</td>\n",
       "      <td>3–2</td>\n",
       "      <td>2.1</td>\n",
       "      <td>Hannover 96</td>\n",
       "      <td>30210.0</td>\n",
       "      <td>BayArena</td>\n",
       "      <td>Guido Winkmann</td>\n",
       "      <td>Match Report</td>\n",
       "      <td>NaN</td>\n",
       "    </tr>\n",
       "  </tbody>\n",
       "</table>\n",
       "<p>678 rows × 15 columns</p>\n",
       "</div>"
      ],
      "text/plain": [
       "              Round    Wk  Day        Date   Time           Home   xG Score  \\\n",
       "0    Regular Season   1.0  Fri  2018-08-24  20:30  Bayern Munich  2.8   3–1   \n",
       "1    Regular Season   1.0  Sat  2018-08-25  15:30     Düsseldorf  1.1   1–2   \n",
       "2    Regular Season   1.0  Sat  2018-08-25  15:30  Werder Bremen  1.7   1–1   \n",
       "3    Regular Season   1.0  Sat  2018-08-25  15:30      Wolfsburg  1.1   2–1   \n",
       "4    Regular Season   1.0  Sat  2018-08-25  15:30     Hertha BSC  1.3   1–0   \n",
       "..              ...   ...  ...         ...    ...            ...  ...   ...   \n",
       "673  Regular Season  34.0  Sat  2018-05-12  15:30      Wolfsburg  3.1   4–1   \n",
       "674  Regular Season  34.0  Sat  2018-05-12  15:30     Hertha BSC  1.1   2–6   \n",
       "675  Regular Season  34.0  Sat  2018-05-12  15:30  Bayern Munich  2.7   1–4   \n",
       "676  Regular Season  34.0  Sat  2018-05-12  15:30       Mainz 05  0.9   1–2   \n",
       "677  Regular Season  34.0  Sat  2018-05-12  15:30     Leverkusen  4.5   3–2   \n",
       "\n",
       "     xG.1           Away  Attendance                  Venue           Referee  \\\n",
       "0     0.7     Hoffenheim     75000.0          Allianz Arena   Bastian Dankert   \n",
       "1     1.3       Augsburg     40996.0      Merkur Spielarena    Markus Schmidt   \n",
       "2     1.1    Hannover 96     42100.0           Weserstadion       Felix Brych   \n",
       "3     1.4     Schalke 04     26621.0       Volkswagen Arena   Patrick Ittrich   \n",
       "4     1.3       Nürnberg     52729.0  Olympiastadion Berlin       Tobias Welz   \n",
       "..    ...            ...         ...                    ...               ...   \n",
       "673   0.8           Köln     26112.0       Volkswagen Arena    Markus Schmidt   \n",
       "674   1.6     RB Leipzig     60502.0  Olympiastadion Berlin    Sven Jablonski   \n",
       "675   2.4      Stuttgart     75000.0          Allianz Arena  Sascha Stegemann   \n",
       "676   1.1  Werder Bremen     34000.0             Opel Arena   Martin Petersen   \n",
       "677   2.1    Hannover 96     30210.0               BayArena    Guido Winkmann   \n",
       "\n",
       "     Match Report  Notes  \n",
       "0    Match Report    NaN  \n",
       "1    Match Report    NaN  \n",
       "2    Match Report    NaN  \n",
       "3    Match Report    NaN  \n",
       "4    Match Report    NaN  \n",
       "..            ...    ...  \n",
       "673  Match Report    NaN  \n",
       "674  Match Report    NaN  \n",
       "675  Match Report    NaN  \n",
       "676  Match Report    NaN  \n",
       "677  Match Report    NaN  \n",
       "\n",
       "[678 rows x 15 columns]"
      ]
     },
     "execution_count": 6,
     "metadata": {},
     "output_type": "execute_result"
    }
   ],
   "source": [
    "data_before_2020"
   ]
  },
  {
   "cell_type": "code",
   "execution_count": 7,
   "metadata": {},
   "outputs": [],
   "source": [
    "data_before_2020.dropna(axis=0,how=\"all\",inplace=True)\n",
    "data_before_2020.drop(axis=1,columns=[\"Round\"],inplace=True)"
   ]
  },
  {
   "cell_type": "code",
   "execution_count": 8,
   "metadata": {},
   "outputs": [],
   "source": [
    "raw_data.dropna(axis=0,how=\"all\",inplace=True)"
   ]
  },
  {
   "cell_type": "code",
   "execution_count": 9,
   "metadata": {},
   "outputs": [
    {
     "name": "stdout",
     "output_type": "stream",
     "text": [
      "<class 'pandas.core.frame.DataFrame'>\n",
      "Int64Index: 612 entries, 0 to 677\n",
      "Data columns (total 14 columns):\n",
      "Wk              612 non-null float64\n",
      "Day             612 non-null object\n",
      "Date            612 non-null object\n",
      "Time            612 non-null object\n",
      "Home            612 non-null object\n",
      "xG              612 non-null float64\n",
      "Score           612 non-null object\n",
      "xG.1            612 non-null float64\n",
      "Away            612 non-null object\n",
      "Attendance      612 non-null float64\n",
      "Venue           612 non-null object\n",
      "Referee         612 non-null object\n",
      "Match Report    612 non-null object\n",
      "Notes           0 non-null float64\n",
      "dtypes: float64(5), object(9)\n",
      "memory usage: 50.2+ KB\n"
     ]
    }
   ],
   "source": [
    "data_before_2020.info()"
   ]
  },
  {
   "cell_type": "markdown",
   "metadata": {},
   "source": [
    "Lets concatenate the two datasets into one big one"
   ]
  },
  {
   "cell_type": "code",
   "execution_count": 10,
   "metadata": {},
   "outputs": [],
   "source": [
    "long_dataset = raw_data.append(data_before_2020)"
   ]
  },
  {
   "cell_type": "code",
   "execution_count": 11,
   "metadata": {},
   "outputs": [
    {
     "data": {
      "text/html": [
       "<div>\n",
       "<style scoped>\n",
       "    .dataframe tbody tr th:only-of-type {\n",
       "        vertical-align: middle;\n",
       "    }\n",
       "\n",
       "    .dataframe tbody tr th {\n",
       "        vertical-align: top;\n",
       "    }\n",
       "\n",
       "    .dataframe thead th {\n",
       "        text-align: right;\n",
       "    }\n",
       "</style>\n",
       "<table border=\"1\" class=\"dataframe\">\n",
       "  <thead>\n",
       "    <tr style=\"text-align: right;\">\n",
       "      <th></th>\n",
       "      <th>Wk</th>\n",
       "      <th>Day</th>\n",
       "      <th>Date</th>\n",
       "      <th>Time</th>\n",
       "      <th>Home</th>\n",
       "      <th>xG</th>\n",
       "      <th>Score</th>\n",
       "      <th>xG.1</th>\n",
       "      <th>Away</th>\n",
       "      <th>Attendance</th>\n",
       "      <th>Venue</th>\n",
       "      <th>Referee</th>\n",
       "      <th>Match Report</th>\n",
       "      <th>Notes</th>\n",
       "    </tr>\n",
       "  </thead>\n",
       "  <tbody>\n",
       "    <tr>\n",
       "      <th>339</th>\n",
       "      <td>34.0</td>\n",
       "      <td>Sat</td>\n",
       "      <td>2020-06-27</td>\n",
       "      <td>15:30</td>\n",
       "      <td>Augsburg</td>\n",
       "      <td>0.3</td>\n",
       "      <td>1–2</td>\n",
       "      <td>2.2</td>\n",
       "      <td>RB Leipzig</td>\n",
       "      <td>NaN</td>\n",
       "      <td>WWK Arena</td>\n",
       "      <td>Felix Brych</td>\n",
       "      <td>Match Report</td>\n",
       "      <td>NaN</td>\n",
       "    </tr>\n",
       "    <tr>\n",
       "      <th>335</th>\n",
       "      <td>34.0</td>\n",
       "      <td>Sat</td>\n",
       "      <td>2020-06-27</td>\n",
       "      <td>15:30</td>\n",
       "      <td>Leverkusen</td>\n",
       "      <td>1.7</td>\n",
       "      <td>1–0</td>\n",
       "      <td>0.4</td>\n",
       "      <td>Mainz 05</td>\n",
       "      <td>NaN</td>\n",
       "      <td>BayArena</td>\n",
       "      <td>Benjamin Cortus</td>\n",
       "      <td>Match Report</td>\n",
       "      <td>NaN</td>\n",
       "    </tr>\n",
       "    <tr>\n",
       "      <th>332</th>\n",
       "      <td>34.0</td>\n",
       "      <td>Sat</td>\n",
       "      <td>2020-06-27</td>\n",
       "      <td>15:30</td>\n",
       "      <td>Wolfsburg</td>\n",
       "      <td>0.9</td>\n",
       "      <td>0–4</td>\n",
       "      <td>3.4</td>\n",
       "      <td>Bayern Munich</td>\n",
       "      <td>NaN</td>\n",
       "      <td>Volkswagen Arena</td>\n",
       "      <td>Patrick Ittrich</td>\n",
       "      <td>Match Report</td>\n",
       "      <td>NaN</td>\n",
       "    </tr>\n",
       "    <tr>\n",
       "      <th>333</th>\n",
       "      <td>34.0</td>\n",
       "      <td>Sat</td>\n",
       "      <td>2020-06-27</td>\n",
       "      <td>15:30</td>\n",
       "      <td>Eint Frankfurt</td>\n",
       "      <td>1.9</td>\n",
       "      <td>3–2</td>\n",
       "      <td>2.5</td>\n",
       "      <td>Paderborn 07</td>\n",
       "      <td>NaN</td>\n",
       "      <td>Commerzbank-Arena</td>\n",
       "      <td>Benjamin Brand</td>\n",
       "      <td>Match Report</td>\n",
       "      <td>NaN</td>\n",
       "    </tr>\n",
       "    <tr>\n",
       "      <th>334</th>\n",
       "      <td>34.0</td>\n",
       "      <td>Sat</td>\n",
       "      <td>2020-06-27</td>\n",
       "      <td>15:30</td>\n",
       "      <td>Werder Bremen</td>\n",
       "      <td>3.0</td>\n",
       "      <td>6–1</td>\n",
       "      <td>0.8</td>\n",
       "      <td>Köln</td>\n",
       "      <td>NaN</td>\n",
       "      <td>Weserstadion</td>\n",
       "      <td>Bastian Dankert</td>\n",
       "      <td>Match Report</td>\n",
       "      <td>NaN</td>\n",
       "    </tr>\n",
       "    <tr>\n",
       "      <th>...</th>\n",
       "      <td>...</td>\n",
       "      <td>...</td>\n",
       "      <td>...</td>\n",
       "      <td>...</td>\n",
       "      <td>...</td>\n",
       "      <td>...</td>\n",
       "      <td>...</td>\n",
       "      <td>...</td>\n",
       "      <td>...</td>\n",
       "      <td>...</td>\n",
       "      <td>...</td>\n",
       "      <td>...</td>\n",
       "      <td>...</td>\n",
       "      <td>...</td>\n",
       "    </tr>\n",
       "    <tr>\n",
       "      <th>343</th>\n",
       "      <td>1.0</td>\n",
       "      <td>Sat</td>\n",
       "      <td>2017-08-19</td>\n",
       "      <td>15:30</td>\n",
       "      <td>Mainz 05</td>\n",
       "      <td>1.0</td>\n",
       "      <td>0–1</td>\n",
       "      <td>0.8</td>\n",
       "      <td>Hannover 96</td>\n",
       "      <td>28279.0</td>\n",
       "      <td>Opel Arena</td>\n",
       "      <td>Felix Brych</td>\n",
       "      <td>Match Report</td>\n",
       "      <td>NaN</td>\n",
       "    </tr>\n",
       "    <tr>\n",
       "      <th>342</th>\n",
       "      <td>1.0</td>\n",
       "      <td>Sat</td>\n",
       "      <td>2017-08-19</td>\n",
       "      <td>15:30</td>\n",
       "      <td>Hamburger SV</td>\n",
       "      <td>0.7</td>\n",
       "      <td>1–0</td>\n",
       "      <td>0.8</td>\n",
       "      <td>Augsburg</td>\n",
       "      <td>49449.0</td>\n",
       "      <td>Volksparkstadion</td>\n",
       "      <td>Daniel Siebert</td>\n",
       "      <td>Match Report</td>\n",
       "      <td>NaN</td>\n",
       "    </tr>\n",
       "    <tr>\n",
       "      <th>341</th>\n",
       "      <td>1.0</td>\n",
       "      <td>Sat</td>\n",
       "      <td>2017-08-19</td>\n",
       "      <td>15:30</td>\n",
       "      <td>Hertha BSC</td>\n",
       "      <td>0.8</td>\n",
       "      <td>2–0</td>\n",
       "      <td>1.1</td>\n",
       "      <td>Stuttgart</td>\n",
       "      <td>44751.0</td>\n",
       "      <td>Olympiastadion Berlin</td>\n",
       "      <td>Sascha Stegemann</td>\n",
       "      <td>Match Report</td>\n",
       "      <td>NaN</td>\n",
       "    </tr>\n",
       "    <tr>\n",
       "      <th>340</th>\n",
       "      <td>1.0</td>\n",
       "      <td>Sat</td>\n",
       "      <td>2017-08-19</td>\n",
       "      <td>15:30</td>\n",
       "      <td>Hoffenheim</td>\n",
       "      <td>1.2</td>\n",
       "      <td>1–0</td>\n",
       "      <td>1.0</td>\n",
       "      <td>Werder Bremen</td>\n",
       "      <td>30150.0</td>\n",
       "      <td>Dietmar-Hopp-Stadion</td>\n",
       "      <td>Guido Winkmann</td>\n",
       "      <td>Match Report</td>\n",
       "      <td>NaN</td>\n",
       "    </tr>\n",
       "    <tr>\n",
       "      <th>339</th>\n",
       "      <td>1.0</td>\n",
       "      <td>Fri</td>\n",
       "      <td>2017-08-18</td>\n",
       "      <td>20:30</td>\n",
       "      <td>Bayern Munich</td>\n",
       "      <td>2.7</td>\n",
       "      <td>3–1</td>\n",
       "      <td>2.1</td>\n",
       "      <td>Leverkusen</td>\n",
       "      <td>75000.0</td>\n",
       "      <td>Allianz Arena</td>\n",
       "      <td>Tobias Stieler</td>\n",
       "      <td>Match Report</td>\n",
       "      <td>NaN</td>\n",
       "    </tr>\n",
       "  </tbody>\n",
       "</table>\n",
       "<p>918 rows × 14 columns</p>\n",
       "</div>"
      ],
      "text/plain": [
       "       Wk  Day        Date   Time            Home   xG Score  xG.1  \\\n",
       "339  34.0  Sat  2020-06-27  15:30        Augsburg  0.3   1–2   2.2   \n",
       "335  34.0  Sat  2020-06-27  15:30      Leverkusen  1.7   1–0   0.4   \n",
       "332  34.0  Sat  2020-06-27  15:30       Wolfsburg  0.9   0–4   3.4   \n",
       "333  34.0  Sat  2020-06-27  15:30  Eint Frankfurt  1.9   3–2   2.5   \n",
       "334  34.0  Sat  2020-06-27  15:30   Werder Bremen  3.0   6–1   0.8   \n",
       "..    ...  ...         ...    ...             ...  ...   ...   ...   \n",
       "343   1.0  Sat  2017-08-19  15:30        Mainz 05  1.0   0–1   0.8   \n",
       "342   1.0  Sat  2017-08-19  15:30    Hamburger SV  0.7   1–0   0.8   \n",
       "341   1.0  Sat  2017-08-19  15:30      Hertha BSC  0.8   2–0   1.1   \n",
       "340   1.0  Sat  2017-08-19  15:30      Hoffenheim  1.2   1–0   1.0   \n",
       "339   1.0  Fri  2017-08-18  20:30   Bayern Munich  2.7   3–1   2.1   \n",
       "\n",
       "              Away  Attendance                  Venue           Referee  \\\n",
       "339     RB Leipzig         NaN              WWK Arena       Felix Brych   \n",
       "335       Mainz 05         NaN               BayArena   Benjamin Cortus   \n",
       "332  Bayern Munich         NaN       Volkswagen Arena   Patrick Ittrich   \n",
       "333   Paderborn 07         NaN      Commerzbank-Arena    Benjamin Brand   \n",
       "334           Köln         NaN           Weserstadion   Bastian Dankert   \n",
       "..             ...         ...                    ...               ...   \n",
       "343    Hannover 96     28279.0             Opel Arena       Felix Brych   \n",
       "342       Augsburg     49449.0       Volksparkstadion    Daniel Siebert   \n",
       "341      Stuttgart     44751.0  Olympiastadion Berlin  Sascha Stegemann   \n",
       "340  Werder Bremen     30150.0   Dietmar-Hopp-Stadion    Guido Winkmann   \n",
       "339     Leverkusen     75000.0          Allianz Arena    Tobias Stieler   \n",
       "\n",
       "     Match Report  Notes  \n",
       "339  Match Report    NaN  \n",
       "335  Match Report    NaN  \n",
       "332  Match Report    NaN  \n",
       "333  Match Report    NaN  \n",
       "334  Match Report    NaN  \n",
       "..            ...    ...  \n",
       "343  Match Report    NaN  \n",
       "342  Match Report    NaN  \n",
       "341  Match Report    NaN  \n",
       "340  Match Report    NaN  \n",
       "339  Match Report    NaN  \n",
       "\n",
       "[918 rows x 14 columns]"
      ]
     },
     "execution_count": 11,
     "metadata": {},
     "output_type": "execute_result"
    }
   ],
   "source": [
    "long_dataset.sort_values(by=\"Date\",ascending=False)"
   ]
  },
  {
   "cell_type": "code",
   "execution_count": 12,
   "metadata": {},
   "outputs": [
    {
     "data": {
      "text/html": [
       "<div>\n",
       "<style scoped>\n",
       "    .dataframe tbody tr th:only-of-type {\n",
       "        vertical-align: middle;\n",
       "    }\n",
       "\n",
       "    .dataframe tbody tr th {\n",
       "        vertical-align: top;\n",
       "    }\n",
       "\n",
       "    .dataframe thead th {\n",
       "        text-align: right;\n",
       "    }\n",
       "</style>\n",
       "<table border=\"1\" class=\"dataframe\">\n",
       "  <thead>\n",
       "    <tr style=\"text-align: right;\">\n",
       "      <th></th>\n",
       "      <th>Home</th>\n",
       "      <th>xG</th>\n",
       "      <th>Away</th>\n",
       "      <th>xG.1</th>\n",
       "      <th>Score</th>\n",
       "    </tr>\n",
       "  </thead>\n",
       "  <tbody>\n",
       "    <tr>\n",
       "      <th>0</th>\n",
       "      <td>Bayern Munich</td>\n",
       "      <td>2.7</td>\n",
       "      <td>Hertha BSC</td>\n",
       "      <td>0.9</td>\n",
       "      <td>2–2</td>\n",
       "    </tr>\n",
       "    <tr>\n",
       "      <th>1</th>\n",
       "      <td>Leverkusen</td>\n",
       "      <td>2.7</td>\n",
       "      <td>Paderborn 07</td>\n",
       "      <td>1.2</td>\n",
       "      <td>3–2</td>\n",
       "    </tr>\n",
       "    <tr>\n",
       "      <th>2</th>\n",
       "      <td>Freiburg</td>\n",
       "      <td>2.1</td>\n",
       "      <td>Mainz 05</td>\n",
       "      <td>0.9</td>\n",
       "      <td>3–0</td>\n",
       "    </tr>\n",
       "    <tr>\n",
       "      <th>3</th>\n",
       "      <td>Wolfsburg</td>\n",
       "      <td>0.8</td>\n",
       "      <td>Köln</td>\n",
       "      <td>1.0</td>\n",
       "      <td>2–1</td>\n",
       "    </tr>\n",
       "    <tr>\n",
       "      <th>4</th>\n",
       "      <td>Werder Bremen</td>\n",
       "      <td>2.4</td>\n",
       "      <td>Düsseldorf</td>\n",
       "      <td>0.9</td>\n",
       "      <td>1–3</td>\n",
       "    </tr>\n",
       "    <tr>\n",
       "      <th>...</th>\n",
       "      <td>...</td>\n",
       "      <td>...</td>\n",
       "      <td>...</td>\n",
       "      <td>...</td>\n",
       "      <td>...</td>\n",
       "    </tr>\n",
       "    <tr>\n",
       "      <th>673</th>\n",
       "      <td>Wolfsburg</td>\n",
       "      <td>3.1</td>\n",
       "      <td>Köln</td>\n",
       "      <td>0.8</td>\n",
       "      <td>4–1</td>\n",
       "    </tr>\n",
       "    <tr>\n",
       "      <th>674</th>\n",
       "      <td>Hertha BSC</td>\n",
       "      <td>1.1</td>\n",
       "      <td>RB Leipzig</td>\n",
       "      <td>1.6</td>\n",
       "      <td>2–6</td>\n",
       "    </tr>\n",
       "    <tr>\n",
       "      <th>675</th>\n",
       "      <td>Bayern Munich</td>\n",
       "      <td>2.7</td>\n",
       "      <td>Stuttgart</td>\n",
       "      <td>2.4</td>\n",
       "      <td>1–4</td>\n",
       "    </tr>\n",
       "    <tr>\n",
       "      <th>676</th>\n",
       "      <td>Mainz 05</td>\n",
       "      <td>0.9</td>\n",
       "      <td>Werder Bremen</td>\n",
       "      <td>1.1</td>\n",
       "      <td>1–2</td>\n",
       "    </tr>\n",
       "    <tr>\n",
       "      <th>677</th>\n",
       "      <td>Leverkusen</td>\n",
       "      <td>4.5</td>\n",
       "      <td>Hannover 96</td>\n",
       "      <td>2.1</td>\n",
       "      <td>3–2</td>\n",
       "    </tr>\n",
       "  </tbody>\n",
       "</table>\n",
       "<p>918 rows × 5 columns</p>\n",
       "</div>"
      ],
      "text/plain": [
       "              Home   xG           Away  xG.1 Score\n",
       "0    Bayern Munich  2.7     Hertha BSC   0.9   2–2\n",
       "1       Leverkusen  2.7   Paderborn 07   1.2   3–2\n",
       "2         Freiburg  2.1       Mainz 05   0.9   3–0\n",
       "3        Wolfsburg  0.8           Köln   1.0   2–1\n",
       "4    Werder Bremen  2.4     Düsseldorf   0.9   1–3\n",
       "..             ...  ...            ...   ...   ...\n",
       "673      Wolfsburg  3.1           Köln   0.8   4–1\n",
       "674     Hertha BSC  1.1     RB Leipzig   1.6   2–6\n",
       "675  Bayern Munich  2.7      Stuttgart   2.4   1–4\n",
       "676       Mainz 05  0.9  Werder Bremen   1.1   1–2\n",
       "677     Leverkusen  4.5    Hannover 96   2.1   3–2\n",
       "\n",
       "[918 rows x 5 columns]"
      ]
     },
     "execution_count": 12,
     "metadata": {},
     "output_type": "execute_result"
    }
   ],
   "source": [
    "data_scores = long_dataset[[\"Home\",\"xG\",\"Away\",\"xG.1\",\"Score\"]]\n",
    "data_scores"
   ]
  },
  {
   "cell_type": "code",
   "execution_count": 13,
   "metadata": {},
   "outputs": [
    {
     "name": "stderr",
     "output_type": "stream",
     "text": [
      "C:\\Users\\Admin\\AppData\\Local\\Programs\\Python\\Python37-32\\lib\\site-packages\\ipykernel_launcher.py:1: SettingWithCopyWarning: \n",
      "A value is trying to be set on a copy of a slice from a DataFrame.\n",
      "Try using .loc[row_indexer,col_indexer] = value instead\n",
      "\n",
      "See the caveats in the documentation: http://pandas.pydata.org/pandas-docs/stable/user_guide/indexing.html#returning-a-view-versus-a-copy\n",
      "  \"\"\"Entry point for launching an IPython kernel.\n"
     ]
    }
   ],
   "source": [
    "data_scores[\"Score\"] = data_scores[\"Score\"].apply(lambda x: x.split(\"–\"))"
   ]
  },
  {
   "cell_type": "code",
   "execution_count": 14,
   "metadata": {},
   "outputs": [
    {
     "data": {
      "text/html": [
       "<div>\n",
       "<style scoped>\n",
       "    .dataframe tbody tr th:only-of-type {\n",
       "        vertical-align: middle;\n",
       "    }\n",
       "\n",
       "    .dataframe tbody tr th {\n",
       "        vertical-align: top;\n",
       "    }\n",
       "\n",
       "    .dataframe thead th {\n",
       "        text-align: right;\n",
       "    }\n",
       "</style>\n",
       "<table border=\"1\" class=\"dataframe\">\n",
       "  <thead>\n",
       "    <tr style=\"text-align: right;\">\n",
       "      <th></th>\n",
       "      <th>Home</th>\n",
       "      <th>xG</th>\n",
       "      <th>Away</th>\n",
       "      <th>xG.1</th>\n",
       "      <th>Score</th>\n",
       "    </tr>\n",
       "  </thead>\n",
       "  <tbody>\n",
       "    <tr>\n",
       "      <th>0</th>\n",
       "      <td>Bayern Munich</td>\n",
       "      <td>2.7</td>\n",
       "      <td>Hertha BSC</td>\n",
       "      <td>0.9</td>\n",
       "      <td>[2, 2]</td>\n",
       "    </tr>\n",
       "    <tr>\n",
       "      <th>1</th>\n",
       "      <td>Leverkusen</td>\n",
       "      <td>2.7</td>\n",
       "      <td>Paderborn 07</td>\n",
       "      <td>1.2</td>\n",
       "      <td>[3, 2]</td>\n",
       "    </tr>\n",
       "    <tr>\n",
       "      <th>2</th>\n",
       "      <td>Freiburg</td>\n",
       "      <td>2.1</td>\n",
       "      <td>Mainz 05</td>\n",
       "      <td>0.9</td>\n",
       "      <td>[3, 0]</td>\n",
       "    </tr>\n",
       "    <tr>\n",
       "      <th>3</th>\n",
       "      <td>Wolfsburg</td>\n",
       "      <td>0.8</td>\n",
       "      <td>Köln</td>\n",
       "      <td>1.0</td>\n",
       "      <td>[2, 1]</td>\n",
       "    </tr>\n",
       "    <tr>\n",
       "      <th>4</th>\n",
       "      <td>Werder Bremen</td>\n",
       "      <td>2.4</td>\n",
       "      <td>Düsseldorf</td>\n",
       "      <td>0.9</td>\n",
       "      <td>[1, 3]</td>\n",
       "    </tr>\n",
       "    <tr>\n",
       "      <th>...</th>\n",
       "      <td>...</td>\n",
       "      <td>...</td>\n",
       "      <td>...</td>\n",
       "      <td>...</td>\n",
       "      <td>...</td>\n",
       "    </tr>\n",
       "    <tr>\n",
       "      <th>673</th>\n",
       "      <td>Wolfsburg</td>\n",
       "      <td>3.1</td>\n",
       "      <td>Köln</td>\n",
       "      <td>0.8</td>\n",
       "      <td>[4, 1]</td>\n",
       "    </tr>\n",
       "    <tr>\n",
       "      <th>674</th>\n",
       "      <td>Hertha BSC</td>\n",
       "      <td>1.1</td>\n",
       "      <td>RB Leipzig</td>\n",
       "      <td>1.6</td>\n",
       "      <td>[2, 6]</td>\n",
       "    </tr>\n",
       "    <tr>\n",
       "      <th>675</th>\n",
       "      <td>Bayern Munich</td>\n",
       "      <td>2.7</td>\n",
       "      <td>Stuttgart</td>\n",
       "      <td>2.4</td>\n",
       "      <td>[1, 4]</td>\n",
       "    </tr>\n",
       "    <tr>\n",
       "      <th>676</th>\n",
       "      <td>Mainz 05</td>\n",
       "      <td>0.9</td>\n",
       "      <td>Werder Bremen</td>\n",
       "      <td>1.1</td>\n",
       "      <td>[1, 2]</td>\n",
       "    </tr>\n",
       "    <tr>\n",
       "      <th>677</th>\n",
       "      <td>Leverkusen</td>\n",
       "      <td>4.5</td>\n",
       "      <td>Hannover 96</td>\n",
       "      <td>2.1</td>\n",
       "      <td>[3, 2]</td>\n",
       "    </tr>\n",
       "  </tbody>\n",
       "</table>\n",
       "<p>918 rows × 5 columns</p>\n",
       "</div>"
      ],
      "text/plain": [
       "              Home   xG           Away  xG.1   Score\n",
       "0    Bayern Munich  2.7     Hertha BSC   0.9  [2, 2]\n",
       "1       Leverkusen  2.7   Paderborn 07   1.2  [3, 2]\n",
       "2         Freiburg  2.1       Mainz 05   0.9  [3, 0]\n",
       "3        Wolfsburg  0.8           Köln   1.0  [2, 1]\n",
       "4    Werder Bremen  2.4     Düsseldorf   0.9  [1, 3]\n",
       "..             ...  ...            ...   ...     ...\n",
       "673      Wolfsburg  3.1           Köln   0.8  [4, 1]\n",
       "674     Hertha BSC  1.1     RB Leipzig   1.6  [2, 6]\n",
       "675  Bayern Munich  2.7      Stuttgart   2.4  [1, 4]\n",
       "676       Mainz 05  0.9  Werder Bremen   1.1  [1, 2]\n",
       "677     Leverkusen  4.5    Hannover 96   2.1  [3, 2]\n",
       "\n",
       "[918 rows x 5 columns]"
      ]
     },
     "execution_count": 14,
     "metadata": {},
     "output_type": "execute_result"
    }
   ],
   "source": [
    "data_scores"
   ]
  },
  {
   "cell_type": "markdown",
   "metadata": {},
   "source": [
    "This is a function that returns 0 if a draw, 1 if the home-team wins, and 2 if away-team wins"
   ]
  },
  {
   "cell_type": "code",
   "execution_count": 15,
   "metadata": {},
   "outputs": [],
   "source": [
    "def check_class(x):\n",
    "    home_score = x[0]\n",
    "    away_score = x[1]\n",
    "    return 1 if home_score > away_score else 0 if home_score == away_score else 2"
   ]
  },
  {
   "cell_type": "code",
   "execution_count": 16,
   "metadata": {},
   "outputs": [
    {
     "name": "stderr",
     "output_type": "stream",
     "text": [
      "C:\\Users\\Admin\\AppData\\Local\\Programs\\Python\\Python37-32\\lib\\site-packages\\ipykernel_launcher.py:1: SettingWithCopyWarning: \n",
      "A value is trying to be set on a copy of a slice from a DataFrame.\n",
      "Try using .loc[row_indexer,col_indexer] = value instead\n",
      "\n",
      "See the caveats in the documentation: http://pandas.pydata.org/pandas-docs/stable/user_guide/indexing.html#returning-a-view-versus-a-copy\n",
      "  \"\"\"Entry point for launching an IPython kernel.\n"
     ]
    }
   ],
   "source": [
    "data_scores[\"Score\"] = data_scores[\"Score\"].apply(lambda x: check_class(x))"
   ]
  },
  {
   "cell_type": "markdown",
   "metadata": {},
   "source": [
    "Lets try and give every team a unique number so that our algorithm can work with the data. This is a bit tricky because there are new teams every season"
   ]
  },
  {
   "cell_type": "code",
   "execution_count": 17,
   "metadata": {},
   "outputs": [],
   "source": [
    "teams = np.unique(data_scores.Home)"
   ]
  },
  {
   "cell_type": "code",
   "execution_count": 18,
   "metadata": {},
   "outputs": [],
   "source": [
    "t_dict = {}\n",
    "\n",
    "for idx,team in enumerate(teams):\n",
    "    t_dict[team] = idx"
   ]
  },
  {
   "cell_type": "code",
   "execution_count": 19,
   "metadata": {},
   "outputs": [
    {
     "data": {
      "text/plain": [
       "{'Augsburg': 0,\n",
       " 'Bayern Munich': 1,\n",
       " 'Dortmund': 2,\n",
       " 'Düsseldorf': 3,\n",
       " 'Eint Frankfurt': 4,\n",
       " 'Freiburg': 5,\n",
       " 'Hamburger SV': 6,\n",
       " 'Hannover 96': 7,\n",
       " 'Hertha BSC': 8,\n",
       " 'Hoffenheim': 9,\n",
       " 'Köln': 10,\n",
       " 'Leverkusen': 11,\n",
       " \"M'gladbach\": 12,\n",
       " 'Mainz 05': 13,\n",
       " 'Nürnberg': 14,\n",
       " 'Paderborn 07': 15,\n",
       " 'RB Leipzig': 16,\n",
       " 'Schalke 04': 17,\n",
       " 'Stuttgart': 18,\n",
       " 'Union Berlin': 19,\n",
       " 'Werder Bremen': 20,\n",
       " 'Wolfsburg': 21}"
      ]
     },
     "execution_count": 19,
     "metadata": {},
     "output_type": "execute_result"
    }
   ],
   "source": [
    "t_dict"
   ]
  },
  {
   "cell_type": "code",
   "execution_count": 20,
   "metadata": {},
   "outputs": [
    {
     "name": "stderr",
     "output_type": "stream",
     "text": [
      "C:\\Users\\Admin\\AppData\\Local\\Programs\\Python\\Python37-32\\lib\\site-packages\\ipykernel_launcher.py:1: SettingWithCopyWarning: \n",
      "A value is trying to be set on a copy of a slice from a DataFrame.\n",
      "Try using .loc[row_indexer,col_indexer] = value instead\n",
      "\n",
      "See the caveats in the documentation: http://pandas.pydata.org/pandas-docs/stable/user_guide/indexing.html#returning-a-view-versus-a-copy\n",
      "  \"\"\"Entry point for launching an IPython kernel.\n"
     ]
    }
   ],
   "source": [
    "data_scores[\"Home\"] = data_scores[\"Home\"].apply(lambda x: t_dict[x])"
   ]
  },
  {
   "cell_type": "code",
   "execution_count": 21,
   "metadata": {},
   "outputs": [
    {
     "name": "stderr",
     "output_type": "stream",
     "text": [
      "C:\\Users\\Admin\\AppData\\Local\\Programs\\Python\\Python37-32\\lib\\site-packages\\ipykernel_launcher.py:1: SettingWithCopyWarning: \n",
      "A value is trying to be set on a copy of a slice from a DataFrame.\n",
      "Try using .loc[row_indexer,col_indexer] = value instead\n",
      "\n",
      "See the caveats in the documentation: http://pandas.pydata.org/pandas-docs/stable/user_guide/indexing.html#returning-a-view-versus-a-copy\n",
      "  \"\"\"Entry point for launching an IPython kernel.\n"
     ]
    }
   ],
   "source": [
    "data_scores[\"Away\"] = data_scores[\"Away\"].apply(lambda x: t_dict[x])"
   ]
  },
  {
   "cell_type": "code",
   "execution_count": 22,
   "metadata": {},
   "outputs": [
    {
     "data": {
      "text/html": [
       "<div>\n",
       "<style scoped>\n",
       "    .dataframe tbody tr th:only-of-type {\n",
       "        vertical-align: middle;\n",
       "    }\n",
       "\n",
       "    .dataframe tbody tr th {\n",
       "        vertical-align: top;\n",
       "    }\n",
       "\n",
       "    .dataframe thead th {\n",
       "        text-align: right;\n",
       "    }\n",
       "</style>\n",
       "<table border=\"1\" class=\"dataframe\">\n",
       "  <thead>\n",
       "    <tr style=\"text-align: right;\">\n",
       "      <th></th>\n",
       "      <th>Home</th>\n",
       "      <th>xG</th>\n",
       "      <th>Away</th>\n",
       "      <th>xG.1</th>\n",
       "      <th>Score</th>\n",
       "    </tr>\n",
       "  </thead>\n",
       "  <tbody>\n",
       "    <tr>\n",
       "      <th>0</th>\n",
       "      <td>1</td>\n",
       "      <td>2.7</td>\n",
       "      <td>8</td>\n",
       "      <td>0.9</td>\n",
       "      <td>0</td>\n",
       "    </tr>\n",
       "    <tr>\n",
       "      <th>1</th>\n",
       "      <td>11</td>\n",
       "      <td>2.7</td>\n",
       "      <td>15</td>\n",
       "      <td>1.2</td>\n",
       "      <td>1</td>\n",
       "    </tr>\n",
       "    <tr>\n",
       "      <th>2</th>\n",
       "      <td>5</td>\n",
       "      <td>2.1</td>\n",
       "      <td>13</td>\n",
       "      <td>0.9</td>\n",
       "      <td>1</td>\n",
       "    </tr>\n",
       "    <tr>\n",
       "      <th>3</th>\n",
       "      <td>21</td>\n",
       "      <td>0.8</td>\n",
       "      <td>10</td>\n",
       "      <td>1.0</td>\n",
       "      <td>1</td>\n",
       "    </tr>\n",
       "    <tr>\n",
       "      <th>4</th>\n",
       "      <td>20</td>\n",
       "      <td>2.4</td>\n",
       "      <td>3</td>\n",
       "      <td>0.9</td>\n",
       "      <td>2</td>\n",
       "    </tr>\n",
       "    <tr>\n",
       "      <th>...</th>\n",
       "      <td>...</td>\n",
       "      <td>...</td>\n",
       "      <td>...</td>\n",
       "      <td>...</td>\n",
       "      <td>...</td>\n",
       "    </tr>\n",
       "    <tr>\n",
       "      <th>673</th>\n",
       "      <td>21</td>\n",
       "      <td>3.1</td>\n",
       "      <td>10</td>\n",
       "      <td>0.8</td>\n",
       "      <td>1</td>\n",
       "    </tr>\n",
       "    <tr>\n",
       "      <th>674</th>\n",
       "      <td>8</td>\n",
       "      <td>1.1</td>\n",
       "      <td>16</td>\n",
       "      <td>1.6</td>\n",
       "      <td>2</td>\n",
       "    </tr>\n",
       "    <tr>\n",
       "      <th>675</th>\n",
       "      <td>1</td>\n",
       "      <td>2.7</td>\n",
       "      <td>18</td>\n",
       "      <td>2.4</td>\n",
       "      <td>2</td>\n",
       "    </tr>\n",
       "    <tr>\n",
       "      <th>676</th>\n",
       "      <td>13</td>\n",
       "      <td>0.9</td>\n",
       "      <td>20</td>\n",
       "      <td>1.1</td>\n",
       "      <td>2</td>\n",
       "    </tr>\n",
       "    <tr>\n",
       "      <th>677</th>\n",
       "      <td>11</td>\n",
       "      <td>4.5</td>\n",
       "      <td>7</td>\n",
       "      <td>2.1</td>\n",
       "      <td>1</td>\n",
       "    </tr>\n",
       "  </tbody>\n",
       "</table>\n",
       "<p>918 rows × 5 columns</p>\n",
       "</div>"
      ],
      "text/plain": [
       "     Home   xG  Away  xG.1  Score\n",
       "0       1  2.7     8   0.9      0\n",
       "1      11  2.7    15   1.2      1\n",
       "2       5  2.1    13   0.9      1\n",
       "3      21  0.8    10   1.0      1\n",
       "4      20  2.4     3   0.9      2\n",
       "..    ...  ...   ...   ...    ...\n",
       "673    21  3.1    10   0.8      1\n",
       "674     8  1.1    16   1.6      2\n",
       "675     1  2.7    18   2.4      2\n",
       "676    13  0.9    20   1.1      2\n",
       "677    11  4.5     7   2.1      1\n",
       "\n",
       "[918 rows x 5 columns]"
      ]
     },
     "execution_count": 22,
     "metadata": {},
     "output_type": "execute_result"
    }
   ],
   "source": [
    "data_scores"
   ]
  },
  {
   "cell_type": "code",
   "execution_count": 23,
   "metadata": {},
   "outputs": [],
   "source": [
    "from sklearn.model_selection import train_test_split as tts"
   ]
  },
  {
   "cell_type": "code",
   "execution_count": 24,
   "metadata": {},
   "outputs": [],
   "source": [
    "X = data_scores[[\"Home\",\"Away\",\"xG\",\"xG.1\"]]\n",
    "y = data_scores[\"Score\"]"
   ]
  },
  {
   "cell_type": "code",
   "execution_count": 25,
   "metadata": {},
   "outputs": [],
   "source": [
    "X_train, X_test, y_train, y_test = tts(X, y, test_size=0.25, random_state=42)"
   ]
  },
  {
   "cell_type": "code",
   "execution_count": 26,
   "metadata": {},
   "outputs": [
    {
     "name": "stdout",
     "output_type": "stream",
     "text": [
      "230\n"
     ]
    },
    {
     "data": {
      "text/plain": [
       "230"
      ]
     },
     "execution_count": 26,
     "metadata": {},
     "output_type": "execute_result"
    }
   ],
   "source": [
    "print(len(X_test))\n",
    "len(y_test)"
   ]
  },
  {
   "cell_type": "markdown",
   "metadata": {},
   "source": [
    "Lets also create a small validation set of 20 instances"
   ]
  },
  {
   "cell_type": "code",
   "execution_count": 27,
   "metadata": {},
   "outputs": [],
   "source": [
    "X_val = X_test[210:]\n",
    "X_test = X_test[:210]\n",
    "\n",
    "y_val = y_test[210:]\n",
    "y_test = y_test[:210]"
   ]
  },
  {
   "cell_type": "code",
   "execution_count": 28,
   "metadata": {},
   "outputs": [
    {
     "data": {
      "text/plain": [
       "210"
      ]
     },
     "execution_count": 28,
     "metadata": {},
     "output_type": "execute_result"
    }
   ],
   "source": [
    "len(X_test)"
   ]
  },
  {
   "cell_type": "code",
   "execution_count": 29,
   "metadata": {},
   "outputs": [],
   "source": [
    "from sklearn.ensemble import RandomForestClassifier"
   ]
  },
  {
   "cell_type": "code",
   "execution_count": 30,
   "metadata": {},
   "outputs": [],
   "source": [
    "rand_for = RandomForestClassifier()"
   ]
  },
  {
   "cell_type": "markdown",
   "metadata": {},
   "source": [
    "Lets use some param search to get the best hyperparameters. Because earlier the model was overfitting badly maybe we can regularize it a little"
   ]
  },
  {
   "cell_type": "code",
   "execution_count": 31,
   "metadata": {},
   "outputs": [],
   "source": [
    "from sklearn.model_selection import RandomizedSearchCV"
   ]
  },
  {
   "cell_type": "code",
   "execution_count": 32,
   "metadata": {},
   "outputs": [],
   "source": [
    "param = [\n",
    "    {\"n_estimators\":[100,105,110,120,130], \"max_depth\":[5,10,12,15,20],\"max_leaf_nodes\":[2,3,6,10,50],\n",
    "     \"min_samples_leaf\":[1,5,10,20], \"min_samples_split\":[8,10,12]}\n",
    "]\n",
    "grid_search = RandomizedSearchCV(rand_for,cv=5,param_distributions=param,\n",
    "                                 scoring=\"neg_mean_squared_error\", return_train_score=True)"
   ]
  },
  {
   "cell_type": "code",
   "execution_count": 33,
   "metadata": {},
   "outputs": [],
   "source": [
    "best_attr = grid_search.fit(X_train,y_train)"
   ]
  },
  {
   "cell_type": "code",
   "execution_count": 34,
   "metadata": {},
   "outputs": [
    {
     "data": {
      "text/plain": [
       "{'n_estimators': 120,\n",
       " 'min_samples_split': 10,\n",
       " 'min_samples_leaf': 10,\n",
       " 'max_leaf_nodes': 2,\n",
       " 'max_depth': 20}"
      ]
     },
     "execution_count": 34,
     "metadata": {},
     "output_type": "execute_result"
    }
   ],
   "source": [
    "best_attr.best_params_"
   ]
  },
  {
   "cell_type": "code",
   "execution_count": 35,
   "metadata": {},
   "outputs": [
    {
     "data": {
      "text/plain": [
       "RandomizedSearchCV(cv=5, error_score=nan,\n",
       "                   estimator=RandomForestClassifier(bootstrap=True,\n",
       "                                                    ccp_alpha=0.0,\n",
       "                                                    class_weight=None,\n",
       "                                                    criterion='gini',\n",
       "                                                    max_depth=None,\n",
       "                                                    max_features='auto',\n",
       "                                                    max_leaf_nodes=None,\n",
       "                                                    max_samples=None,\n",
       "                                                    min_impurity_decrease=0.0,\n",
       "                                                    min_impurity_split=None,\n",
       "                                                    min_samples_leaf=1,\n",
       "                                                    min_samples_split=2,\n",
       "                                                    min_weight_fraction_leaf=0.0,\n",
       "                                                    n_estimators=100,\n",
       "                                                    n_jobs...\n",
       "                                                    warm_start=False),\n",
       "                   iid='deprecated', n_iter=10, n_jobs=None,\n",
       "                   param_distributions=[{'max_depth': [5, 10, 12, 15, 20],\n",
       "                                         'max_leaf_nodes': [2, 3, 6, 10, 50],\n",
       "                                         'min_samples_leaf': [1, 5, 10, 20],\n",
       "                                         'min_samples_split': [8, 10, 12],\n",
       "                                         'n_estimators': [100, 105, 110, 120,\n",
       "                                                          130]}],\n",
       "                   pre_dispatch='2*n_jobs', random_state=None, refit=True,\n",
       "                   return_train_score=True, scoring='neg_mean_squared_error',\n",
       "                   verbose=0)"
      ]
     },
     "execution_count": 35,
     "metadata": {},
     "output_type": "execute_result"
    }
   ],
   "source": [
    "best_attr.fit(X_train,y_train)"
   ]
  },
  {
   "cell_type": "markdown",
   "metadata": {},
   "source": [
    "It looks like the algorithm never predicts a draw which is odd"
   ]
  },
  {
   "cell_type": "code",
   "execution_count": 36,
   "metadata": {},
   "outputs": [
    {
     "data": {
      "text/plain": [
       "array([0, 1, 2], dtype=int64)"
      ]
     },
     "execution_count": 36,
     "metadata": {},
     "output_type": "execute_result"
    }
   ],
   "source": [
    "best_attr.classes_"
   ]
  },
  {
   "cell_type": "code",
   "execution_count": 37,
   "metadata": {},
   "outputs": [
    {
     "data": {
      "text/plain": [
       "array([1, 2, 1, 1, 1, 1, 1, 1, 1, 1, 1, 1, 1, 1, 2, 1, 2, 1, 1, 1, 1, 1,\n",
       "       1, 2, 1, 2, 2, 1, 1, 2, 1, 1, 1, 2, 1, 1, 1, 1, 1, 1, 2, 1, 1, 2,\n",
       "       1, 1, 1, 2, 2, 1, 1, 1, 1, 1, 1, 2, 2, 2, 2, 2, 1, 2, 1, 2, 2, 1,\n",
       "       1, 2, 1, 1, 1, 2, 2, 2, 1, 1, 2, 1, 1, 2, 1, 1, 2, 1, 1, 1, 1, 1,\n",
       "       2, 1, 2, 1, 2, 2, 2, 2, 1, 2, 1, 1, 1, 2, 1, 1, 1, 1, 1, 2, 1, 2,\n",
       "       1, 1, 1, 1, 2, 2, 2, 1, 1, 1, 1, 1, 1, 2, 1, 2, 1, 1, 1, 1, 1, 1,\n",
       "       1, 1, 2, 1, 1, 1, 2, 1, 2, 1, 1, 2, 1, 1, 2, 1, 1, 1, 1, 1, 2, 1,\n",
       "       1, 1, 1, 1, 1, 1, 2, 2, 1, 1, 2, 1, 1, 2, 1, 1, 1, 1, 1, 1, 1, 1,\n",
       "       1, 1, 1, 2, 1, 1, 1, 2, 1, 1, 2, 1, 1, 1, 1, 2, 1, 2, 2, 2, 2, 2,\n",
       "       1, 1, 2, 1, 2, 1, 1, 1, 2, 2, 1, 1, 1, 2, 2, 1, 1, 2, 1, 1, 2, 2,\n",
       "       1, 1, 1, 2, 1, 1, 1, 1, 1, 1, 1, 1, 2, 1, 1, 1, 1, 1, 1, 1, 1, 2,\n",
       "       1, 2, 1, 1, 1, 1, 2, 2, 1, 1, 1, 1, 1, 1, 1, 1, 1, 2, 2, 1, 1, 1,\n",
       "       2, 1, 1, 2, 1, 1, 1, 2, 2, 1, 2, 1, 2, 1, 2, 1, 1, 2, 1, 1, 1, 1,\n",
       "       2, 1, 1, 2, 1, 1, 1, 1, 1, 1, 1, 2, 1, 2, 1, 1, 2, 1, 1, 1, 1, 1,\n",
       "       1, 1, 1, 1, 2, 1, 1, 1, 1, 2, 2, 1, 2, 1, 1, 1, 1, 1, 1, 1, 1, 1,\n",
       "       1, 1, 1, 1, 1, 1, 2, 2, 2, 1, 1, 1, 1, 1, 1, 1, 1, 2, 1, 1, 1, 1,\n",
       "       2, 1, 1, 1, 1, 1, 1, 2, 1, 2, 2, 1, 2, 1, 2, 2, 1, 2, 2, 1, 2, 2,\n",
       "       1, 1, 2, 1, 1, 2, 1, 1, 1, 2, 2, 1, 1, 1, 1, 2, 2, 1, 1, 2, 1, 1,\n",
       "       2, 1, 2, 1, 1, 1, 1, 1, 1, 2, 1, 2, 1, 2, 1, 1, 1, 1, 2, 2, 2, 2,\n",
       "       1, 1, 1, 1, 2, 1, 1, 1, 1, 1, 2, 1, 1, 1, 1, 2, 1, 2, 1, 2, 1, 2,\n",
       "       1, 2, 2, 1, 2, 1, 1, 1, 2, 1, 1, 1, 1, 1, 1, 1, 1, 1, 2, 1, 2, 1,\n",
       "       2, 1, 1, 1, 1, 1, 1, 1, 2, 1, 1, 2, 1, 1, 1, 2, 1, 1, 1, 1, 2, 1,\n",
       "       2, 1, 1, 1, 1, 2, 1, 1, 1, 1, 1, 1, 1, 1, 1, 2, 2, 1, 1, 2, 2, 1,\n",
       "       1, 1, 1, 1, 1, 1, 2, 1, 1, 1, 1, 1, 1, 1, 1, 1, 2, 1, 1, 1, 1, 1,\n",
       "       1, 2, 1, 2, 1, 1, 1, 1, 1, 1, 2, 1, 1, 2, 1, 1, 2, 1, 1, 2, 1, 1,\n",
       "       2, 1, 2, 1, 1, 1, 2, 1, 1, 2, 1, 1, 1, 2, 1, 1, 1, 1, 2, 1, 1, 2,\n",
       "       2, 1, 2, 1, 1, 1, 1, 1, 1, 2, 1, 2, 1, 1, 2, 1, 1, 1, 1, 2, 2, 1,\n",
       "       1, 1, 2, 1, 1, 1, 1, 2, 1, 1, 1, 2, 2, 1, 1, 1, 1, 1, 1, 2, 1, 1,\n",
       "       1, 2, 1, 2, 1, 1, 2, 1, 2, 1, 1, 2, 2, 2, 2, 1, 1, 1, 1, 1, 1, 2,\n",
       "       1, 1, 1, 1, 2, 1, 1, 1, 1, 2, 1, 1, 2, 1, 1, 2, 1, 1, 2, 2, 1, 1,\n",
       "       1, 1, 1, 1, 1, 1, 1, 1, 1, 1, 1, 1, 1, 1, 1, 2, 2, 2, 1, 2, 1, 2,\n",
       "       1, 1, 1, 1, 1, 2], dtype=int64)"
      ]
     },
     "execution_count": 37,
     "metadata": {},
     "output_type": "execute_result"
    }
   ],
   "source": [
    "train_pred = best_attr.predict(X_train)\n",
    "train_pred"
   ]
  },
  {
   "cell_type": "code",
   "execution_count": 38,
   "metadata": {},
   "outputs": [
    {
     "data": {
      "text/plain": [
       "array([1, 2, 1, 2, 2, 1, 1, 2, 1, 1, 0, 1, 1, 1, 2, 1, 1, 2, 2, 1, 1, 0,\n",
       "       1, 1, 1, 2, 2, 1, 2, 2, 2, 1, 1, 0, 0, 2, 0, 0, 1, 1, 1, 1, 1, 2,\n",
       "       1, 1, 1, 2, 2, 1, 1, 1, 1, 1, 1, 2, 2, 2, 2, 2, 0, 0, 1, 0, 2, 1,\n",
       "       1, 2, 1, 1, 1, 0, 2, 0, 2, 2, 2, 0, 0, 0, 0, 0, 2, 2, 1, 1, 2, 2,\n",
       "       2, 1, 2, 1, 2, 2, 2, 2, 1, 2, 0, 1, 1, 2, 1, 2, 0, 1, 0, 0, 1, 1,\n",
       "       0, 1, 1, 1, 2, 2, 2, 0, 0, 2, 1, 2, 1, 2, 2, 2, 0, 1, 0, 1, 2, 0,\n",
       "       1, 1, 1, 0, 1, 2, 2, 0, 1, 1, 1, 1, 1, 2, 0, 0, 1, 1, 1, 2, 2, 2,\n",
       "       1, 2, 1, 1, 0, 1, 0, 2, 0, 0, 0, 1, 1, 1, 1, 1, 0, 0, 1, 2, 1, 1,\n",
       "       0, 1, 1, 2, 1, 1, 1, 2, 0, 0, 2, 1, 1, 1, 2, 2, 1, 2, 0, 2, 0, 2,\n",
       "       1, 1, 2, 1, 2, 1, 1, 1, 2, 2, 0, 1, 1, 1, 2, 1, 2, 2, 1, 1, 0, 0,\n",
       "       1, 1, 0, 0, 1, 2, 1, 0, 1, 2, 1, 0, 2, 1, 2, 0, 1, 2, 1, 1, 0, 2,\n",
       "       1, 0, 1, 0, 1, 2, 2, 1, 1, 2, 0, 2, 1, 2, 0, 2, 0, 0, 2, 0, 2, 1,\n",
       "       1, 1, 1, 0, 0, 1, 0, 1, 2, 1, 1, 1, 2, 0, 2, 0, 1, 1, 2, 1, 2, 1,\n",
       "       2, 0, 1, 2, 0, 2, 1, 1, 1, 2, 1, 2, 0, 2, 1, 1, 0, 1, 1, 0, 2, 0,\n",
       "       2, 1, 1, 1, 2, 0, 1, 1, 0, 2, 2, 0, 2, 1, 0, 2, 1, 1, 2, 2, 2, 1,\n",
       "       1, 0, 1, 0, 1, 1, 2, 1, 2, 1, 2, 0, 0, 1, 1, 2, 1, 2, 1, 1, 0, 1,\n",
       "       0, 2, 1, 2, 1, 1, 0, 2, 1, 2, 2, 1, 2, 1, 0, 2, 1, 2, 0, 1, 2, 0,\n",
       "       1, 1, 0, 1, 1, 2, 1, 0, 1, 2, 2, 2, 0, 1, 1, 2, 1, 1, 2, 2, 0, 0,\n",
       "       2, 2, 1, 2, 1, 1, 1, 2, 0, 2, 0, 2, 1, 2, 2, 0, 0, 2, 2, 2, 0, 0,\n",
       "       0, 1, 2, 2, 1, 1, 2, 1, 1, 1, 2, 1, 1, 1, 1, 2, 1, 2, 1, 1, 0, 2,\n",
       "       1, 0, 2, 2, 2, 1, 0, 1, 0, 0, 2, 0, 2, 2, 2, 2, 0, 1, 2, 2, 0, 1,\n",
       "       2, 1, 1, 1, 0, 0, 2, 2, 1, 0, 0, 0, 0, 1, 0, 2, 1, 1, 0, 1, 2, 1,\n",
       "       2, 1, 0, 1, 0, 0, 0, 2, 0, 1, 1, 1, 1, 1, 1, 0, 0, 0, 0, 0, 2, 0,\n",
       "       1, 1, 2, 1, 1, 1, 2, 1, 1, 0, 1, 0, 1, 0, 1, 1, 2, 0, 0, 0, 2, 2,\n",
       "       1, 0, 2, 2, 1, 1, 2, 1, 0, 1, 2, 1, 1, 2, 1, 1, 2, 2, 1, 2, 1, 2,\n",
       "       2, 1, 0, 2, 0, 0, 1, 1, 1, 2, 2, 1, 0, 2, 1, 0, 1, 1, 0, 0, 1, 0,\n",
       "       2, 2, 0, 1, 0, 0, 0, 0, 2, 2, 2, 2, 1, 2, 2, 1, 2, 1, 2, 2, 2, 1,\n",
       "       0, 0, 2, 1, 0, 2, 1, 2, 1, 1, 1, 2, 2, 1, 0, 1, 1, 2, 2, 2, 2, 1,\n",
       "       2, 0, 0, 2, 1, 2, 1, 0, 1, 0, 1, 2, 2, 2, 2, 1, 1, 1, 1, 1, 0, 1,\n",
       "       0, 2, 1, 0, 2, 0, 1, 1, 2, 2, 2, 0, 2, 1, 0, 2, 0, 1, 2, 2, 1, 2,\n",
       "       0, 1, 1, 1, 0, 1, 0, 0, 1, 1, 0, 0, 0, 1, 0, 1, 2, 2, 1, 1, 0, 2,\n",
       "       1, 1, 2, 1, 1, 2], dtype=int64)"
      ]
     },
     "execution_count": 38,
     "metadata": {},
     "output_type": "execute_result"
    }
   ],
   "source": [
    "np.array(y_train)"
   ]
  },
  {
   "cell_type": "code",
   "execution_count": 39,
   "metadata": {},
   "outputs": [],
   "source": [
    "from sklearn.metrics import accuracy_score"
   ]
  },
  {
   "cell_type": "code",
   "execution_count": 40,
   "metadata": {},
   "outputs": [
    {
     "data": {
      "text/plain": [
       "0.5799418604651163"
      ]
     },
     "execution_count": 40,
     "metadata": {},
     "output_type": "execute_result"
    }
   ],
   "source": [
    "accuracy_score(np.array(y_train),train_pred)"
   ]
  },
  {
   "cell_type": "code",
   "execution_count": 41,
   "metadata": {},
   "outputs": [],
   "source": [
    "test_pred = best_attr.predict(X_test)"
   ]
  },
  {
   "cell_type": "markdown",
   "metadata": {},
   "source": [
    "After having tweaked many different hyperparameters it looks like the algorithm cant get a prediction higher than 57.7 I assume that thats because it just predict the matchups the same when they play twice against each other"
   ]
  },
  {
   "cell_type": "code",
   "execution_count": 42,
   "metadata": {},
   "outputs": [
    {
     "data": {
      "text/plain": [
       "0.5428571428571428"
      ]
     },
     "execution_count": 42,
     "metadata": {},
     "output_type": "execute_result"
    }
   ],
   "source": [
    "accuracy_score(np.array(y_test),test_pred)"
   ]
  },
  {
   "cell_type": "markdown",
   "metadata": {},
   "source": [
    "##### Lets try another algorithm"
   ]
  },
  {
   "cell_type": "code",
   "execution_count": 43,
   "metadata": {},
   "outputs": [],
   "source": [
    "from sklearn.svm import LinearSVC"
   ]
  },
  {
   "cell_type": "code",
   "execution_count": 44,
   "metadata": {},
   "outputs": [],
   "source": [
    "svm = LinearSVC(loss=\"hinge\")"
   ]
  },
  {
   "cell_type": "code",
   "execution_count": 45,
   "metadata": {},
   "outputs": [
    {
     "name": "stderr",
     "output_type": "stream",
     "text": [
      "C:\\Users\\Admin\\AppData\\Local\\Programs\\Python\\Python37-32\\lib\\site-packages\\sklearn\\svm\\_base.py:947: ConvergenceWarning: Liblinear failed to converge, increase the number of iterations.\n",
      "  \"the number of iterations.\", ConvergenceWarning)\n"
     ]
    },
    {
     "data": {
      "text/plain": [
       "LinearSVC(C=1.0, class_weight=None, dual=True, fit_intercept=True,\n",
       "          intercept_scaling=1, loss='hinge', max_iter=1000, multi_class='ovr',\n",
       "          penalty='l2', random_state=None, tol=0.0001, verbose=0)"
      ]
     },
     "execution_count": 45,
     "metadata": {},
     "output_type": "execute_result"
    }
   ],
   "source": [
    "svm.fit(X_train,y_train)"
   ]
  },
  {
   "cell_type": "code",
   "execution_count": 46,
   "metadata": {},
   "outputs": [],
   "source": [
    "svm_train_pred = svm.predict(X_train)"
   ]
  },
  {
   "cell_type": "code",
   "execution_count": 47,
   "metadata": {},
   "outputs": [
    {
     "data": {
      "text/plain": [
       "array([2, 2, 1, 1, 1, 1, 1, 1, 2, 1, 1, 1, 2, 1, 2, 1, 2, 1, 1, 1, 1, 1,\n",
       "       1, 2, 1, 2, 2, 2, 1, 2, 2, 1, 1, 2, 1, 1, 1, 1, 1, 1, 2, 1, 1, 2,\n",
       "       1, 1, 1, 2, 2, 1, 1, 1, 1, 1, 2, 2, 2, 2, 2, 2, 1, 2, 2, 2, 2, 1,\n",
       "       1, 2, 1, 1, 2, 2, 2, 2, 2, 1, 2, 2, 1, 2, 1, 1, 2, 1, 1, 1, 2, 1,\n",
       "       2, 1, 2, 1, 2, 2, 2, 2, 2, 2, 2, 1, 2, 2, 1, 1, 1, 1, 1, 2, 1, 2,\n",
       "       1, 2, 1, 1, 2, 2, 1, 1, 1, 1, 1, 2, 1, 2, 1, 2, 1, 1, 1, 2, 2, 1,\n",
       "       1, 1, 2, 1, 1, 1, 2, 1, 2, 1, 2, 2, 2, 1, 2, 2, 1, 1, 1, 1, 2, 1,\n",
       "       1, 2, 1, 1, 2, 1, 2, 2, 1, 1, 2, 1, 1, 2, 1, 2, 2, 1, 1, 1, 1, 1,\n",
       "       1, 1, 1, 2, 1, 1, 1, 2, 1, 2, 2, 2, 1, 1, 1, 2, 1, 2, 2, 2, 2, 2,\n",
       "       1, 1, 2, 2, 2, 1, 1, 1, 2, 2, 1, 1, 1, 2, 2, 1, 1, 1, 1, 1, 2, 2,\n",
       "       1, 1, 1, 2, 1, 2, 1, 1, 1, 1, 1, 1, 2, 1, 1, 1, 1, 2, 1, 2, 1, 2,\n",
       "       1, 2, 1, 1, 1, 1, 2, 2, 1, 2, 1, 1, 1, 2, 1, 1, 1, 2, 2, 2, 1, 1,\n",
       "       2, 1, 1, 2, 1, 1, 1, 2, 2, 1, 2, 1, 2, 2, 2, 1, 1, 2, 2, 1, 1, 1,\n",
       "       2, 1, 1, 2, 1, 2, 1, 1, 1, 2, 1, 2, 1, 2, 1, 1, 2, 1, 1, 1, 1, 1,\n",
       "       1, 1, 1, 1, 2, 2, 2, 1, 1, 2, 2, 2, 2, 2, 1, 1, 1, 1, 2, 1, 1, 1,\n",
       "       1, 1, 1, 1, 1, 1, 2, 2, 2, 2, 2, 1, 2, 1, 1, 1, 1, 2, 1, 1, 1, 1,\n",
       "       2, 1, 1, 2, 2, 1, 1, 2, 1, 2, 2, 1, 2, 1, 1, 2, 1, 2, 2, 1, 2, 2,\n",
       "       1, 1, 2, 1, 1, 2, 1, 2, 1, 2, 2, 1, 2, 1, 1, 2, 2, 1, 1, 2, 1, 1,\n",
       "       2, 1, 1, 1, 1, 1, 1, 2, 1, 2, 1, 2, 1, 2, 1, 2, 2, 1, 2, 2, 2, 2,\n",
       "       2, 1, 1, 1, 2, 1, 1, 1, 1, 1, 2, 1, 1, 1, 1, 2, 1, 2, 1, 2, 1, 2,\n",
       "       1, 2, 2, 1, 2, 1, 2, 1, 2, 2, 1, 1, 1, 1, 2, 1, 1, 1, 2, 2, 2, 1,\n",
       "       2, 1, 1, 1, 1, 1, 2, 2, 2, 1, 2, 2, 1, 1, 1, 2, 1, 1, 1, 1, 2, 1,\n",
       "       2, 1, 1, 2, 1, 2, 1, 2, 1, 1, 1, 1, 1, 1, 1, 2, 2, 1, 2, 2, 2, 2,\n",
       "       1, 1, 1, 1, 1, 1, 2, 2, 1, 1, 1, 1, 2, 1, 1, 2, 2, 1, 1, 1, 1, 1,\n",
       "       1, 2, 2, 2, 1, 1, 1, 1, 1, 1, 2, 1, 1, 2, 2, 1, 2, 2, 1, 2, 2, 2,\n",
       "       2, 1, 2, 1, 1, 1, 2, 1, 2, 2, 2, 1, 1, 2, 1, 1, 1, 1, 2, 2, 1, 2,\n",
       "       2, 1, 1, 1, 1, 1, 2, 2, 1, 2, 1, 2, 1, 2, 2, 1, 1, 1, 2, 2, 2, 1,\n",
       "       1, 1, 2, 1, 1, 1, 1, 2, 1, 1, 1, 2, 2, 1, 1, 1, 1, 1, 1, 2, 1, 1,\n",
       "       2, 2, 2, 2, 1, 2, 1, 1, 2, 1, 1, 2, 2, 2, 2, 1, 1, 1, 1, 1, 1, 2,\n",
       "       1, 2, 1, 2, 2, 2, 1, 1, 1, 2, 1, 1, 2, 1, 1, 2, 1, 1, 2, 2, 1, 1,\n",
       "       1, 1, 1, 1, 1, 1, 1, 2, 1, 1, 1, 1, 1, 1, 1, 2, 2, 2, 1, 2, 2, 2,\n",
       "       1, 1, 2, 1, 1, 2], dtype=int64)"
      ]
     },
     "execution_count": 47,
     "metadata": {},
     "output_type": "execute_result"
    }
   ],
   "source": [
    "svm_train_pred"
   ]
  },
  {
   "cell_type": "code",
   "execution_count": 48,
   "metadata": {},
   "outputs": [
    {
     "data": {
      "text/plain": [
       "0.5857558139534884"
      ]
     },
     "execution_count": 48,
     "metadata": {},
     "output_type": "execute_result"
    }
   ],
   "source": [
    "accuracy_score(y_train,svm_train_pred)"
   ]
  },
  {
   "cell_type": "code",
   "execution_count": 49,
   "metadata": {},
   "outputs": [],
   "source": [
    "svm_test_pred = svm.predict(X_test)"
   ]
  },
  {
   "cell_type": "code",
   "execution_count": 50,
   "metadata": {},
   "outputs": [
    {
     "data": {
      "text/plain": [
       "0.5904761904761905"
      ]
     },
     "execution_count": 50,
     "metadata": {},
     "output_type": "execute_result"
    }
   ],
   "source": [
    "accuracy_score(y_test,svm_test_pred)"
   ]
  },
  {
   "cell_type": "markdown",
   "metadata": {},
   "source": [
    "Lets check the accuracy on our validation set"
   ]
  },
  {
   "cell_type": "code",
   "execution_count": 51,
   "metadata": {},
   "outputs": [
    {
     "data": {
      "text/plain": [
       "20"
      ]
     },
     "execution_count": 51,
     "metadata": {},
     "output_type": "execute_result"
    }
   ],
   "source": [
    "len(X_val)"
   ]
  },
  {
   "cell_type": "code",
   "execution_count": 52,
   "metadata": {},
   "outputs": [],
   "source": [
    "svm_val_predict = svm.predict(X_val)"
   ]
  },
  {
   "cell_type": "code",
   "execution_count": 53,
   "metadata": {},
   "outputs": [
    {
     "data": {
      "text/plain": [
       "0.6"
      ]
     },
     "execution_count": 53,
     "metadata": {},
     "output_type": "execute_result"
    }
   ],
   "source": [
    "accuracy_score(y_val,svm_val_predict)"
   ]
  },
  {
   "cell_type": "markdown",
   "metadata": {},
   "source": [
    "And lets try the random forest"
   ]
  },
  {
   "cell_type": "code",
   "execution_count": 54,
   "metadata": {},
   "outputs": [],
   "source": [
    "rand_for_predict = best_attr.predict(X_val)"
   ]
  },
  {
   "cell_type": "code",
   "execution_count": 55,
   "metadata": {},
   "outputs": [
    {
     "data": {
      "text/plain": [
       "0.7"
      ]
     },
     "execution_count": 55,
     "metadata": {},
     "output_type": "execute_result"
    }
   ],
   "source": [
    "accuracy_score(y_val,rand_for_predict)"
   ]
  },
  {
   "cell_type": "code",
   "execution_count": 56,
   "metadata": {},
   "outputs": [
    {
     "data": {
      "text/plain": [
       "array([1, 2, 1, 1, 1, 1, 1, 2, 2, 1, 1, 1, 1, 1, 2, 2, 1, 1, 1, 1],\n",
       "      dtype=int64)"
      ]
     },
     "execution_count": 56,
     "metadata": {},
     "output_type": "execute_result"
    }
   ],
   "source": [
    "rand_for_predict"
   ]
  },
  {
   "cell_type": "markdown",
   "metadata": {},
   "source": [
    "This actually isn't half bad I just don't understand why the model won't predict draws. Its a multiclass model and draws arent that rare in the data"
   ]
  },
  {
   "cell_type": "code",
   "execution_count": 57,
   "metadata": {},
   "outputs": [
    {
     "data": {
      "text/plain": [
       "array([0, 1, 2], dtype=int64)"
      ]
     },
     "execution_count": 57,
     "metadata": {},
     "output_type": "execute_result"
    }
   ],
   "source": [
    "svm.classes_"
   ]
  },
  {
   "cell_type": "markdown",
   "metadata": {},
   "source": [
    "I tried to plot the data but when I changed and used multiple seasons this of course made not much sense. Because its all randomized now so the same fixtures can appear multiple times and are overlapping. Nonetheless I like how the plot looks and don't just want to delete it becaue it took a little to figure it out"
   ]
  },
  {
   "cell_type": "code",
   "execution_count": 58,
   "metadata": {},
   "outputs": [
    {
     "data": {
      "text/plain": [
       "<matplotlib.legend.Legend at 0x10165870>"
      ]
     },
     "execution_count": 58,
     "metadata": {},
     "output_type": "execute_result"
    },
    {
     "data": {
      "image/png": "[encoded data removed]",
      "text/plain": [
       "<Figure size 792x360 with 1 Axes>"
      ]
     },
     "metadata": {},
     "output_type": "display_data"
    }
   ],
   "source": [
    "plt.figure(figsize=(11, 5))\n",
    "\n",
    "plt.scatter(x=data_scores.iloc[:,0][data_scores[\"Score\"]==0],y=data_scores.iloc[:,2][data_scores[\"Score\"]==0],color=\"b\",\n",
    "           label=\"draw\")\n",
    "plt.scatter(x=data_scores.iloc[:,0][data_scores[\"Score\"]==1],y=data_scores.iloc[:,2][data_scores[\"Score\"]==1],color=\"g\",\n",
    "           label=\"Home-team won\") \n",
    "plt.scatter(x=data_scores.iloc[:,0][data_scores[\"Score\"]==2],y=data_scores.iloc[:,2][data_scores[\"Score\"]==2],color=\"r\",\n",
    "           label=\"Home-team lost\")\n",
    "plt.axis([-1,23,-1,18])\n",
    "plt.xticks(np.arange(0,24))\n",
    "plt.xlabel(\"Hometeam\",fontweight=\"bold\")\n",
    "plt.yticks(np.arange(0,24))\n",
    "plt.ylabel(\"Awayteam\",fontweight=\"bold\")\n",
    "plt.title(\"Bundesliga Score distributions\",fontsize=17)\n",
    "plt.legend()"
   ]
  },
  {
   "cell_type": "markdown",
   "metadata": {},
   "source": [
    "I still have to figure out how to manipulate my data better in order to enhance the model performance. Or maybe the classical ML algorthims are all prone to underfitting because they are too simple. But lets first think that its not that"
   ]
  },
  {
   "cell_type": "markdown",
   "metadata": {},
   "source": [
    "###### Making the model accessible to  the API"
   ]
  },
  {
   "cell_type": "code",
   "execution_count": 59,
   "metadata": {},
   "outputs": [],
   "source": [
    "import pickle"
   ]
  },
  {
   "cell_type": "code",
   "execution_count": 60,
   "metadata": {},
   "outputs": [],
   "source": [
    "pickle.dump(svm,open(\"bl_clf.pkl\",\"wb\"))"
   ]
  },
  {
   "cell_type": "code",
   "execution_count": 61,
   "metadata": {},
   "outputs": [],
   "source": [
    "model = pickle.load(open(\"bl_clf.pkl\",\"rb\"))"
   ]
  },
  {
   "cell_type": "code",
   "execution_count": null,
   "metadata": {},
   "outputs": [],
   "source": []
  }
 ],
 "metadata": {
  "kernelspec": {
   "display_name": "Python 3.7.3 32-bit",
   "language": "python",
   "name": "python37332bit4ff2cf3d40564f55a8d21052ee5a8ceb"
  },
  "language_info": {
   "codemirror_mode": {
    "name": "ipython",
    "version": 3
   },
   "file_extension": ".py",
   "mimetype": "text/x-python",
   "name": "python",
   "nbconvert_exporter": "python",
   "pygments_lexer": "ipython3",
   "version": "3.7.3"
  }
 },
 "nbformat": 4,
 "nbformat_minor": 4
}
